{
 "cells": [
  {
   "cell_type": "markdown",
   "metadata": {
    "nbgrader": {
     "grade": false,
     "grade_id": "cell-f960127429de42ef",
     "locked": true,
     "schema_version": 3,
     "solution": false,
     "task": false
    }
   },
   "source": [
    "# Objectives\n",
    "* Summarize how Seaborn and Pandas provide *wrappers* to create visualizations using Matplotlib\n",
    "* Understand when to use each type of graph (line charts, bar charts and heatmaps)\n",
    "* Use Seaborn to plot line charts, bar charts and heatmaps"
   ]
  },
  {
   "cell_type": "code",
   "execution_count": 2,
   "metadata": {
    "nbgrader": {
     "grade": false,
     "grade_id": "cell-935a4b809ac2b41b",
     "locked": true,
     "schema_version": 3,
     "solution": false,
     "task": false
    }
   },
   "outputs": [],
   "source": [
    "import numpy as np\n",
    "import pandas as pd\n",
    "import matplotlib.pyplot as plt\n",
    "import seaborn as sns"
   ]
  },
  {
   "cell_type": "markdown",
   "metadata": {
    "nbgrader": {
     "grade": false,
     "grade_id": "cell-c9d9531c4244c7e3",
     "locked": true,
     "schema_version": 3,
     "solution": false,
     "task": false
    }
   },
   "source": [
    "# 1. Pandas\n",
    "Let's refresh what we did from last lesson. Pandas provides functionality to work with missing values from data. \n",
    "\n",
    "### Reading a CSV File\n",
    "**Q1.1.** Use the `read_csv` function to read the 'PGA Stats.csv' file and we will do the following to help us plot the data: \n",
    "* set the index column to `PLAYER`\n",
    "* replace the null ('--') values from `AGE` and `EARNINGS`\n",
    "* remove the dollar signs from `EARNINGS`\n",
    "* remove the commas from `CUP POINTS`\n",
    "* fill the null `EARNINGS` values with 0"
   ]
  },
  {
   "cell_type": "code",
   "execution_count": 1,
   "metadata": {
    "nbgrader": {
     "grade": false,
     "grade_id": "pd1",
     "locked": false,
     "schema_version": 3,
     "solution": true,
     "task": false
    },
    "scrolled": true
   },
   "outputs": [],
   "source": [
    "# read 'PGA Stats.csv', set the index column, replace null values\n",
    "\n",
    "\n",
    "# remove $ and , from EARNINGS, change to float\n",
    "\n",
    "\n",
    "# remove , from CUP POINTS, change to float\n",
    "\n",
    "\n",
    "# fill null earnings with 0\n",
    "\n",
    "\n",
    "# inspect the first five rows\n",
    "\n"
   ]
  },
  {
   "cell_type": "code",
   "execution_count": 2,
   "metadata": {},
   "outputs": [],
   "source": [
    "# inspect column data types\n"
   ]
  },
  {
   "cell_type": "markdown",
   "metadata": {
    "nbgrader": {
     "grade": false,
     "grade_id": "cell-d1b5b1845093dd83",
     "locked": true,
     "schema_version": 3,
     "solution": false,
     "task": false
    }
   },
   "source": [
    "# 2. Data Visualization"
   ]
  },
  {
   "cell_type": "markdown",
   "metadata": {},
   "source": [
    "### Histogram\n",
    "In the following cells, we will use the seaborn module to create a histogram of events played. First, we must use the Square-root choice method to find the best number of bins. This method take the ceiling of the square root of the number of data points (n).\n",
    "\n",
    "**Q2.1.** Calculate the number of bins, where: \n",
    "bins = $\\lceil\\sqrt{n}\\rceil$"
   ]
  },
  {
   "cell_type": "code",
   "execution_count": 3,
   "metadata": {},
   "outputs": [],
   "source": [
    "# calculate the number of bins\n"
   ]
  },
  {
   "cell_type": "markdown",
   "metadata": {},
   "source": [
    "**Q2.2.** Plot the histogram of events played. "
   ]
  },
  {
   "cell_type": "code",
   "execution_count": 4,
   "metadata": {
    "nbgrader": {
     "grade": true,
     "grade_id": "sns1",
     "locked": false,
     "points": 1,
     "schema_version": 3,
     "solution": true,
     "task": false
    }
   },
   "outputs": [],
   "source": [
    "# plot a hisogram of EVENTS\n",
    "\n"
   ]
  },
  {
   "cell_type": "markdown",
   "metadata": {
    "nbgrader": {
     "grade": false,
     "grade_id": "cell-f3e3f8f0e5439fdf",
     "locked": true,
     "schema_version": 3,
     "solution": false,
     "task": false
    }
   },
   "source": [
    "There are many players in the dataset, like Tony Romo, who only play in a single tournament based on sponsor's exemptions. As you can see from `pga.info()` above, only 403 of 559 players have a recorded age. Also, before we replaced null earnings values with 0, we see that only 253 players earned money. \n",
    "\n",
    "**Q2.3.** Next, subset the data to those players who played in at least three events. Name the resulting DataFrame `pga_pros`. Use the `describe` method to view the summary statistics of each numeric column. "
   ]
  },
  {
   "cell_type": "code",
   "execution_count": 5,
   "metadata": {
    "nbgrader": {
     "grade": true,
     "grade_id": "sns2",
     "locked": false,
     "points": 1,
     "schema_version": 3,
     "solution": true,
     "task": false
    }
   },
   "outputs": [],
   "source": [
    "# subset events > 2\n",
    "\n"
   ]
  },
  {
   "cell_type": "markdown",
   "metadata": {
    "nbgrader": {
     "grade": false,
     "grade_id": "cell-6748f3593704f77d",
     "locked": true,
     "schema_version": 3,
     "solution": false,
     "task": false
    }
   },
   "source": [
    "**Q2.4.** In the below cell, create a scatter plot with Events on the x-axis and Earnings on the y-axis. Specify the horizontal axis label with 'Events Played' and the vertical axis label with 'Earnings'. Notice how I specified the y-axis ticks with a minimum of 0, a maximum of 10 million, and an interval of 2 million and customized the tick labels so they appear as \\\\$0M, \\\\$2M, etc."
   ]
  },
  {
   "cell_type": "code",
   "execution_count": 6,
   "metadata": {
    "nbgrader": {
     "grade": true,
     "grade_id": "sns3",
     "locked": false,
     "points": 1,
     "schema_version": 3,
     "solution": true,
     "task": false
    }
   },
   "outputs": [],
   "source": [
    "# scatter plot events vs earnings\n",
    "\n",
    "\n",
    "# add x and y labels\n",
    "\n",
    "\n",
    "# changing y-axis ticks\n",
    "plt.yticks([0, 2e6, 4e6, 6e6, 8e6, 10e6], ['$0M', '$2M', '$4M', '$6M', '$8M', '$10M'])\n",
    "plt.show()"
   ]
  }
 ],
 "metadata": {
  "celltoolbar": "Create Assignment",
  "kernelspec": {
   "display_name": "Python 3",
   "language": "python",
   "name": "python3"
  },
  "language_info": {
   "codemirror_mode": {
    "name": "ipython",
    "version": 3
   },
   "file_extension": ".py",
   "mimetype": "text/x-python",
   "name": "python",
   "nbconvert_exporter": "python",
   "pygments_lexer": "ipython3",
   "version": "3.8.5"
  }
 },
 "nbformat": 4,
 "nbformat_minor": 4
}
