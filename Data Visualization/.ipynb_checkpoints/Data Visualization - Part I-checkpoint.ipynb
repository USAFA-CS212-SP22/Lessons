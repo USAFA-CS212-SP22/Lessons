{
 "cells": [
  {
   "cell_type": "markdown",
   "metadata": {
    "nbgrader": {
     "grade": false,
     "grade_id": "cell-f960127429de42ef",
     "locked": true,
     "schema_version": 3,
     "solution": false,
     "task": false
    }
   },
   "source": [
    "# 1. Objectives\n",
    "1. Summarize how Seaborn and Pandas provide *wrappers* to create visualizations using Matplotlib\n",
    "2. Understand when to use each type of graph (line charts, bar charts and heatmaps)\n",
    "3. Use Seaborn to plot line charts, bar charts and heatmaps"
   ]
  },
  {
   "cell_type": "code",
   "execution_count": 2,
   "metadata": {
    "nbgrader": {
     "grade": false,
     "grade_id": "cell-935a4b809ac2b41b",
     "locked": true,
     "schema_version": 3,
     "solution": false,
     "task": false
    }
   },
   "outputs": [],
   "source": [
    "import numpy as np\n",
    "import pandas as pd\n",
    "import matplotlib.pyplot as plt\n",
    "import seaborn as sns"
   ]
  },
  {
   "cell_type": "markdown",
   "metadata": {
    "nbgrader": {
     "grade": false,
     "grade_id": "cell-c9d9531c4244c7e3",
     "locked": true,
     "schema_version": 3,
     "solution": false,
     "task": false
    }
   },
   "source": [
    "# 2. Pandas\n",
    "Let's refresh what we did from last lesson. Pandas provides functionality to work with table data. Most data is organized in rows and columns (think of an Excel Spreadsheet) and pandas uses the `DataFrame` object to represent that data. However, pandas is based on numpy and uses its computational efficiency for much of its functionality. The `Series` object is simply a `numpy.ndarray` that also has labels. A `DataFrame` is a collection of `Series` objects.\n",
    "\n",
    "### Reading a CSV File\n",
    "**Q1.1.** Use the `read_csv` function to read the 'PGA Stats.csv' file and we will do the following to help us plot the data: \n",
    "* set the index column to `PLAYER`\n",
    "* replace the null ('--') values from `AGE` and `EARNINGS`\n",
    "* remove the commas from `CUP POINTS`\n",
    "* remove the dollar signs from `EARNINGS`\n",
    "\n",
    "I can never remember all of the methods, attributes, parameters, etc. so use the [documentation](https://pandas.pydata.org/docs/reference/api/pandas.read_csv.html#pandas.read_csv) to help! Assign the resulting `DataFrame` to a variable named `pga`. Next, use the `head` method to inspect the first five lines of the file:"
   ]
  },
  {
   "cell_type": "code",
   "execution_count": 3,
   "metadata": {
    "nbgrader": {
     "grade": false,
     "grade_id": "pd1",
     "locked": false,
     "schema_version": 3,
     "solution": true,
     "task": false
    },
    "scrolled": true
   },
   "outputs": [
    {
     "data": {
      "text/html": [
       "<div>\n",
       "<style scoped>\n",
       "    .dataframe tbody tr th:only-of-type {\n",
       "        vertical-align: middle;\n",
       "    }\n",
       "\n",
       "    .dataframe tbody tr th {\n",
       "        vertical-align: top;\n",
       "    }\n",
       "\n",
       "    .dataframe thead th {\n",
       "        text-align: right;\n",
       "    }\n",
       "</style>\n",
       "<table border=\"1\" class=\"dataframe\">\n",
       "  <thead>\n",
       "    <tr style=\"text-align: right;\">\n",
       "      <th></th>\n",
       "      <th>RK</th>\n",
       "      <th>AGE</th>\n",
       "      <th>EVENTS</th>\n",
       "      <th>ROUNDS</th>\n",
       "      <th>CUTS MADE</th>\n",
       "      <th>TOP 10</th>\n",
       "      <th>WINS</th>\n",
       "      <th>CUP POINTS</th>\n",
       "      <th>EARNINGS</th>\n",
       "    </tr>\n",
       "    <tr>\n",
       "      <th>PLAYER</th>\n",
       "      <th></th>\n",
       "      <th></th>\n",
       "      <th></th>\n",
       "      <th></th>\n",
       "      <th></th>\n",
       "      <th></th>\n",
       "      <th></th>\n",
       "      <th></th>\n",
       "      <th></th>\n",
       "    </tr>\n",
       "  </thead>\n",
       "  <tbody>\n",
       "    <tr>\n",
       "      <th>Justin Thomas</th>\n",
       "      <td>1</td>\n",
       "      <td>25.0</td>\n",
       "      <td>23</td>\n",
       "      <td>82</td>\n",
       "      <td>21</td>\n",
       "      <td>10</td>\n",
       "      <td>3</td>\n",
       "      <td>1610</td>\n",
       "      <td>8694821.0</td>\n",
       "    </tr>\n",
       "    <tr>\n",
       "      <th>Dustin Johnson</th>\n",
       "      <td>2</td>\n",
       "      <td>34.0</td>\n",
       "      <td>20</td>\n",
       "      <td>74</td>\n",
       "      <td>19</td>\n",
       "      <td>12</td>\n",
       "      <td>3</td>\n",
       "      <td>2056</td>\n",
       "      <td>8457352.0</td>\n",
       "    </tr>\n",
       "    <tr>\n",
       "      <th>Justin Rose</th>\n",
       "      <td>3</td>\n",
       "      <td>38.0</td>\n",
       "      <td>18</td>\n",
       "      <td>66</td>\n",
       "      <td>17</td>\n",
       "      <td>11</td>\n",
       "      <td>2</td>\n",
       "      <td>2260</td>\n",
       "      <td>8130678.0</td>\n",
       "    </tr>\n",
       "    <tr>\n",
       "      <th>Bryson DeChambeau</th>\n",
       "      <td>4</td>\n",
       "      <td>25.0</td>\n",
       "      <td>26</td>\n",
       "      <td>93</td>\n",
       "      <td>22</td>\n",
       "      <td>9</td>\n",
       "      <td>3</td>\n",
       "      <td>2188</td>\n",
       "      <td>8094489.0</td>\n",
       "    </tr>\n",
       "    <tr>\n",
       "      <th>Brooks Koepka</th>\n",
       "      <td>5</td>\n",
       "      <td>28.0</td>\n",
       "      <td>17</td>\n",
       "      <td>62</td>\n",
       "      <td>15</td>\n",
       "      <td>6</td>\n",
       "      <td>2</td>\n",
       "      <td>1093</td>\n",
       "      <td>7094047.0</td>\n",
       "    </tr>\n",
       "  </tbody>\n",
       "</table>\n",
       "</div>"
      ],
      "text/plain": [
       "                   RK   AGE  EVENTS  ROUNDS  CUTS MADE  TOP 10  WINS  \\\n",
       "PLAYER                                                                 \n",
       "Justin Thomas       1  25.0      23      82         21      10     3   \n",
       "Dustin Johnson      2  34.0      20      74         19      12     3   \n",
       "Justin Rose         3  38.0      18      66         17      11     2   \n",
       "Bryson DeChambeau   4  25.0      26      93         22       9     3   \n",
       "Brooks Koepka       5  28.0      17      62         15       6     2   \n",
       "\n",
       "                   CUP POINTS   EARNINGS  \n",
       "PLAYER                                    \n",
       "Justin Thomas            1610  8694821.0  \n",
       "Dustin Johnson           2056  8457352.0  \n",
       "Justin Rose              2260  8130678.0  \n",
       "Bryson DeChambeau        2188  8094489.0  \n",
       "Brooks Koepka            1093  7094047.0  "
      ]
     },
     "execution_count": 3,
     "metadata": {},
     "output_type": "execute_result"
    }
   ],
   "source": [
    "# read 'PGA Stats.csv', set the index column, replace null values, remove the commas, replace $ with ''\n",
    "pga = pd.read_csv('PGA Stats.csv', index_col = 1, thousands = ',', na_values = '--')\n",
    "pga['EARNINGS'] = pga.EARNINGS.replace('[\\$,]', '', regex = True).astype(float)\n",
    "\n",
    "# inspect the first five rows\n"
   ]
  },
  {
   "cell_type": "markdown",
   "metadata": {},
   "source": [
    "**Q1.2.** Next, we will use the `info` method to verify how pandas is storing the data type of each column."
   ]
  },
  {
   "cell_type": "code",
   "execution_count": 4,
   "metadata": {
    "nbgrader": {
     "grade": false,
     "grade_id": "pd5",
     "locked": false,
     "schema_version": 3,
     "solution": true,
     "task": false
    }
   },
   "outputs": [
    {
     "name": "stdout",
     "output_type": "stream",
     "text": [
      "<class 'pandas.core.frame.DataFrame'>\n",
      "Index: 559 entries, Justin Thomas to Len Mattiace\n",
      "Data columns (total 9 columns):\n",
      " #   Column      Non-Null Count  Dtype  \n",
      "---  ------      --------------  -----  \n",
      " 0   RK          559 non-null    int64  \n",
      " 1   AGE         403 non-null    float64\n",
      " 2   EVENTS      559 non-null    int64  \n",
      " 3   ROUNDS      559 non-null    int64  \n",
      " 4   CUTS MADE   559 non-null    int64  \n",
      " 5   TOP 10      559 non-null    int64  \n",
      " 6   WINS        559 non-null    int64  \n",
      " 7   CUP POINTS  559 non-null    int64  \n",
      " 8   EARNINGS    253 non-null    float64\n",
      "dtypes: float64(2), int64(7)\n",
      "memory usage: 43.7+ KB\n"
     ]
    }
   ],
   "source": [
    "# inspect column data types\n"
   ]
  },
  {
   "cell_type": "markdown",
   "metadata": {
    "nbgrader": {
     "grade": false,
     "grade_id": "cell-d1b5b1845093dd83",
     "locked": true,
     "schema_version": 3,
     "solution": false,
     "task": false
    }
   },
   "source": [
    "# 3. Data Visualization\n",
    "In the Kaggle lessons, you are using the [seaborn](https://seaborn.pydata.org/introduction.html) package to create a variety of visualizations. However, seaborn is built on matplotlib and creates a matplotlib object. This is the reason we also import matplotlib.\n",
    "\n",
    "The functionality that seaborn provides is what is known as a *wrapper*. A *wrapper* uses functionality from one interface (in this case matplotlib) and provides a new interface that is either easier to use, more convenient, or provides more options to customize. Both seaborn and panda provide wrappers to create plots using matplotlib. However, more advanced customization may require using matplotlib directly. There are several examples of this in the Kaggle lessons.\n",
    "\n",
    "As a result, you may find it useful to have the documentation for each of these packages:\n",
    "* [seaborn documentation](https://seaborn.pydata.org/api.html#)\n",
    "* [pandas plotting documentation](https://pandas.pydata.org/docs/reference/api/pandas.DataFrame.plot.html?highlight=plot#pandas.DataFrame.plot)\n",
    "* [matplotlib documentation](https://matplotlib.org/contents.html#)"
   ]
  },
  {
   "cell_type": "markdown",
   "metadata": {},
   "source": [
    "### Bar Chart\n",
    "**Q2.1.** In the following cell, use the seaborn module to create a bar plot of earnings for each player. Since each player's name is the index (row labels), you can use `pga.index` to use those row labels as the argument for the `x` parameter."
   ]
  },
  {
   "cell_type": "code",
   "execution_count": 36,
   "metadata": {
    "nbgrader": {
     "grade": true,
     "grade_id": "sns1",
     "locked": false,
     "points": 1,
     "schema_version": 3,
     "solution": true,
     "task": false
    }
   },
   "outputs": [
    {
     "data": {
      "text/plain": [
       "<AxesSubplot:xlabel='PLAYER', ylabel='EARNINGS'>"
      ]
     },
     "execution_count": 36,
     "metadata": {},
     "output_type": "execute_result"
    },
    {
     "data": {
      "image/png": "[encoded data removed]",
      "text/plain": [
       "<Figure size 432x288 with 1 Axes>"
      ]
     },
     "metadata": {
      "needs_background": "light"
     },
     "output_type": "display_data"
    }
   ],
   "source": [
    "# plot a bar chart (x = player name, y = earnings)\n"
   ]
  },
  {
   "cell_type": "markdown",
   "metadata": {
    "nbgrader": {
     "grade": false,
     "grade_id": "cell-f3e3f8f0e5439fdf",
     "locked": true,
     "schema_version": 3,
     "solution": false,
     "task": false
    }
   },
   "source": [
    "**Q2.2.** This is less than helpful since there are so many players. Instead, let's only look at the top 10 players. **Remember: We can utilize `.iloc[]` to help us slice a pandas Series (just like list slicing!).**"
   ]
  },
  {
   "cell_type": "code",
   "execution_count": 37,
   "metadata": {
    "nbgrader": {
     "grade": true,
     "grade_id": "sns2",
     "locked": false,
     "points": 1,
     "schema_version": 3,
     "solution": true,
     "task": false
    }
   },
   "outputs": [
    {
     "data": {
      "image/png": "[encoded data removed]",
      "text/plain": [
       "<Figure size 432x288 with 1 Axes>"
      ]
     },
     "metadata": {
      "needs_background": "light"
     },
     "output_type": "display_data"
    }
   ],
   "source": [
    "# plot a bar chart for top 10 players\n"
   ]
  },
  {
   "cell_type": "markdown",
   "metadata": {
    "nbgrader": {
     "grade": false,
     "grade_id": "cell-6748f3593704f77d",
     "locked": true,
     "schema_version": 3,
     "solution": false,
     "task": false
    }
   },
   "source": [
    "**Q2.3.** Create a horizontal bar chart to make the player name be more visible. To do so, switch the `x` and `y` arguments."
   ]
  },
  {
   "cell_type": "code",
   "execution_count": 38,
   "metadata": {
    "nbgrader": {
     "grade": true,
     "grade_id": "sns3",
     "locked": false,
     "points": 1,
     "schema_version": 3,
     "solution": true,
     "task": false
    }
   },
   "outputs": [
    {
     "data": {
      "image/png": "[encoded data removed]",
      "text/plain": [
       "<Figure size 432x288 with 1 Axes>"
      ]
     },
     "metadata": {
      "needs_background": "light"
     },
     "output_type": "display_data"
    }
   ],
   "source": [
    "# flip x and y to make horizontal bar chart\n"
   ]
  },
  {
   "cell_type": "markdown",
   "metadata": {
    "nbgrader": {
     "grade": false,
     "grade_id": "cell-592b43553ead5800",
     "locked": true,
     "schema_version": 3,
     "solution": false,
     "task": false
    }
   },
   "source": [
    "**Q2.4.** Add a title to the chart: Top 10 Players by Earnings in 2018-2019\n",
    "\n",
    "We will also add `plt.show()` as the last statement so that we do not output the type of object each time (`<matplotlib.axes._subplots.AxesSubplot at ...>`)."
   ]
  },
  {
   "cell_type": "code",
   "execution_count": 39,
   "metadata": {
    "nbgrader": {
     "grade": true,
     "grade_id": "plt1",
     "locked": false,
     "points": 1,
     "schema_version": 3,
     "solution": true,
     "task": false
    }
   },
   "outputs": [
    {
     "data": {
      "image/png": "[encoded data removed]",
      "text/plain": [
       "<Figure size 432x288 with 1 Axes>"
      ]
     },
     "metadata": {
      "needs_background": "light"
     },
     "output_type": "display_data"
    }
   ],
   "source": [
    "# add title to bar chart\n",
    "\n",
    "plt.show()"
   ]
  },
  {
   "cell_type": "markdown",
   "metadata": {
    "nbgrader": {
     "grade": false,
     "grade_id": "cell-3ff5903bcbad63c0",
     "locked": true,
     "schema_version": 3,
     "solution": false,
     "task": false
    }
   },
   "source": [
    "One obvious question you may be asking yourself is how does matplotlib know to add the title to this figure? We are not assigning the result of the `barplot` function call to anything so how does this work?\n",
    "\n",
    "Matplotlib provides two different interfaces to its functionality:\n",
    "* explicitly create figures and axes and then call methods on them (what we are used to)\n",
    "* rely on `pyplot` to automatically create and manage the figures and axes (what you have seen so far)\n",
    "\n",
    "The matplotlib usage guide provides two useful descriptions you should skim:\n",
    "* the object-oriented interface vs the `pyplot` interface comparison and examples ([link](https://matplotlib.org/tutorials/introductory/usage.html#the-object-oriented-interface-and-the-pyplot-interface))\n",
    "* the anatomy of a visualization figure ([link](https://matplotlib.org/tutorials/introductory/usage.html#parts-of-a-figure))"
   ]
  },
  {
   "cell_type": "markdown",
   "metadata": {
    "nbgrader": {
     "grade": false,
     "grade_id": "cell-d5d83a95e90dac59",
     "locked": true,
     "schema_version": 3,
     "solution": false,
     "task": false
    }
   },
   "source": [
    "Pandas also provides a wrapper for creating matplotlib visualizations. The pandas wrapper is compelling because it is a method that acts on the `DataFrame` that you intend to plot. As a result, you do not need to explicitly reference the name of the `DataFrame` for each `Series` that you are going to plot. The below example creates the same plot:"
   ]
  },
  {
   "cell_type": "code",
   "execution_count": 40,
   "metadata": {
    "scrolled": true
   },
   "outputs": [
    {
     "data": {
      "image/png": "[encoded data removed]",
      "text/plain": [
       "<Figure size 432x288 with 1 Axes>"
      ]
     },
     "metadata": {
      "needs_background": "light"
     },
     "output_type": "display_data"
    }
   ],
   "source": [
    "pga.iloc[:10].plot(kind='barh', y='EARNINGS')\n",
    "plt.show()"
   ]
  },
  {
   "cell_type": "markdown",
   "metadata": {},
   "source": [
    "# 3. Baby Name Visualization"
   ]
  },
  {
   "cell_type": "markdown",
   "metadata": {},
   "source": [
    "**Q3.1.** Use the `read_csv` function to read the 'babynames.csv' file and set the index to the column `Id`."
   ]
  },
  {
   "cell_type": "code",
   "execution_count": 1,
   "metadata": {},
   "outputs": [],
   "source": [
    "# read file\n",
    "\n",
    "\n",
    "# set index to Id\n",
    "\n",
    "\n",
    "# inspect\n"
   ]
  },
  {
   "cell_type": "markdown",
   "metadata": {},
   "source": [
    "**Q3.2.** Remember we can use a Boolean expression inside of the `.loc` operator and it will return only the rows where the Boolean expression is `True`. In the below code cell, output only those rows where the Name value is 'Kevin'."
   ]
  },
  {
   "cell_type": "code",
   "execution_count": null,
   "metadata": {},
   "outputs": [],
   "source": []
  },
  {
   "cell_type": "markdown",
   "metadata": {},
   "source": [
    "**Q3.3.** Now, let's visualize the trend of this name over time using either Seaborn, Pandas, or Maptplotlib directly. Remember, use `plt.show()` to only output the figure."
   ]
  },
  {
   "cell_type": "code",
   "execution_count": 3,
   "metadata": {},
   "outputs": [],
   "source": [
    "# plot the trend of Kevin\n",
    "\n",
    "# plt.show()"
   ]
  },
  {
   "cell_type": "markdown",
   "metadata": {},
   "source": [
    "Why is there a band around the data? Seaborn, by default, will include error bounds when there are multiple values for each x-value. In this case, there was a period of time that girls were named 'Kevin' as well as boys so there were two values for those years. You may have picked up on this by the number of rows in the earlier DataFrame, but visualizing the data helps illuminate subtle details that you may not have noticed otherwise.\n",
    "\n",
    "**Q3.4.** Again, plot the trend of the popularity of the name 'Kevin' over time, but limit the results where Gender is male. Do not forget to include parenthesis."
   ]
  },
  {
   "cell_type": "code",
   "execution_count": null,
   "metadata": {},
   "outputs": [],
   "source": [
    "# plot the trend of Kevin where Gender is M\n",
    "\n",
    "# plt.show()"
   ]
  }
 ],
 "metadata": {
  "celltoolbar": "Create Assignment",
  "kernelspec": {
   "display_name": "Python 3",
   "language": "python",
   "name": "python3"
  },
  "language_info": {
   "codemirror_mode": {
    "name": "ipython",
    "version": 3
   },
   "file_extension": ".py",
   "mimetype": "text/x-python",
   "name": "python",
   "nbconvert_exporter": "python",
   "pygments_lexer": "ipython3",
   "version": "3.8.5"
  }
 },
 "nbformat": 4,
 "nbformat_minor": 4
}
