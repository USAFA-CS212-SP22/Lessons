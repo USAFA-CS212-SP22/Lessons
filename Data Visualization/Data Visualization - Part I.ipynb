{
 "cells": [
  {
   "cell_type": "markdown",
   "metadata": {
    "nbgrader": {
     "grade": false,
     "grade_id": "cell-f960127429de42ef",
     "locked": true,
     "schema_version": 3,
     "solution": false,
     "task": false
    }
   },
   "source": [
    "# Objectives\n",
    "* Understand when to use each type of graph (line charts, bar charts and heatmaps)\n",
    "* Use Seaborn to plot line charts, bar charts and heatmaps"
   ]
  },
  {
   "cell_type": "code",
   "execution_count": 5,
   "metadata": {
    "nbgrader": {
     "grade": false,
     "grade_id": "cell-935a4b809ac2b41b",
     "locked": true,
     "schema_version": 3,
     "solution": false,
     "task": false
    }
   },
   "outputs": [],
   "source": [
    "import numpy as np\n",
    "import pandas as pd\n",
    "import matplotlib.pyplot as plt\n",
    "import seaborn as sns"
   ]
  },
  {
   "cell_type": "markdown",
   "metadata": {
    "nbgrader": {
     "grade": false,
     "grade_id": "cell-c9d9531c4244c7e3",
     "locked": true,
     "schema_version": 3,
     "solution": false,
     "task": false
    }
   },
   "source": [
    "# 1. Pandas\n",
    "Let's refresh what we did from the last couple lessons. Pandas provides functionality to work with table data. Most data is organized in rows and columns (think of an Excel Spreadsheet) and pandas uses the `DataFrame` object to represent that data. However, pandas is based on numpy and uses its computational efficiency for much of its functionality. The `Series` object is simply a `numpy.ndarray` that also has labels. A `DataFrame` is a collection of `Series` objects.\n",
    "\n",
    "### Reading a CSV File\n",
    "**Q1.1.** Use the `read_csv` function to read the 'PGA Stats.csv' file and set the `PLAYER` column to the index. Inspect the first five rows."
   ]
  },
  {
   "cell_type": "code",
   "execution_count": 6,
   "metadata": {},
   "outputs": [],
   "source": [
    "# read 'PGA Stats.csv' and set the index column\n"
   ]
  },
  {
   "cell_type": "markdown",
   "metadata": {},
   "source": [
    "**Q1.2.** Use the `info` method to inspect the types of objects in the columns."
   ]
  },
  {
   "cell_type": "code",
   "execution_count": 7,
   "metadata": {},
   "outputs": [],
   "source": [
    "# inspect the column data types\n"
   ]
  },
  {
   "cell_type": "markdown",
   "metadata": {},
   "source": [
    "Notice that the `AGE`, `CUP POINTS`, and `EARNINGS` columns are not integers or floats and are object columns. This is alarming because each of those columns should include numbers. We will now do the following to correct those issues and help us plot the data: \n",
    "* replace the null ('--') values from `AGE` and `EARNINGS`\n",
    "* remove the commas from `CUP POINTS`\n",
    "* remove the dollar signs from `EARNINGS`\n",
    "\n",
    "I can never remember all of the methods, attributes, parameters, etc. so use the [documentation](https://pandas.pydata.org/docs/reference/api/pandas.read_csv.html#pandas.read_csv) to help! Assign the resulting `DataFrame` to a variable named `pga`. Next, use the `head` method to inspect the first five lines of the file:"
   ]
  },
  {
   "cell_type": "code",
   "execution_count": 8,
   "metadata": {
    "nbgrader": {
     "grade": false,
     "grade_id": "pd1",
     "locked": false,
     "schema_version": 3,
     "solution": true,
     "task": false
    },
    "scrolled": true
   },
   "outputs": [],
   "source": [
    "# read 'PGA Stats.csv', set the index column, replace null values, remove the commas, replace $ with ''\n",
    "\n",
    "\n",
    "# inspect the first five rows\n"
   ]
  },
  {
   "cell_type": "markdown",
   "metadata": {},
   "source": [
    "**Q1.3.** Next, we will use the `info` method to verify how pandas is storing the data type of each column."
   ]
  },
  {
   "cell_type": "code",
   "execution_count": 9,
   "metadata": {
    "nbgrader": {
     "grade": false,
     "grade_id": "pd5",
     "locked": false,
     "schema_version": 3,
     "solution": true,
     "task": false
    }
   },
   "outputs": [],
   "source": [
    "# inspect column data types\n"
   ]
  },
  {
   "cell_type": "markdown",
   "metadata": {
    "nbgrader": {
     "grade": false,
     "grade_id": "cell-d1b5b1845093dd83",
     "locked": true,
     "schema_version": 3,
     "solution": false,
     "task": false
    }
   },
   "source": [
    "# 2. Data Visualization\n",
    "In the Kaggle lessons, you are using the [seaborn](https://seaborn.pydata.org/introduction.html) package to create a variety of visualizations. However, seaborn is built on matplotlib and creates a matplotlib object. This is the reason we also import matplotlib.\n",
    "\n",
    "The functionality that seaborn provides is what is known as a *wrapper*. A *wrapper* uses functionality from one interface (in this case matplotlib) and provides a new interface that is either easier to use, more convenient, or provides more options to customize. Both seaborn and panda provide wrappers to create plots using matplotlib. However, more advanced customization may require using matplotlib directly. There are several examples of this in the Kaggle lessons.\n",
    "\n",
    "As a result, you may find it useful to have the documentation for each of these packages:\n",
    "* [seaborn documentation](https://seaborn.pydata.org/api.html#)\n",
    "* [pandas plotting documentation](https://pandas.pydata.org/docs/reference/api/pandas.DataFrame.plot.html?highlight=plot#pandas.DataFrame.plot)\n",
    "* [matplotlib documentation](https://matplotlib.org/contents.html#)"
   ]
  },
  {
   "cell_type": "markdown",
   "metadata": {},
   "source": [
    "### Bar Chart\n",
    "**Q2.1.** In the following cell, use the seaborn module to create a bar plot of earnings for each player. Since each player's name is the index (row labels), you can use `pga.index` to use those row labels as the argument for the `x` parameter."
   ]
  },
  {
   "cell_type": "code",
   "execution_count": 10,
   "metadata": {
    "nbgrader": {
     "grade": true,
     "grade_id": "sns1",
     "locked": false,
     "points": 1,
     "schema_version": 3,
     "solution": true,
     "task": false
    }
   },
   "outputs": [],
   "source": [
    "# plot a bar chart (x = player name, y = earnings)\n"
   ]
  },
  {
   "cell_type": "markdown",
   "metadata": {
    "nbgrader": {
     "grade": false,
     "grade_id": "cell-f3e3f8f0e5439fdf",
     "locked": true,
     "schema_version": 3,
     "solution": false,
     "task": false
    }
   },
   "source": [
    "**Q2.2.** This is less than helpful since there are so many players. Instead, let's only look at the top 10 players. **Remember: We can utilize `.iloc[]` to help us slice a pandas Series (just like list slicing!).**"
   ]
  },
  {
   "cell_type": "code",
   "execution_count": 11,
   "metadata": {
    "nbgrader": {
     "grade": true,
     "grade_id": "sns2",
     "locked": false,
     "points": 1,
     "schema_version": 3,
     "solution": true,
     "task": false
    }
   },
   "outputs": [],
   "source": [
    "# plot a bar chart for top 10 players\n"
   ]
  },
  {
   "cell_type": "markdown",
   "metadata": {
    "nbgrader": {
     "grade": false,
     "grade_id": "cell-6748f3593704f77d",
     "locked": true,
     "schema_version": 3,
     "solution": false,
     "task": false
    }
   },
   "source": [
    "**Q2.3.** Create a horizontal bar chart to make the player name be more visible. To do so, switch the `x` and `y` arguments."
   ]
  },
  {
   "cell_type": "code",
   "execution_count": 12,
   "metadata": {
    "nbgrader": {
     "grade": true,
     "grade_id": "sns3",
     "locked": false,
     "points": 1,
     "schema_version": 3,
     "solution": true,
     "task": false
    }
   },
   "outputs": [],
   "source": [
    "# flip x and y to make horizontal bar chart\n"
   ]
  },
  {
   "cell_type": "markdown",
   "metadata": {
    "nbgrader": {
     "grade": false,
     "grade_id": "cell-592b43553ead5800",
     "locked": true,
     "schema_version": 3,
     "solution": false,
     "task": false
    }
   },
   "source": [
    "**Q2.4.** Add a title to the chart: Top 10 Players by Earnings in 2018-2019\n",
    "\n",
    "We will also add `plt.show()` as the last statement so that we do not output the type of object each time (`<matplotlib.axes._subplots.AxesSubplot at ...>`)."
   ]
  },
  {
   "cell_type": "code",
   "execution_count": 13,
   "metadata": {
    "nbgrader": {
     "grade": true,
     "grade_id": "plt1",
     "locked": false,
     "points": 1,
     "schema_version": 3,
     "solution": true,
     "task": false
    }
   },
   "outputs": [],
   "source": [
    "# add title to bar chart\n",
    "\n",
    "plt.show()"
   ]
  },
  {
   "cell_type": "markdown",
   "metadata": {
    "nbgrader": {
     "grade": false,
     "grade_id": "cell-3ff5903bcbad63c0",
     "locked": true,
     "schema_version": 3,
     "solution": false,
     "task": false
    }
   },
   "source": [
    "One obvious question you may be asking yourself is how does matplotlib know to add the title to this figure? We are not assigning the result of the `barplot` function call to anything so how does this work?\n",
    "\n",
    "Matplotlib provides two different interfaces to its functionality:\n",
    "* explicitly create figures and axes and then call methods on them (what we are used to)\n",
    "* rely on `pyplot` to automatically create and manage the figures and axes (what you have seen so far)\n",
    "\n",
    "The matplotlib usage guide provides two useful descriptions you should skim:\n",
    "* the object-oriented interface vs the `pyplot` interface comparison and examples ([link](https://matplotlib.org/tutorials/introductory/usage.html#the-object-oriented-interface-and-the-pyplot-interface))\n",
    "* the anatomy of a visualization figure ([link](https://matplotlib.org/tutorials/introductory/usage.html#parts-of-a-figure))"
   ]
  },
  {
   "cell_type": "markdown",
   "metadata": {
    "nbgrader": {
     "grade": false,
     "grade_id": "cell-d5d83a95e90dac59",
     "locked": true,
     "schema_version": 3,
     "solution": false,
     "task": false
    }
   },
   "source": [
    "Pandas also provides a wrapper for creating matplotlib visualizations. The pandas wrapper is compelling because it is a method that acts on the `DataFrame` that you intend to plot. As a result, you do not need to explicitly reference the name of the `DataFrame` for each `Series` that you are going to plot. The below example creates the same plot:"
   ]
  },
  {
   "cell_type": "code",
   "execution_count": 14,
   "metadata": {
    "scrolled": true
   },
   "outputs": [
    {
     "data": {
      "image/png": "[encoded data removed]",
      "text/plain": [
       "<Figure size 432x288 with 1 Axes>"
      ]
     },
     "metadata": {
      "needs_background": "light"
     },
     "output_type": "display_data"
    }
   ],
   "source": [
    "pga.iloc[:10].plot(kind='barh', y='EARNINGS')\n",
    "plt.show()"
   ]
  },
  {
   "cell_type": "markdown",
   "metadata": {},
   "source": [
    "# 3. Baby Name Visualization"
   ]
  },
  {
   "cell_type": "markdown",
   "metadata": {},
   "source": [
    "**Q3.1.** Use the `read_csv` function to read the 'babynames.csv' file and assign the returned DataFrame to the variable `names`. Using the `set_index` DataFrame mathod, set the index to the column `Id`."
   ]
  },
  {
   "cell_type": "code",
   "execution_count": 15,
   "metadata": {},
   "outputs": [],
   "source": [
    "# read file\n",
    "\n",
    "# inspect\n"
   ]
  },
  {
   "cell_type": "markdown",
   "metadata": {},
   "source": [
    "**Q3.2.** Remember we can use a Boolean expression inside of the `.loc` operator and it will return only the rows where the Boolean expression is `True`. In the below code cell, output only those rows where the Name value is 'Kevin'."
   ]
  },
  {
   "cell_type": "code",
   "execution_count": null,
   "metadata": {},
   "outputs": [],
   "source": []
  },
  {
   "cell_type": "markdown",
   "metadata": {},
   "source": [
    "**Q3.3.** Now, let's visualize the trend of this name over time using either Seaborn, Pandas, or Maptplotlib directly. Remember, use `plt.show()` to only output the figure."
   ]
  },
  {
   "cell_type": "code",
   "execution_count": 16,
   "metadata": {},
   "outputs": [],
   "source": [
    "# plot the trend of Kevin\n",
    "\n",
    "# plt.show()"
   ]
  },
  {
   "cell_type": "markdown",
   "metadata": {},
   "source": [
    "Why is there a band around the data? Seaborn, by default, will include error bounds when there are multiple values for each x-value. In this case, there was a period of time that girls were named 'Kevin' as well as boys so there were two values for those years. You may have picked up on this by the number of rows in the earlier DataFrame, but visualizing the data helps illuminate subtle details that you may not have noticed otherwise.\n",
    "\n",
    "**Q3.4.** Again, plot the trend of the popularity of the name 'Kevin' over time, but limit the results where Gender is male. Do not forget to include parenthesis."
   ]
  },
  {
   "cell_type": "code",
   "execution_count": 17,
   "metadata": {},
   "outputs": [],
   "source": [
    "# plot the trend of Kevin where Gender is M\n",
    "\n",
    "# plt.show()"
   ]
  }
 ],
 "metadata": {
  "celltoolbar": "Create Assignment",
  "kernelspec": {
   "display_name": "Python 3",
   "language": "python",
   "name": "python3"
  },
  "language_info": {
   "codemirror_mode": {
    "name": "ipython",
    "version": 3
   },
   "file_extension": ".py",
   "mimetype": "text/x-python",
   "name": "python",
   "nbconvert_exporter": "python",
   "pygments_lexer": "ipython3",
   "version": "3.8.8"
  }
 },
 "nbformat": 4,
 "nbformat_minor": 4
}
