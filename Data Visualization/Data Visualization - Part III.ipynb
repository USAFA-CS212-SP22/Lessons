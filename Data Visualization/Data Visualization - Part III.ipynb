{
 "cells": [
  {
   "cell_type": "markdown",
   "metadata": {
    "nbgrader": {
     "grade": false,
     "grade_id": "pex_overview",
     "locked": true,
     "schema_version": 3,
     "solution": false,
     "task": false
    }
   },
   "source": [
    "# Objectives\n",
    "1. Summarize how interactive plots can be useful to Decision Makers\n",
    "2. Differentiate between exploratory data visualization and data visualization to illustrates analysis results\n",
    "3. Use Dash to create interactive plots"
   ]
  },
  {
   "cell_type": "markdown",
   "metadata": {
    "nbgrader": {
     "grade": false,
     "grade_id": "header1",
     "locked": true,
     "schema_version": 3,
     "solution": false,
     "task": false
    }
   },
   "source": [
    "# COVID Case Study"
   ]
  },
  {
   "cell_type": "code",
   "execution_count": 1,
   "metadata": {
    "nbgrader": {
     "grade": false,
     "grade_id": "cell-91590a62c9bc7c4d",
     "locked": true,
     "schema_version": 3,
     "solution": false,
     "task": false
    },
    "scrolled": true
   },
   "outputs": [],
   "source": [
    "# Import packages for data manipulation and visualization\n",
    "import numpy as np\n",
    "import pandas as pd\n",
    "import seaborn as sns\n",
    "import matplotlib.pyplot as plt\n",
    "import plotly.express as px"
   ]
  },
  {
   "cell_type": "markdown",
   "metadata": {
    "nbgrader": {
     "grade": false,
     "grade_id": "cell-fee9a2963f2d9d76",
     "locked": true,
     "schema_version": 3,
     "solution": false,
     "task": false
    }
   },
   "source": [
    "### Load and Inspect Data\n",
    "[Read](https://pandas.pydata.org/pandas-docs/stable/reference/api/pandas.read_csv.html) the two COVID-19 global .csv files using the URLs above to DataFrames named `cases` and `deaths`, respectively. Additionally, read the `population.csv` file to a DataFrame named `population`. Remember, the file must be in the same directory as this Jupyter Notebook or you must specify the entire file path. Inspect the first five rows of the `cases`.\n",
    "\n",
    "**Part 1 has already been completed for you.  Run all the cells up to Part 2.**"
   ]
  },
  {
   "cell_type": "code",
   "execution_count": 2,
   "metadata": {
    "nbgrader": {
     "grade": false,
     "grade_id": "load1",
     "locked": false,
     "schema_version": 3,
     "solution": true,
     "task": false
    }
   },
   "outputs": [
    {
     "data": {
      "text/html": [
       "<div>\n",
       "<style scoped>\n",
       "    .dataframe tbody tr th:only-of-type {\n",
       "        vertical-align: middle;\n",
       "    }\n",
       "\n",
       "    .dataframe tbody tr th {\n",
       "        vertical-align: top;\n",
       "    }\n",
       "\n",
       "    .dataframe thead th {\n",
       "        text-align: right;\n",
       "    }\n",
       "</style>\n",
       "<table border=\"1\" class=\"dataframe\">\n",
       "  <thead>\n",
       "    <tr style=\"text-align: right;\">\n",
       "      <th></th>\n",
       "      <th>Province/State</th>\n",
       "      <th>Country/Region</th>\n",
       "      <th>Lat</th>\n",
       "      <th>Long</th>\n",
       "      <th>1/22/20</th>\n",
       "      <th>1/23/20</th>\n",
       "      <th>1/24/20</th>\n",
       "      <th>1/25/20</th>\n",
       "      <th>1/26/20</th>\n",
       "      <th>1/27/20</th>\n",
       "      <th>...</th>\n",
       "      <th>4/6/21</th>\n",
       "      <th>4/7/21</th>\n",
       "      <th>4/8/21</th>\n",
       "      <th>4/9/21</th>\n",
       "      <th>4/10/21</th>\n",
       "      <th>4/11/21</th>\n",
       "      <th>4/12/21</th>\n",
       "      <th>4/13/21</th>\n",
       "      <th>4/14/21</th>\n",
       "      <th>4/15/21</th>\n",
       "    </tr>\n",
       "  </thead>\n",
       "  <tbody>\n",
       "    <tr>\n",
       "      <th>0</th>\n",
       "      <td>NaN</td>\n",
       "      <td>Afghanistan</td>\n",
       "      <td>33.93911</td>\n",
       "      <td>67.709953</td>\n",
       "      <td>0</td>\n",
       "      <td>0</td>\n",
       "      <td>0</td>\n",
       "      <td>0</td>\n",
       "      <td>0</td>\n",
       "      <td>0</td>\n",
       "      <td>...</td>\n",
       "      <td>56779</td>\n",
       "      <td>56873</td>\n",
       "      <td>56943</td>\n",
       "      <td>57019</td>\n",
       "      <td>57144</td>\n",
       "      <td>57160</td>\n",
       "      <td>57242</td>\n",
       "      <td>57364</td>\n",
       "      <td>57492</td>\n",
       "      <td>57534</td>\n",
       "    </tr>\n",
       "    <tr>\n",
       "      <th>1</th>\n",
       "      <td>NaN</td>\n",
       "      <td>Albania</td>\n",
       "      <td>41.15330</td>\n",
       "      <td>20.168300</td>\n",
       "      <td>0</td>\n",
       "      <td>0</td>\n",
       "      <td>0</td>\n",
       "      <td>0</td>\n",
       "      <td>0</td>\n",
       "      <td>0</td>\n",
       "      <td>...</td>\n",
       "      <td>126936</td>\n",
       "      <td>127192</td>\n",
       "      <td>127509</td>\n",
       "      <td>127795</td>\n",
       "      <td>128155</td>\n",
       "      <td>128393</td>\n",
       "      <td>128518</td>\n",
       "      <td>128752</td>\n",
       "      <td>128959</td>\n",
       "      <td>129128</td>\n",
       "    </tr>\n",
       "    <tr>\n",
       "      <th>2</th>\n",
       "      <td>NaN</td>\n",
       "      <td>Algeria</td>\n",
       "      <td>28.03390</td>\n",
       "      <td>1.659600</td>\n",
       "      <td>0</td>\n",
       "      <td>0</td>\n",
       "      <td>0</td>\n",
       "      <td>0</td>\n",
       "      <td>0</td>\n",
       "      <td>0</td>\n",
       "      <td>...</td>\n",
       "      <td>117879</td>\n",
       "      <td>118004</td>\n",
       "      <td>118116</td>\n",
       "      <td>118251</td>\n",
       "      <td>118378</td>\n",
       "      <td>118516</td>\n",
       "      <td>118645</td>\n",
       "      <td>118799</td>\n",
       "      <td>118975</td>\n",
       "      <td>119142</td>\n",
       "    </tr>\n",
       "    <tr>\n",
       "      <th>3</th>\n",
       "      <td>NaN</td>\n",
       "      <td>Andorra</td>\n",
       "      <td>42.50630</td>\n",
       "      <td>1.521800</td>\n",
       "      <td>0</td>\n",
       "      <td>0</td>\n",
       "      <td>0</td>\n",
       "      <td>0</td>\n",
       "      <td>0</td>\n",
       "      <td>0</td>\n",
       "      <td>...</td>\n",
       "      <td>12328</td>\n",
       "      <td>12363</td>\n",
       "      <td>12409</td>\n",
       "      <td>12456</td>\n",
       "      <td>12497</td>\n",
       "      <td>12545</td>\n",
       "      <td>12581</td>\n",
       "      <td>12614</td>\n",
       "      <td>12641</td>\n",
       "      <td>12641</td>\n",
       "    </tr>\n",
       "    <tr>\n",
       "      <th>4</th>\n",
       "      <td>NaN</td>\n",
       "      <td>Angola</td>\n",
       "      <td>-11.20270</td>\n",
       "      <td>17.873900</td>\n",
       "      <td>0</td>\n",
       "      <td>0</td>\n",
       "      <td>0</td>\n",
       "      <td>0</td>\n",
       "      <td>0</td>\n",
       "      <td>0</td>\n",
       "      <td>...</td>\n",
       "      <td>22885</td>\n",
       "      <td>23010</td>\n",
       "      <td>23108</td>\n",
       "      <td>23242</td>\n",
       "      <td>23331</td>\n",
       "      <td>23457</td>\n",
       "      <td>23549</td>\n",
       "      <td>23697</td>\n",
       "      <td>23841</td>\n",
       "      <td>23951</td>\n",
       "    </tr>\n",
       "  </tbody>\n",
       "</table>\n",
       "<p>5 rows × 454 columns</p>\n",
       "</div>"
      ],
      "text/plain": [
       "  Province/State Country/Region       Lat       Long  1/22/20  1/23/20  \\\n",
       "0            NaN    Afghanistan  33.93911  67.709953        0        0   \n",
       "1            NaN        Albania  41.15330  20.168300        0        0   \n",
       "2            NaN        Algeria  28.03390   1.659600        0        0   \n",
       "3            NaN        Andorra  42.50630   1.521800        0        0   \n",
       "4            NaN         Angola -11.20270  17.873900        0        0   \n",
       "\n",
       "   1/24/20  1/25/20  1/26/20  1/27/20  ...  4/6/21  4/7/21  4/8/21  4/9/21  \\\n",
       "0        0        0        0        0  ...   56779   56873   56943   57019   \n",
       "1        0        0        0        0  ...  126936  127192  127509  127795   \n",
       "2        0        0        0        0  ...  117879  118004  118116  118251   \n",
       "3        0        0        0        0  ...   12328   12363   12409   12456   \n",
       "4        0        0        0        0  ...   22885   23010   23108   23242   \n",
       "\n",
       "   4/10/21  4/11/21  4/12/21  4/13/21  4/14/21  4/15/21  \n",
       "0    57144    57160    57242    57364    57492    57534  \n",
       "1   128155   128393   128518   128752   128959   129128  \n",
       "2   118378   118516   118645   118799   118975   119142  \n",
       "3    12497    12545    12581    12614    12641    12641  \n",
       "4    23331    23457    23549    23697    23841    23951  \n",
       "\n",
       "[5 rows x 454 columns]"
      ]
     },
     "execution_count": 2,
     "metadata": {},
     "output_type": "execute_result"
    }
   ],
   "source": [
    "cases = pd.read_csv('https://raw.githubusercontent.com/CSSEGISandData/COVID-19/master/csse_covid_19_data/csse_covid_19_time_series/time_series_covid19_confirmed_global.csv')\n",
    "deaths = pd.read_csv('https://raw.githubusercontent.com/CSSEGISandData/COVID-19/master/csse_covid_19_data/csse_covid_19_time_series/time_series_covid19_deaths_global.csv')\n",
    "population = pd.read_csv('population.csv')\n",
    "cases.head()"
   ]
  },
  {
   "cell_type": "markdown",
   "metadata": {
    "nbgrader": {
     "grade": false,
     "grade_id": "cell-1d3a0620c5e345ca",
     "locked": true,
     "schema_version": 3,
     "solution": false,
     "task": false
    }
   },
   "source": [
    "# 2. Manipulating our Data Into Tidy Data"
   ]
  },
  {
   "cell_type": "code",
   "execution_count": 3,
   "metadata": {
    "nbgrader": {
     "grade": false,
     "grade_id": "step1",
     "locked": false,
     "schema_version": 3,
     "solution": true,
     "task": false
    }
   },
   "outputs": [],
   "source": [
    "cases = cases.rename(columns={\"Country/Region\": \"country\"})\n",
    "deaths = deaths.rename(columns={\"Country/Region\": \"country\"})"
   ]
  },
  {
   "cell_type": "code",
   "execution_count": 4,
   "metadata": {
    "nbgrader": {
     "grade": false,
     "grade_id": "step2",
     "locked": false,
     "schema_version": 3,
     "solution": true,
     "task": false
    }
   },
   "outputs": [],
   "source": [
    "country_cases = cases.drop(['Province/State', 'Lat', 'Long'], axis=1)\n",
    "country_deaths = deaths.drop(['Province/State', 'Lat', 'Long'], axis=1)"
   ]
  },
  {
   "cell_type": "code",
   "execution_count": 5,
   "metadata": {
    "nbgrader": {
     "grade": false,
     "grade_id": "step3",
     "locked": false,
     "schema_version": 3,
     "solution": true,
     "task": false
    },
    "scrolled": false
   },
   "outputs": [
    {
     "data": {
      "text/html": [
       "<div>\n",
       "<style scoped>\n",
       "    .dataframe tbody tr th:only-of-type {\n",
       "        vertical-align: middle;\n",
       "    }\n",
       "\n",
       "    .dataframe tbody tr th {\n",
       "        vertical-align: top;\n",
       "    }\n",
       "\n",
       "    .dataframe thead th {\n",
       "        text-align: right;\n",
       "    }\n",
       "</style>\n",
       "<table border=\"1\" class=\"dataframe\">\n",
       "  <thead>\n",
       "    <tr style=\"text-align: right;\">\n",
       "      <th></th>\n",
       "      <th>1/22/20</th>\n",
       "      <th>1/23/20</th>\n",
       "      <th>1/24/20</th>\n",
       "      <th>1/25/20</th>\n",
       "      <th>1/26/20</th>\n",
       "      <th>1/27/20</th>\n",
       "      <th>1/28/20</th>\n",
       "      <th>1/29/20</th>\n",
       "      <th>1/30/20</th>\n",
       "      <th>1/31/20</th>\n",
       "      <th>...</th>\n",
       "      <th>4/6/21</th>\n",
       "      <th>4/7/21</th>\n",
       "      <th>4/8/21</th>\n",
       "      <th>4/9/21</th>\n",
       "      <th>4/10/21</th>\n",
       "      <th>4/11/21</th>\n",
       "      <th>4/12/21</th>\n",
       "      <th>4/13/21</th>\n",
       "      <th>4/14/21</th>\n",
       "      <th>4/15/21</th>\n",
       "    </tr>\n",
       "    <tr>\n",
       "      <th>country</th>\n",
       "      <th></th>\n",
       "      <th></th>\n",
       "      <th></th>\n",
       "      <th></th>\n",
       "      <th></th>\n",
       "      <th></th>\n",
       "      <th></th>\n",
       "      <th></th>\n",
       "      <th></th>\n",
       "      <th></th>\n",
       "      <th></th>\n",
       "      <th></th>\n",
       "      <th></th>\n",
       "      <th></th>\n",
       "      <th></th>\n",
       "      <th></th>\n",
       "      <th></th>\n",
       "      <th></th>\n",
       "      <th></th>\n",
       "      <th></th>\n",
       "      <th></th>\n",
       "    </tr>\n",
       "  </thead>\n",
       "  <tbody>\n",
       "    <tr>\n",
       "      <th>Afghanistan</th>\n",
       "      <td>0</td>\n",
       "      <td>0</td>\n",
       "      <td>0</td>\n",
       "      <td>0</td>\n",
       "      <td>0</td>\n",
       "      <td>0</td>\n",
       "      <td>0</td>\n",
       "      <td>0</td>\n",
       "      <td>0</td>\n",
       "      <td>0</td>\n",
       "      <td>...</td>\n",
       "      <td>56779</td>\n",
       "      <td>56873</td>\n",
       "      <td>56943</td>\n",
       "      <td>57019</td>\n",
       "      <td>57144</td>\n",
       "      <td>57160</td>\n",
       "      <td>57242</td>\n",
       "      <td>57364</td>\n",
       "      <td>57492</td>\n",
       "      <td>57534</td>\n",
       "    </tr>\n",
       "    <tr>\n",
       "      <th>Albania</th>\n",
       "      <td>0</td>\n",
       "      <td>0</td>\n",
       "      <td>0</td>\n",
       "      <td>0</td>\n",
       "      <td>0</td>\n",
       "      <td>0</td>\n",
       "      <td>0</td>\n",
       "      <td>0</td>\n",
       "      <td>0</td>\n",
       "      <td>0</td>\n",
       "      <td>...</td>\n",
       "      <td>126936</td>\n",
       "      <td>127192</td>\n",
       "      <td>127509</td>\n",
       "      <td>127795</td>\n",
       "      <td>128155</td>\n",
       "      <td>128393</td>\n",
       "      <td>128518</td>\n",
       "      <td>128752</td>\n",
       "      <td>128959</td>\n",
       "      <td>129128</td>\n",
       "    </tr>\n",
       "    <tr>\n",
       "      <th>Algeria</th>\n",
       "      <td>0</td>\n",
       "      <td>0</td>\n",
       "      <td>0</td>\n",
       "      <td>0</td>\n",
       "      <td>0</td>\n",
       "      <td>0</td>\n",
       "      <td>0</td>\n",
       "      <td>0</td>\n",
       "      <td>0</td>\n",
       "      <td>0</td>\n",
       "      <td>...</td>\n",
       "      <td>117879</td>\n",
       "      <td>118004</td>\n",
       "      <td>118116</td>\n",
       "      <td>118251</td>\n",
       "      <td>118378</td>\n",
       "      <td>118516</td>\n",
       "      <td>118645</td>\n",
       "      <td>118799</td>\n",
       "      <td>118975</td>\n",
       "      <td>119142</td>\n",
       "    </tr>\n",
       "    <tr>\n",
       "      <th>Andorra</th>\n",
       "      <td>0</td>\n",
       "      <td>0</td>\n",
       "      <td>0</td>\n",
       "      <td>0</td>\n",
       "      <td>0</td>\n",
       "      <td>0</td>\n",
       "      <td>0</td>\n",
       "      <td>0</td>\n",
       "      <td>0</td>\n",
       "      <td>0</td>\n",
       "      <td>...</td>\n",
       "      <td>12328</td>\n",
       "      <td>12363</td>\n",
       "      <td>12409</td>\n",
       "      <td>12456</td>\n",
       "      <td>12497</td>\n",
       "      <td>12545</td>\n",
       "      <td>12581</td>\n",
       "      <td>12614</td>\n",
       "      <td>12641</td>\n",
       "      <td>12641</td>\n",
       "    </tr>\n",
       "    <tr>\n",
       "      <th>Angola</th>\n",
       "      <td>0</td>\n",
       "      <td>0</td>\n",
       "      <td>0</td>\n",
       "      <td>0</td>\n",
       "      <td>0</td>\n",
       "      <td>0</td>\n",
       "      <td>0</td>\n",
       "      <td>0</td>\n",
       "      <td>0</td>\n",
       "      <td>0</td>\n",
       "      <td>...</td>\n",
       "      <td>22885</td>\n",
       "      <td>23010</td>\n",
       "      <td>23108</td>\n",
       "      <td>23242</td>\n",
       "      <td>23331</td>\n",
       "      <td>23457</td>\n",
       "      <td>23549</td>\n",
       "      <td>23697</td>\n",
       "      <td>23841</td>\n",
       "      <td>23951</td>\n",
       "    </tr>\n",
       "  </tbody>\n",
       "</table>\n",
       "<p>5 rows × 450 columns</p>\n",
       "</div>"
      ],
      "text/plain": [
       "             1/22/20  1/23/20  1/24/20  1/25/20  1/26/20  1/27/20  1/28/20  \\\n",
       "country                                                                      \n",
       "Afghanistan        0        0        0        0        0        0        0   \n",
       "Albania            0        0        0        0        0        0        0   \n",
       "Algeria            0        0        0        0        0        0        0   \n",
       "Andorra            0        0        0        0        0        0        0   \n",
       "Angola             0        0        0        0        0        0        0   \n",
       "\n",
       "             1/29/20  1/30/20  1/31/20  ...  4/6/21  4/7/21  4/8/21  4/9/21  \\\n",
       "country                                 ...                                   \n",
       "Afghanistan        0        0        0  ...   56779   56873   56943   57019   \n",
       "Albania            0        0        0  ...  126936  127192  127509  127795   \n",
       "Algeria            0        0        0  ...  117879  118004  118116  118251   \n",
       "Andorra            0        0        0  ...   12328   12363   12409   12456   \n",
       "Angola             0        0        0  ...   22885   23010   23108   23242   \n",
       "\n",
       "             4/10/21  4/11/21  4/12/21  4/13/21  4/14/21  4/15/21  \n",
       "country                                                            \n",
       "Afghanistan    57144    57160    57242    57364    57492    57534  \n",
       "Albania       128155   128393   128518   128752   128959   129128  \n",
       "Algeria       118378   118516   118645   118799   118975   119142  \n",
       "Andorra        12497    12545    12581    12614    12641    12641  \n",
       "Angola         23331    23457    23549    23697    23841    23951  \n",
       "\n",
       "[5 rows x 450 columns]"
      ]
     },
     "execution_count": 5,
     "metadata": {},
     "output_type": "execute_result"
    }
   ],
   "source": [
    "country_cases = country_cases.groupby('country').agg(sum)\n",
    "country_deaths = country_deaths.groupby('country').agg(sum)\n",
    "country_population = population.groupby('country').agg(sum)\n",
    "country_cases.head()"
   ]
  },
  {
   "cell_type": "code",
   "execution_count": 6,
   "metadata": {
    "nbgrader": {
     "grade": false,
     "grade_id": "step4",
     "locked": false,
     "schema_version": 3,
     "solution": true,
     "task": false
    }
   },
   "outputs": [],
   "source": [
    "country_cases = country_cases.join(country_population.population)\n",
    "country_deaths = country_deaths.join(country_population.population)"
   ]
  },
  {
   "cell_type": "code",
   "execution_count": 7,
   "metadata": {
    "nbgrader": {
     "grade": false,
     "grade_id": "step5",
     "locked": false,
     "schema_version": 3,
     "solution": true,
     "task": false
    }
   },
   "outputs": [],
   "source": [
    "cases_tidy = country_cases.reset_index().melt(id_vars=['country', 'population'],\n",
    "                                              var_name='date',\n",
    "                                              value_name='cases'\n",
    "                                              )\n",
    "deaths_tidy = country_deaths.reset_index().melt(id_vars=['country', 'population'],\n",
    "                                               var_name='date',\n",
    "                                               value_name='deaths'\n",
    "                                               )"
   ]
  },
  {
   "cell_type": "code",
   "execution_count": 8,
   "metadata": {},
   "outputs": [],
   "source": [
    "# change date column datatype from object to datetime\n",
    "cases_tidy.date = pd.to_datetime(cases_tidy.date)\n",
    "deaths_tidy.date = pd.to_datetime(deaths_tidy.date)"
   ]
  },
  {
   "cell_type": "code",
   "execution_count": 9,
   "metadata": {
    "nbgrader": {
     "grade": false,
     "grade_id": "cell-538d96ed67ceaf54",
     "locked": true,
     "schema_version": 3,
     "solution": false,
     "task": false
    }
   },
   "outputs": [
    {
     "data": {
      "text/html": [
       "<div>\n",
       "<style scoped>\n",
       "    .dataframe tbody tr th:only-of-type {\n",
       "        vertical-align: middle;\n",
       "    }\n",
       "\n",
       "    .dataframe tbody tr th {\n",
       "        vertical-align: top;\n",
       "    }\n",
       "\n",
       "    .dataframe thead th {\n",
       "        text-align: right;\n",
       "    }\n",
       "</style>\n",
       "<table border=\"1\" class=\"dataframe\">\n",
       "  <thead>\n",
       "    <tr style=\"text-align: right;\">\n",
       "      <th></th>\n",
       "      <th>country</th>\n",
       "      <th>population</th>\n",
       "      <th>date</th>\n",
       "      <th>cases</th>\n",
       "      <th>deaths</th>\n",
       "    </tr>\n",
       "  </thead>\n",
       "  <tbody>\n",
       "    <tr>\n",
       "      <th>0</th>\n",
       "      <td>Afghanistan</td>\n",
       "      <td>32225560</td>\n",
       "      <td>2020-01-22</td>\n",
       "      <td>0</td>\n",
       "      <td>0</td>\n",
       "    </tr>\n",
       "    <tr>\n",
       "      <th>1</th>\n",
       "      <td>Albania</td>\n",
       "      <td>2845955</td>\n",
       "      <td>2020-01-22</td>\n",
       "      <td>0</td>\n",
       "      <td>0</td>\n",
       "    </tr>\n",
       "    <tr>\n",
       "      <th>2</th>\n",
       "      <td>Algeria</td>\n",
       "      <td>43000000</td>\n",
       "      <td>2020-01-22</td>\n",
       "      <td>0</td>\n",
       "      <td>0</td>\n",
       "    </tr>\n",
       "    <tr>\n",
       "      <th>3</th>\n",
       "      <td>Andorra</td>\n",
       "      <td>77543</td>\n",
       "      <td>2020-01-22</td>\n",
       "      <td>0</td>\n",
       "      <td>0</td>\n",
       "    </tr>\n",
       "    <tr>\n",
       "      <th>4</th>\n",
       "      <td>Angola</td>\n",
       "      <td>31127674</td>\n",
       "      <td>2020-01-22</td>\n",
       "      <td>0</td>\n",
       "      <td>0</td>\n",
       "    </tr>\n",
       "    <tr>\n",
       "      <th>...</th>\n",
       "      <td>...</td>\n",
       "      <td>...</td>\n",
       "      <td>...</td>\n",
       "      <td>...</td>\n",
       "      <td>...</td>\n",
       "    </tr>\n",
       "    <tr>\n",
       "      <th>86395</th>\n",
       "      <td>Vietnam</td>\n",
       "      <td>96208984</td>\n",
       "      <td>2021-04-15</td>\n",
       "      <td>2758</td>\n",
       "      <td>35</td>\n",
       "    </tr>\n",
       "    <tr>\n",
       "      <th>86396</th>\n",
       "      <td>West Bank and Gaza</td>\n",
       "      <td>4976684</td>\n",
       "      <td>2021-04-15</td>\n",
       "      <td>276407</td>\n",
       "      <td>2937</td>\n",
       "    </tr>\n",
       "    <tr>\n",
       "      <th>86397</th>\n",
       "      <td>Yemen</td>\n",
       "      <td>29825968</td>\n",
       "      <td>2021-04-15</td>\n",
       "      <td>5657</td>\n",
       "      <td>1097</td>\n",
       "    </tr>\n",
       "    <tr>\n",
       "      <th>86398</th>\n",
       "      <td>Zambia</td>\n",
       "      <td>17885422</td>\n",
       "      <td>2021-04-15</td>\n",
       "      <td>90532</td>\n",
       "      <td>1230</td>\n",
       "    </tr>\n",
       "    <tr>\n",
       "      <th>86399</th>\n",
       "      <td>Zimbabwe</td>\n",
       "      <td>15159624</td>\n",
       "      <td>2021-04-15</td>\n",
       "      <td>37422</td>\n",
       "      <td>1550</td>\n",
       "    </tr>\n",
       "  </tbody>\n",
       "</table>\n",
       "<p>86400 rows × 5 columns</p>\n",
       "</div>"
      ],
      "text/plain": [
       "                  country  population       date   cases  deaths\n",
       "0             Afghanistan    32225560 2020-01-22       0       0\n",
       "1                 Albania     2845955 2020-01-22       0       0\n",
       "2                 Algeria    43000000 2020-01-22       0       0\n",
       "3                 Andorra       77543 2020-01-22       0       0\n",
       "4                  Angola    31127674 2020-01-22       0       0\n",
       "...                   ...         ...        ...     ...     ...\n",
       "86395             Vietnam    96208984 2021-04-15    2758      35\n",
       "86396  West Bank and Gaza     4976684 2021-04-15  276407    2937\n",
       "86397               Yemen    29825968 2021-04-15    5657    1097\n",
       "86398              Zambia    17885422 2021-04-15   90532    1230\n",
       "86399            Zimbabwe    15159624 2021-04-15   37422    1550\n",
       "\n",
       "[86400 rows x 5 columns]"
      ]
     },
     "execution_count": 9,
     "metadata": {},
     "output_type": "execute_result"
    }
   ],
   "source": [
    "df = cases_tidy.join(deaths_tidy['deaths'])\n",
    "df"
   ]
  },
  {
   "cell_type": "markdown",
   "metadata": {},
   "source": [
    "# 2. Static Interactive Plots"
   ]
  },
  {
   "cell_type": "markdown",
   "metadata": {},
   "source": [
    "Before we start creating our visualizations, we have to do a little bit more prep work.  For the remainder of this lab, we will use the top 10 countries in COVID cases that we found in the Pandas Case Study.  First, we'll make a copy of our original DataFrame.  Next, in order for our interactive plots to work later on, we must first convert our dates from datetime objects to strings.  Finally, we will filter out the top 10 countries and the observations for the first day of each month from a copy of the original DataFrame.  **Run the cell below.**"
   ]
  },
  {
   "cell_type": "code",
   "execution_count": null,
   "metadata": {},
   "outputs": [],
   "source": [
    "top_countries = ['Brazil', 'France', 'Germany', 'India', 'Italy', 'Russia', 'Spain', 'Turkey', 'US', 'United Kingdom']\n",
    "df2 = df.copy()\n",
    "df2.date = df2.date.dt.strftime('%Y-%m-%d')\n",
    "top10 = df2.loc[df2.country.isin(top_countries) & (df2.date.str[-2:] == '01')]\n",
    "top10"
   ]
  },
  {
   "cell_type": "markdown",
   "metadata": {},
   "source": [
    "**Q2.1** Filter `top10` by the date `2022-04-01` (note that this is now a string value) and assign this DataFrame to `top10_date`.  Using `top10_date`, create a static interactive bubble plot with `population` on the x-axis, `cases` on the y-axis, color set to `country`, and size set to `deaths`."
   ]
  },
  {
   "cell_type": "code",
   "execution_count": null,
   "metadata": {},
   "outputs": [],
   "source": [
    "# bubble chart of cases\n"
   ]
  },
  {
   "cell_type": "markdown",
   "metadata": {},
   "source": [
    "**Q2.2** Using `top10_date`, create two geographical scatter plots with the following parameter-column pairings:\n",
    "- locations - `country`\n",
    "- locationmode - `country names`\n",
    "- size - `cases` for the first plot, `deaths` for the second plot\n",
    "- color - `country`"
   ]
  },
  {
   "cell_type": "code",
   "execution_count": null,
   "metadata": {},
   "outputs": [],
   "source": [
    "# geo scatter plot of cases\n"
   ]
  },
  {
   "cell_type": "code",
   "execution_count": null,
   "metadata": {},
   "outputs": [],
   "source": [
    "# geo scatter plot of deaths\n"
   ]
  },
  {
   "cell_type": "markdown",
   "metadata": {},
   "source": [
    "# 3. Dynamic Interactive Plots"
   ]
  },
  {
   "cell_type": "markdown",
   "metadata": {},
   "source": [
    "While the visualizations above give some pretty good insight, we can definitely improve upon these visualizations by leveraging our 'date' column and observing how the counts of cases and deaths evolve over time in our top 10 countries.\n",
    "\n",
    "For the interactive bar plots, you'll notice that I have include some extra code.  These two lines adjust the timing for each frame and the timing between frames, each time measured in milliseconds.  You can view these parameters for yourself by entering `fig.layout` after you have assigned a plot to `fig`.\n",
    "\n",
    "**Q3.1**  Using the `top10` DataFrame, create two interactive bar plots with the following parameter-column/value pairs and assign the plot to `fig`:\n",
    "- x-axis - `country`\n",
    "- y-axis - `cases` for the first plot, `deaths` for the second plot\n",
    "- animation_frame - `date`\n",
    "- animation_group - `country`\n",
    "- range_y - 0 to 90000000 for the first plot, 0 to 1000000 for the second plot"
   ]
  },
  {
   "cell_type": "code",
   "execution_count": null,
   "metadata": {},
   "outputs": [],
   "source": [
    "# interactive bar plot of cases per country\n",
    "\n",
    "\n",
    "# changing animation settings\n",
    "fig.layout.updatemenus[0].buttons[0].args[1]['frame']['duration'] = 200\n",
    "fig.layout.updatemenus[0].buttons[0].args[1]['transition']['duration'] = 0\n",
    "fig.show()"
   ]
  },
  {
   "cell_type": "code",
   "execution_count": null,
   "metadata": {},
   "outputs": [],
   "source": [
    "# interactive bar plot of deaths per country\n",
    "\n",
    "\n",
    "# changing animation settings\n",
    "fig.layout.updatemenus[0].buttons[0].args[1]['frame']['duration'] = 200\n",
    "fig.layout.updatemenus[0].buttons[0].args[1]['transition']['duration'] = 0\n",
    "fig.show()"
   ]
  },
  {
   "cell_type": "markdown",
   "metadata": {},
   "source": [
    "**Q3.2** Using `top10`, create two interactive geographical plots with the following parameter-column pairs:\n",
    "- locations, animation_group, color, and hover_name - `country`\n",
    "- locationmode - `country names`\n",
    "- size - `cases` for the first plot, `deaths` for the second plot"
   ]
  },
  {
   "cell_type": "code",
   "execution_count": null,
   "metadata": {},
   "outputs": [],
   "source": [
    "# interactive geographical plot of cases per country\n"
   ]
  },
  {
   "cell_type": "code",
   "execution_count": null,
   "metadata": {},
   "outputs": [],
   "source": [
    "# interactive geographical plot of deaths per country\n"
   ]
  },
  {
   "cell_type": "markdown",
   "metadata": {},
   "source": [
    "**Q3.3**  A choropleth map is essentially a heatmap with a geographical map overlay.  It allows analysts to show statistical information within the context of a visual representation of the global region of concern.  Using `top10`, we'll now create a choropleth map.\n",
    "\n",
    "Create two choropleth maps using the following parameter-column pairs:\n",
    "- locations, hover_name - `country`\n",
    "- locationmode - `country names`\n",
    "- color - `cases` for the first map, `deaths` for the second map\n",
    "- animation_frame - `date`"
   ]
  },
  {
   "cell_type": "code",
   "execution_count": null,
   "metadata": {},
   "outputs": [],
   "source": [
    "# choropleth map of cases per country\n"
   ]
  },
  {
   "cell_type": "code",
   "execution_count": null,
   "metadata": {},
   "outputs": [],
   "source": [
    "# choropleth map of deaths per country\n"
   ]
  }
 ],
 "metadata": {
  "celltoolbar": "Create Assignment",
  "kernelspec": {
   "display_name": "Python 3 (ipykernel)",
   "language": "python",
   "name": "python3"
  },
  "language_info": {
   "codemirror_mode": {
    "name": "ipython",
    "version": 3
   },
   "file_extension": ".py",
   "mimetype": "text/x-python",
   "name": "python",
   "nbconvert_exporter": "python",
   "pygments_lexer": "ipython3",
   "version": "3.9.7"
  }
 },
 "nbformat": 4,
 "nbformat_minor": 4
}
