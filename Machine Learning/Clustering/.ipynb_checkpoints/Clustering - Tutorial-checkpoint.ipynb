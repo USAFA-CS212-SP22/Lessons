{
 "cells": [
  {
   "cell_type": "markdown",
   "metadata": {},
   "source": [
    "# Objectives"
   ]
  },
  {
   "cell_type": "markdown",
   "metadata": {},
   "source": [
    "* Describe when clustering is the appropriate analysis technique\n",
    "* Use scikit-learn to perform k-means clustering"
   ]
  },
  {
   "cell_type": "markdown",
   "metadata": {},
   "source": [
    "***"
   ]
  },
  {
   "cell_type": "markdown",
   "metadata": {},
   "source": [
    "# 1. Clustering\n",
    "[K-Means clustering](https://analyticsindiamag.com/beginners-guide-to-k-means-clustering/) is an unsupervised analytical technique used on unlabeled data to partition the data into K groups. \n",
    "\n",
    "**Q1.1** [Try it out here!](https://www.naftaliharris.com/blog/visualizing-k-means-clustering/) I recommend selecting 'Randomly' and then 'Packed Circles' and adding 7 centroids (visually I see 7 distinct clusters). Click 'GO!' and then continuously click 'Update Centroids' -> 'Reassign Points' until the k-means algorithm reaches a state where the centroids are not moved any more (convergence). Did the k-means algorithm identify the same 7 groups that you visually saw?\n",
    "\n",
    "## K-Means Clustering Psuedocode\n",
    "1. Choose the number of clusters(K) and obtain the data points \n",
    "2. Place the centroids c_1, c_2, ..... c_k randomly \n",
    "3. Repeat steps 4 and 5 until convergence or until the end of a fixed number of iterations\n",
    "4. for each data point x_i:\n",
    "    - find the nearest centroid(c_1, c_2 .. c_k) \n",
    "    - assign the point to that cluster \n",
    "5. for each cluster j = 1..k\n",
    "    - new centroid = mean of all points assigned to that cluster \n",
    "\n",
    "![kmeans gif](https://miro.medium.com/max/480/0*f9HcysjkU6XyM1hb.gif)\n",
    "\n",
    "This exercise will walk through k-means clustering to categorize countries by Latitude, Longitude and Language."
   ]
  },
  {
   "cell_type": "markdown",
   "metadata": {},
   "source": [
    "## Import the relevant libraries"
   ]
  },
  {
   "cell_type": "code",
   "execution_count": 8,
   "metadata": {},
   "outputs": [],
   "source": [
    "import pandas as pd\n",
    "import numpy as np\n",
    "import matplotlib.pyplot as plt\n",
    "import seaborn as sns\n",
    "# Set the styles to Seaborn\n",
    "sns.set()\n",
    "# Import the KMeans module so we can perform k-means clustering with sklearn\n",
    "from sklearn.cluster import KMeans"
   ]
  },
  {
   "cell_type": "markdown",
   "metadata": {},
   "source": [
    "## Load the data"
   ]
  },
  {
   "cell_type": "markdown",
   "metadata": {},
   "source": [
    "Read the data from `country_clusters.csv` and save it to the variable `data`. This is a small dataset, so inspect the DataFrame by simply typing the variable name, `data`."
   ]
  },
  {
   "cell_type": "code",
   "execution_count": 1,
   "metadata": {},
   "outputs": [],
   "source": [
    "# read country clusters data\n",
    "data = pd.read_csv('country_clusters.csv')\n",
    "\n",
    "# inspect data\n",
    "data"
   ]
  },
  {
   "cell_type": "markdown",
   "metadata": {},
   "source": [
    "## Plot the data\n",
    "One of the easiest ways to visualize data is a scatter plot. This is really only useful when we have 2-3 features. Once we have more features, the data becomes impossible to visualize. We can use human intuition to decide which features are most important. For this dataset, it makes sense to try to reach a result resembling the world map, so we must use the longitude as x, and the latitude as y,"
   ]
  },
  {
   "cell_type": "code",
   "execution_count": 2,
   "metadata": {},
   "outputs": [],
   "source": [
    "# Use the simplest code possible to create a scatter plot using the longitude and latitude\n",
    "plt.scatter(data['Longitude'],data['Latitude'])\n",
    "# Set limits of the axes, again to resemble the world map\n",
    "plt.xlim(-180,180)\n",
    "plt.ylim(-90,90)\n",
    "plt.show()"
   ]
  },
  {
   "cell_type": "markdown",
   "metadata": {},
   "source": [
    "## Map the data"
   ]
  },
  {
   "cell_type": "markdown",
   "metadata": {},
   "source": [
    "Unfortunatley, we cannot use categorical the way it currently is (Language: English, German, French), so we must map the languages to 0, 1, and 2. "
   ]
  },
  {
   "cell_type": "code",
   "execution_count": 3,
   "metadata": {},
   "outputs": [],
   "source": [
    "# Create a copy of the original dataset\n",
    "data_mapped = data.copy()\n",
    "\n",
    "# Map languages with 0, 1, and 2\n",
    "data_mapped['Language']=data_mapped['Language'].map({'English':0,'French':1,'German':2})\n",
    "\n",
    "# Check if we did it correctly\n",
    "data_mapped"
   ]
  },
  {
   "cell_type": "markdown",
   "metadata": {},
   "source": [
    "## Select the features"
   ]
  },
  {
   "cell_type": "code",
   "execution_count": 12,
   "metadata": {},
   "outputs": [],
   "source": [
    "# slice the data to select the features Lat, Long and Language\n",
    "x = data_mapped.iloc[:,1:4]"
   ]
  },
  {
   "cell_type": "code",
   "execution_count": 4,
   "metadata": {
    "scrolled": true
   },
   "outputs": [],
   "source": [
    "# Check if we worked correctly\n",
    "x"
   ]
  },
  {
   "cell_type": "markdown",
   "metadata": {},
   "source": [
    "## Clustering\n",
    "We will be creating an instance of an abstract class called `KMeans`. This class has methods for us to use to fit our data to make a model and make predictions from our data. \n",
    "\n",
    "**NOTE: Our dataset is extremewly small, so we will not be splitting our data into a training and evaluation sets**"
   ]
  },
  {
   "cell_type": "code",
   "execution_count": 14,
   "metadata": {},
   "outputs": [],
   "source": [
    "# Create a KMeans object (which we will assign to kmeans)\n",
    "# The number in the parantheses is K, or the number of clusters we are aiming for\n",
    "kmeans = KMeans(2)"
   ]
  },
  {
   "cell_type": "code",
   "execution_count": 5,
   "metadata": {},
   "outputs": [],
   "source": [
    "# Fit the input data (cluster the data in our features (X) into K clusters)\n",
    "kmeans.fit(x)"
   ]
  },
  {
   "cell_type": "markdown",
   "metadata": {},
   "source": [
    "## Clustering results"
   ]
  },
  {
   "cell_type": "code",
   "execution_count": 6,
   "metadata": {},
   "outputs": [],
   "source": [
    "# Create a variable which will contain the predicted clusters for each observation\n",
    "identified_clusters = kmeans.fit_predict(x)\n",
    "# Check the result\n",
    "identified_clusters"
   ]
  },
  {
   "cell_type": "code",
   "execution_count": 7,
   "metadata": {},
   "outputs": [],
   "source": [
    "# Create a copy of the mapped data\n",
    "data_with_clusters = data_mapped.copy()\n",
    "\n",
    "# Create a new Series, containing the identified cluster for each observation\n",
    "data_with_clusters['Cluster'] = identified_clusters\n",
    "\n",
    "# Check the result\n",
    "data_with_clusters"
   ]
  },
  {
   "cell_type": "markdown",
   "metadata": {},
   "source": [
    "Plot the data using the longitude and latitude similar to what we did above. This time, use the parameter `c` to color the points based on their cluster. Additioanlly, I like to use the [`cmap` parameter](https://matplotlib.org/users/colormaps.html)  (provide the argument 'rainbow') to change the default colors. "
   ]
  },
  {
   "cell_type": "code",
   "execution_count": 8,
   "metadata": {},
   "outputs": [],
   "source": [
    "# scatter plot\n",
    "plt.scatter(data_with_clusters['Longitude'],data_with_clusters['Latitude'],c=data_with_clusters['Cluster'],cmap='rainbow')\n",
    "\n",
    "# change x and y axis\n",
    "plt.xlim(-180,180)\n",
    "plt.ylim(-90,90)\n",
    "plt.show()"
   ]
  },
  {
   "cell_type": "markdown",
   "metadata": {},
   "source": [
    "***"
   ]
  },
  {
   "cell_type": "markdown",
   "metadata": {},
   "source": [
    "# 2. Selecting the Best Number of Clusters"
   ]
  },
  {
   "cell_type": "markdown",
   "metadata": {},
   "source": [
    "## WCSS (within-cluster sum of squares)\n",
    "WCSS gives a very good idea about the different distances between different clusters and within clusters, thus providing us a rule for deciding the appropriate number of clusters. **Remember: for k-means clustering we want to have a minimal distance between our data and the k centroids, while balancing the interpretability of the k groups**"
   ]
  },
  {
   "cell_type": "code",
   "execution_count": 9,
   "metadata": {},
   "outputs": [],
   "source": [
    "# Get the WCSS for the current solution (k = 2)\n",
    "kmeans.inertia_"
   ]
  },
  {
   "cell_type": "code",
   "execution_count": 20,
   "metadata": {},
   "outputs": [],
   "source": [
    "# Create an empty list\n",
    "wcss = []\n",
    "\n",
    "# Create all possible cluster solutions for k = 1 to 7 and save inertia to a list\n",
    "for k in range(1,7):\n",
    "    # Cluster solution with i clusters\n",
    "    kmeans = KMeans(k)\n",
    "    \n",
    "    # Fit the data\n",
    "    kmeans.fit(x)\n",
    "    \n",
    "    # Find WCSS for the current iteration\n",
    "    wcss_iter = kmeans.inertia_\n",
    "    \n",
    "    # Append the value to the WCSS list\n",
    "    wcss.append(wcss_iter)"
   ]
  },
  {
   "cell_type": "code",
   "execution_count": 10,
   "metadata": {},
   "outputs": [],
   "source": [
    "# Let's see what we got\n",
    "wcss"
   ]
  },
  {
   "cell_type": "markdown",
   "metadata": {},
   "source": [
    "## The Elbow Method\n",
    "[The Elbow Method](https://en.wikipedia.org/wiki/Elbow_method_(clustering)#:~:text=In%20cluster%20analysis%2C%20the%20elbow,number%20of%20clusters%20to%20use.) helps us visually inspect the 'goodness' (WCSS) of our k-means model. We want to choose k where there is an 'elbow' in the curve. In other words, we want to **chose k where diminishing returns are no longer worth the additional cluster.** For example, in the graph below I would choose 3 clusters because increasing to 4 does not produce a much lower WCSS."
   ]
  },
  {
   "cell_type": "code",
   "execution_count": 11,
   "metadata": {},
   "outputs": [],
   "source": [
    "# Create a variable containing the numbers from 1 to 6, so we can use it as X axis of the future plot\n",
    "number_clusters = range(1,7)\n",
    "# Plot the number of clusters vs WCSS\n",
    "plt.plot(number_clusters,wcss)\n",
    "# Name your graph\n",
    "plt.title('The Elbow Method')\n",
    "# Name the x-axis\n",
    "plt.xlabel('Number of Clusters (k)')\n",
    "# Name the y-axis\n",
    "plt.ylabel('Within-cluster Sum of Squares')\n",
    "plt.show()"
   ]
  }
 ],
 "metadata": {
  "kernelspec": {
   "display_name": "Python 3",
   "language": "python",
   "name": "python3"
  },
  "language_info": {
   "codemirror_mode": {
    "name": "ipython",
    "version": 3
   },
   "file_extension": ".py",
   "mimetype": "text/x-python",
   "name": "python",
   "nbconvert_exporter": "python",
   "pygments_lexer": "ipython3",
   "version": "3.8.5"
  }
 },
 "nbformat": 4,
 "nbformat_minor": 2
}
