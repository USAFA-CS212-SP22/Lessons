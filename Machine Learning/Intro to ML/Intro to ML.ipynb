{
 "cells": [
  {
   "cell_type": "markdown",
   "metadata": {},
   "source": [
    "# Objectives"
   ]
  },
  {
   "cell_type": "markdown",
   "metadata": {},
   "source": [
    "* Describe the goals and motivation behind Machine Learning\n",
    "* Define common ML terminology, such as \"model\", \"instance\", and \"feature\"\n",
    "* Describe and differentiate between supervised and unsupervised data\n",
    "* Describe and execute the steps involved in training a machine learning model\n",
    "* Analyze a confusion matrix in order to evaluate a model’s performance"
   ]
  },
  {
   "cell_type": "markdown",
   "metadata": {},
   "source": [
    "# 1. Intro to Machine Learning"
   ]
  },
  {
   "cell_type": "markdown",
   "metadata": {},
   "source": [
    "## What is Machine Learning?\n",
    "\"A field of computer science that aims to **teach computers** how to learn and act **without being explicitly programmed**.\"\n",
    "\n",
    "\"A program or system that **builds (trains) a predictive model from input data**. The system uses the learned model to make useful predictions from new (never-before-seen) data.\"\n",
    "\n",
    "**Machine Learning involves:**\n",
    "* Algorithms that can derive rules / behaviors from large datasets without explicitly being told what they are\n",
    "* Datasets that are used to:\n",
    "    * Train the computer\n",
    "    * Verify that the computer has learned the correct concept\n",
    "* Human expertise in order to cultivate the datasets and verify that the algorithms are working as intended (i.e., learning the intended concept)"
   ]
  },
  {
   "cell_type": "markdown",
   "metadata": {},
   "source": [
    "## Terminology\n",
    "* Model\n",
    "    * A software representation of what a machine learning system has learned from the training dataset.\n",
    "* Feature\n",
    "    * One column in a dataset.  It represents a value that can be used to make a prediction.\n",
    "* Target (sometimes referred to as a Label or Class value when dealing with categorical data)\n",
    "    * Refers to the “answer” or “result” portion of an instance.  It represents is the “concept” we are trying to train the model to classify.\n",
    "* Instance (i.e., “example”)\n",
    "    * One row in a dataset.  It represents a specific example the algorithm can learn from.\n",
    "\n",
    "![Terminology](images\\Terminology.PNG)"
   ]
  },
  {
   "cell_type": "markdown",
   "metadata": {},
   "source": [
    "## Unsupervised Learning\n",
    "* The machine learning algorithm is provided with an unlabeled dataset\n",
    "* **Task:**  Group similar instances \n",
    "    * It is up to a subject matter expert to determine if the # of groupings are relevant or useful.\n",
    "* **Goal:**  Create a model that can explore the data and identify meaningful insights\n",
    "![Unsupervised](images\\Unsupervised.PNG)"
   ]
  },
  {
   "cell_type": "markdown",
   "metadata": {},
   "source": [
    "## Supervised Learning\n",
    "* The machine learning algorithm is provided with a labeled dataset\n",
    "* **Task:**  identify relationships between the independent variables (i.e., features) and the dependent variables (i.e., target/label/class).\n",
    "* **Goal:**  Create a model that can predict the label by only looking at the features\n",
    "![Supervised](images\\Supervised.PNG)"
   ]
  },
  {
   "cell_type": "markdown",
   "metadata": {},
   "source": [
    "## Supervised Learning Process"
   ]
  },
  {
   "cell_type": "markdown",
   "metadata": {},
   "source": [
    "![Step 1](images\\Step1.png)"
   ]
  },
  {
   "cell_type": "markdown",
   "metadata": {},
   "source": [
    "* **This is the most important/overlooked step.  Without data, there is no machine learning!**\n",
    "* In this step, we answer the following questions:\n",
    "    * What information (i.e., features) do we need to collect?\n",
    "    * How we are going to collect that information?\n",
    "        * We may need thousands, or even millions of instances to effectively learn\n",
    "    * How we are going to organize that information?\n",
    "        * Should we randomize the data to prevent the model from considering order?\n",
    "        * Are the labels distributed equally across instances?\n",
    "        * How much of our data is going to be used to train the model?\n",
    "        * How much of our data is going to be used to evaluate how well the model performs on new data?\n",
    "\n",
    "![Train vs Evaluation](images\\train_vs_eval.PNG)"
   ]
  },
  {
   "cell_type": "markdown",
   "metadata": {},
   "source": [
    "![Step 2](images\\Step2.png)"
   ]
  },
  {
   "cell_type": "markdown",
   "metadata": {},
   "source": [
    "* There are literally hundreds of possible machine learning algorithms to choose from.\n",
    "    * Decision Trees\n",
    "    * Support Vector Machines\n",
    "    * Linear/Logistic Regression\n",
    "    * Bayes (Probabilities)\n",
    "    * Neural Networks\n",
    "    * Genetic Algorithms\n",
    "* Picking the “right” algorithm requires some understanding of the problem, as well as a little bit of intuition / experimentation\n",
    "![Choose Model](images\\ChooseModel.png)"
   ]
  },
  {
   "cell_type": "markdown",
   "metadata": {},
   "source": [
    "![Step 3](images\\Step3.png)"
   ]
  },
  {
   "cell_type": "markdown",
   "metadata": {},
   "source": [
    "* This is the phase where we give the training data to the model, and let it learn\n",
    "* Train Model Algorithm pseudocode:\n",
    "    * Looking at the features in the training data, and using them to “guess” the label\n",
    "    * Examining the error between the “guess” and the answer (the label we provided)\n",
    "    * Adjusting the internal weights in the algorithm\n",
    "    * Repeat process until the error is minimized\n",
    "![Train Model](TrainModel.png)"
   ]
  },
  {
   "cell_type": "markdown",
   "metadata": {},
   "source": [
    "![Step 4](images\\Step4.png)"
   ]
  },
  {
   "cell_type": "markdown",
   "metadata": {},
   "source": [
    "* This is where we test the model with data that it has never seen before\n",
    "    * Our goal is to get an idea of how well our model would work in the real world.\n",
    "* We want make sure that the model has learned the general concept, rather than memorize the answers to the test (i.e., overfitting)\n",
    "* We also want to look at the confusion matrix to see where the model succeeds / fails\n",
    "* We may end up having to retrain our model (or generate more features) if we don’t like the results.\n",
    "![Evaluate Model](EvaluateModel.PNG)"
   ]
  },
  {
   "cell_type": "markdown",
   "metadata": {},
   "source": [
    "![Step 5](images\\Step5.png)"
   ]
  },
  {
   "cell_type": "markdown",
   "metadata": {},
   "source": [
    "* This is where we adjust the settings on the machine learning algorithm to see if we can “tweak” the performance further.\n",
    "* Every machine learning algorithm has its own parameters that you can tune:\n",
    "    * Epochs:  How many times you show the training data to the algorithm to let it learn\n",
    "    * Learning Rate:  How much the algorithm changes when it makes a mistake\n",
    "* You can spend a lot of time here, but it won’t help if your dataset isn’t good\n",
    "\n",
    "![Tuning](images\\Tuning.png)"
   ]
  },
  {
   "cell_type": "markdown",
   "metadata": {},
   "source": [
    "![Step 6](images\\Step6.png)"
   ]
  },
  {
   "cell_type": "markdown",
   "metadata": {},
   "source": [
    "* This is where we use our model in the real world, with real data\n",
    "* The previous steps gave us confidence that the model works (or at least told us what to expect)\n",
    "* If we are smart, we will collect the real-world instances / predictions\n",
    "    * We can then use that as additional training to improve our model\n",
    "    ![Prediction](images\\Predict.png)"
   ]
  }
 ],
 "metadata": {
  "kernelspec": {
   "display_name": "Python 3",
   "language": "python",
   "name": "python3"
  },
  "language_info": {
   "codemirror_mode": {
    "name": "ipython",
    "version": 3
   },
   "file_extension": ".py",
   "mimetype": "text/x-python",
   "name": "python",
   "nbconvert_exporter": "python",
   "pygments_lexer": "ipython3",
   "version": "3.8.5"
  }
 },
 "nbformat": 4,
 "nbformat_minor": 2
}
