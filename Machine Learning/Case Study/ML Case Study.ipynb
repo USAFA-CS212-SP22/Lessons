{
 "cells": [
  {
   "cell_type": "markdown",
   "metadata": {},
   "source": [
    "<h1 style=\"text-align:center\">CS 212 - Introduction to Programming for Analysts - Spring 2021</h1>\n",
    "<h1 style=\"text-align:center\">Machine Learning Case Study - Wine Quality Evaluation - 40 Points</h1>\n",
    "\n",
    "# Objectives\n",
    "Upon completion of this programming exercise, students will:\n",
    "* Describe when clustering, regression or classification is the appropriate analysis technique\n",
    "* Use scikit-learn to perform clustering, regression and classification\n",
    "\n",
    "\n",
    "# Description\n",
    "In this case study, you will provide recommendations to leading grape growers and grape farmers who produce the finest wines in the world. Every grape growers to find the recipe for the perfect wine. Of course, this definition of the \"perfect\" wine is very subjective, so we can use wine quality reviews to help our grape growers craft the best wine. Our dataset comes from the [University of California, Irvine Machine Learning Data Repository](https://archive.ics.uci.edu/ml/datasets/wine).\n",
    "\n",
    "***"
   ]
  },
  {
   "cell_type": "markdown",
   "metadata": {},
   "source": [
    "# Gather and Prepare Data"
   ]
  },
  {
   "cell_type": "markdown",
   "metadata": {},
   "source": [
    "### Import the Relevant Libraries"
   ]
  },
  {
   "cell_type": "code",
   "execution_count": 1,
   "metadata": {},
   "outputs": [],
   "source": [
    "from sklearn.cluster import KMeans\n",
    "from sklearn.neighbors import KNeighborsClassifier\n",
    "from sklearn.linear_model import LinearRegression, LogisticRegression\n",
    "from sklearn.model_selection import train_test_split\n",
    "import pandas as pd\n",
    "import matplotlib.pyplot as plt\n",
    "import seaborn as sns"
   ]
  },
  {
   "cell_type": "markdown",
   "metadata": {},
   "source": [
    "### Loading the Data\n",
    "**Q1 (1 points)** Load `winequality-red.csv` using pandas and specify the `delimiter` parameter to be a semi-colon (;). Assign the resulting DataFrame to the variable `df_red`. Do the same for `winequality-white.csv` and assign the DataFrame to the variable `df_white`. Inspect the first five lines of `df_red`."
   ]
  },
  {
   "cell_type": "code",
   "execution_count": 1,
   "metadata": {
    "scrolled": false
   },
   "outputs": [],
   "source": []
  },
  {
   "cell_type": "markdown",
   "metadata": {},
   "source": [
    "### Concatenate Red and White DataFrames\n",
    "**Q2 (1 point)** Both `df_red` and `df_white` have the same columns, so when putting these two DataFrames together we can use pandas' `concat` function. Concatenate `df_red` and `df_white` together and assign the resulting DataFrame to the variable `df`."
   ]
  },
  {
   "cell_type": "code",
   "execution_count": null,
   "metadata": {
    "scrolled": true
   },
   "outputs": [],
   "source": []
  },
  {
   "cell_type": "markdown",
   "metadata": {},
   "source": [
    "# Choose, Train and Evaluate Model\n",
    "### k-Means Clustering\n",
    "We will use k-means clustering to try to see how many groups of wine we have. What do these groups represent?\n",
    "\n",
    "Assign a `copy` of the DataFrame (`df`) to the variable `X`. This will be our features for our k-means clustering model."
   ]
  },
  {
   "cell_type": "code",
   "execution_count": 4,
   "metadata": {
    "scrolled": true
   },
   "outputs": [],
   "source": []
  },
  {
   "cell_type": "markdown",
   "metadata": {},
   "source": [
    "**Q3 (2 points)** Create ten `KMeans` objects using 1 to 10 clusters, `fit` the model using `X`, find the `intertia_` of those models and save the inertia to a list called `wcss`. Perform the Elbow Method by plotting the Within-Cluster-Sum-of-Squares (`wcss`) over the number of clusters."
   ]
  },
  {
   "cell_type": "code",
   "execution_count": null,
   "metadata": {
    "scrolled": true
   },
   "outputs": [],
   "source": []
  },
  {
   "cell_type": "markdown",
   "metadata": {},
   "source": [
    "It looks like either 2 or 3 clusters will be the best choice for this dataset. **REMEMBER:** more clusters will reduce the WCSS, but it will make the model more challenging to interpret. \n",
    "\n",
    "**Q4 (2 points)** Take a moment to pause and think about how you, a human, would categorize this wine dataset? Type your answer in the Markdown cell below"
   ]
  },
  {
   "cell_type": "markdown",
   "metadata": {},
   "source": []
  },
  {
   "cell_type": "markdown",
   "metadata": {},
   "source": [
    "**Q5 (2 points)** Let's create a k-means model with 2 clusters. Create a `copy` of `df` and assign it to the variable `clusters`. Create a new column in `clusters` called `cluster_pred` containing the cluster category predictions for each of our observations (`fit_predict(X)`)."
   ]
  },
  {
   "cell_type": "code",
   "execution_count": null,
   "metadata": {},
   "outputs": [],
   "source": []
  },
  {
   "cell_type": "markdown",
   "metadata": {},
   "source": [
    "**Q6 (2 points)** Now, we want to see which feature(s) are most important for categorizing our dataset into 2 clusters. Create a `pairplot` of our `clusters` DataFrame using the `cluster_pred` for `hue`."
   ]
  },
  {
   "cell_type": "code",
   "execution_count": null,
   "metadata": {
    "scrolled": false
   },
   "outputs": [],
   "source": []
  },
  {
   "cell_type": "markdown",
   "metadata": {},
   "source": [
    "Take a look at the plot above and see which row or column or combination of the 2 best separates the data into 2 groups. \n",
    "\n",
    "**Q7 (1 point)** Enter the row number that separates the data into two groups cleanly."
   ]
  },
  {
   "cell_type": "code",
   "execution_count": 2,
   "metadata": {
    "scrolled": false
   },
   "outputs": [],
   "source": [
    "row = \n",
    "print('{} is the best feature to split the data into 2 groups.'.format(X.columns[row]))"
   ]
  },
  {
   "cell_type": "markdown",
   "metadata": {},
   "source": [
    "Take a look at [this website](https://www.piwine.com/use-and-measurement-of-sulfur-dioxide-in-wine.html) to learn a little more about *why* wines would be separated into 2 groupd based on total sulfur dioxide. **HINT:** take a look specifically at the third bullet in the section \"Some General Points to Consider:\".\n",
    "\n",
    "**Q8 (2 points)** Based on the article link above, what do you think our two groups represent? Enter your answer in the Markdown cell below."
   ]
  },
  {
   "cell_type": "markdown",
   "metadata": {},
   "source": []
  },
  {
   "cell_type": "markdown",
   "metadata": {},
   "source": [
    "**Q9 (2 points)** Let's check our suspicion that our k-means with 2 clusters used total sulfur dioxide to split our dataset into red and white wines. Add in a new column called `type` to `df_red` that contains the label either \"red\". Create a new column called `type` in `df_white` that contains the label \"white\". Concatenate the two DataFrames together again and call the resulting DataFrame `df2`."
   ]
  },
  {
   "cell_type": "code",
   "execution_count": null,
   "metadata": {
    "scrolled": true
   },
   "outputs": [],
   "source": []
  },
  {
   "cell_type": "markdown",
   "metadata": {},
   "source": [
    "**Q10 (5 points)** Create a figure containing 2 subplots that are scatter plots:\n",
    "1. `total sulfur dioxide` and `fixed acidity` columns within our DataFrame `df2` with the `hue` as `type`\n",
    "2. `total sulfur dioxide` and `fixed acidity` columns within our DataFrame `clusters` with the `hue` as `cluster_pred`"
   ]
  },
  {
   "cell_type": "code",
   "execution_count": null,
   "metadata": {},
   "outputs": [],
   "source": []
  },
  {
   "cell_type": "markdown",
   "metadata": {},
   "source": [
    "We might be able to conclude that if a wine has more total sulfur dioxide and lower fixed acidity, there is a greater likelihood the wine is white."
   ]
  },
  {
   "cell_type": "markdown",
   "metadata": {},
   "source": [
    "### Linear Regression\n",
    "We will use linear regression now to try to predict the `quality` based on the other features in our data.\n",
    "\n",
    "**Q11 (2 points)** Divide our DataFrame `df` into the features (`X`) and the targets (`y`). Check out the `shape` of `X` and `y`, as well as the `columns` attribute of `X` and the `name` attribute of `y`."
   ]
  },
  {
   "cell_type": "code",
   "execution_count": null,
   "metadata": {},
   "outputs": [],
   "source": []
  },
  {
   "cell_type": "code",
   "execution_count": null,
   "metadata": {},
   "outputs": [],
   "source": []
  },
  {
   "cell_type": "code",
   "execution_count": null,
   "metadata": {},
   "outputs": [],
   "source": []
  },
  {
   "cell_type": "code",
   "execution_count": null,
   "metadata": {
    "scrolled": true
   },
   "outputs": [],
   "source": []
  },
  {
   "cell_type": "code",
   "execution_count": null,
   "metadata": {
    "scrolled": false
   },
   "outputs": [],
   "source": []
  },
  {
   "cell_type": "markdown",
   "metadata": {},
   "source": [
    "**Q12 (2 points)** Split our `X` and `y` data into the training (`X_train`, `y_train`) and testing (`X_test`, `y_test`) sets using the `train_test_split()` function."
   ]
  },
  {
   "cell_type": "code",
   "execution_count": null,
   "metadata": {},
   "outputs": [],
   "source": []
  },
  {
   "cell_type": "markdown",
   "metadata": {},
   "source": [
    "**Q13 (2 points)** Create a `LinearRegression` object and fit the model using `X_train` and `y_train`. Evaluate the model using the `score` method on our `LinearRegression` object with the parameters `X_test` and `y_test`."
   ]
  },
  {
   "cell_type": "code",
   "execution_count": null,
   "metadata": {},
   "outputs": [],
   "source": []
  },
  {
   "cell_type": "markdown",
   "metadata": {},
   "source": [
    "### Classification\n",
    "Well it didnt seem like Linear Regression created a good model to predict quality, so we will use classification to try to classify the wine quality.\n",
    "\n",
    "**NOTE: We need to change the maximum number of iterations for our Logistic Regression object. Add `max_iter=5000` as a paramter to your object instantiation**"
   ]
  },
  {
   "cell_type": "markdown",
   "metadata": {},
   "source": [
    "**Q14 (2 points)** In order to create a more accurate model, our grape growers agreed that wines with quality 3-5 are categorized as 'good', wines with quality 6-8 are \"great\" and wines that scored a 9 are \"amazing\". Create a function called `wine_quality` that accepts a wine quality observation (3-9) and returns the mapped value based on the table below:\n",
    "\n",
    "| `quality` | Grape Grower Assessment | Mapped Value |\n",
    "| :----: | :----: | :----: |\n",
    "| 3 - 5 | Good | 0 | \n",
    "| 6 - 8 | Great | 1 | \n",
    "| 9 | Amazing | 2 | "
   ]
  },
  {
   "cell_type": "code",
   "execution_count": 18,
   "metadata": {},
   "outputs": [],
   "source": []
  },
  {
   "cell_type": "markdown",
   "metadata": {},
   "source": [
    "**Q15 (2 points)** Create a copy of `df` and assign it to `df2`. Then `apply` the `wine_quality` function to the `quality` column in our DataFrame `df2`. Assign the resulting Series to overwrite our column `quality` in `df2`."
   ]
  },
  {
   "cell_type": "code",
   "execution_count": 19,
   "metadata": {},
   "outputs": [],
   "source": []
  },
  {
   "cell_type": "code",
   "execution_count": 20,
   "metadata": {},
   "outputs": [],
   "source": []
  },
  {
   "cell_type": "markdown",
   "metadata": {},
   "source": [
    "**Q16 (2 points)** Divide our DataFrame `df2` into the features (`X`) and the targets (`y`). Check out the `shape` of `X` and `y`, as well as the `columns` attribute of `X` and the `name` attribute of `y`."
   ]
  },
  {
   "cell_type": "code",
   "execution_count": 21,
   "metadata": {},
   "outputs": [],
   "source": []
  },
  {
   "cell_type": "markdown",
   "metadata": {},
   "source": [
    "**Q17 (2 points)** Split our `X` and `y` data into the training (`X_train`, `y_train`) and testing (`X_test`, `y_test`) sets using the `train_test_split()` function."
   ]
  },
  {
   "cell_type": "code",
   "execution_count": 22,
   "metadata": {},
   "outputs": [],
   "source": []
  },
  {
   "cell_type": "markdown",
   "metadata": {},
   "source": [
    "**Q18 (2 points)** Iterate through values of K to find the best KNN model. Each iteration create a `KNeighborsClassifier` object where `n_neighbors` = K, `fit` the model using `X_train` and `y_train`, and find the prediction accuracy (`score`) using `X_test` and `y_test`. Append the prediction accuracy of each model to a list and output the list."
   ]
  },
  {
   "cell_type": "code",
   "execution_count": null,
   "metadata": {},
   "outputs": [],
   "source": []
  },
  {
   "cell_type": "markdown",
   "metadata": {},
   "source": [
    "**Q19 (2 points)** Create a `LogisticRegression` object and `fit` the model using `X_train` and `y_train`. Find the prediction accuracy (`score`) using `X_test` and `y_test`. "
   ]
  },
  {
   "cell_type": "code",
   "execution_count": null,
   "metadata": {},
   "outputs": [],
   "source": []
  },
  {
   "cell_type": "markdown",
   "metadata": {},
   "source": [
    "**Q20 (2 points)** Which model would you choose and why would you choose it?"
   ]
  },
  {
   "cell_type": "markdown",
   "metadata": {},
   "source": []
  }
 ],
 "metadata": {
  "kernelspec": {
   "display_name": "Python 3",
   "language": "python",
   "name": "python3"
  },
  "language_info": {
   "codemirror_mode": {
    "name": "ipython",
    "version": 3
   },
   "file_extension": ".py",
   "mimetype": "text/x-python",
   "name": "python",
   "nbconvert_exporter": "python",
   "pygments_lexer": "ipython3",
   "version": "3.8.5"
  }
 },
 "nbformat": 4,
 "nbformat_minor": 4
}
