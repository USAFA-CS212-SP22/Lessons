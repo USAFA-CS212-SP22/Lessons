{
 "cells": [
  {
   "cell_type": "markdown",
   "metadata": {},
   "source": [
    "# 1. Objectives"
   ]
  },
  {
   "attachments": {},
   "cell_type": "markdown",
   "metadata": {},
   "source": [
    "* Describe the goals and motivation behind Machine Learning\n",
    "* Define common ML terminology, such as \"model\", \"instance\", and \"feature\"\n",
    "* Describe and differentiate between supervised and unsupervised data\n",
    "* List the four Machine Learning techniques we cover in this course and what data they best analyze\n",
    "* Describe and execute the steps involved in training a machine learning model\n",
    "* Analyze a confusion matrix in order to evaluate a model’s performance"
   ]
  },
  {
   "cell_type": "markdown",
   "metadata": {},
   "source": [
    "# 2. Intro to Machine Learning"
   ]
  },
  {
   "attachments": {},
   "cell_type": "markdown",
   "metadata": {},
   "source": [
    "## What is Machine Learning?\n",
    "\"A field of computer science that aims to **teach computers** how to learn and act **without being explicitly programmed**.\"\n",
    "\n",
    "\"A program or system that **builds (trains) a predictive model from input data**. The system uses the learned model to make useful predictions from new (never-before-seen) data.\"\n",
    "\n",
    "\n",
    "**Machine Learning involves:**\n",
    "* Algorithms that can derive rules / behaviors from large datasets without explicitly being told what they are\n",
    "* Datasets that are used to:\n",
    "    * Train the computer\n",
    "    * Verify that the computer has learned the correct concept\n",
    "* Human expertise in order to cultivate the datasets and verify that the algorithms are working as intended (i.e., learning the intended concept)"
   ]
  },
  {
   "attachments": {},
   "cell_type": "markdown",
   "metadata": {},
   "source": [
    "## Terminology\n",
    "* Model\n",
    "    * A software representation of what a machine learning system has learned from the training dataset.\n",
    "* Feature\n",
    "    * One column in a dataset.  It represents a value that can be used to make a prediction.\n",
    "* Label (sometimes referred to as a Class value)\n",
    "    * Refers to the “answer” or “result” portion of an instance.  It represents is the “concept” we are trying to train the model to classify.\n",
    "* Instance (i.e., “example”)\n",
    "    * One row in a dataset.  It represents a specific example the algorithm can learn from.\n",
    "\n",
    "![Terminology](Terminology.png)"
   ]
  },
  {
   "attachments": {},
   "cell_type": "markdown",
   "metadata": {},
   "source": [
    "## Supervised Learning\n",
    "* The machine learning algorithm is provided with a labeled dataset\n",
    "* **Task:**  identify relationships between the independent variables (i.e., features) and the dependent variables (i.e., label).\n",
    "* **Goal:**  Create a model that can predict the label by only looking at the features\n",
    "![Supervised](Supervised.png)"
   ]
  },
  {
   "attachments": {},
   "cell_type": "markdown",
   "metadata": {},
   "source": [
    "## Unsupervised Learning\n",
    "* The machine learning algorithm is provided with an unlabeled dataset\n",
    "* **Task:**  Group similar instances \n",
    "    * It is up to a subject matter expert to determine if the # of groupings are relevant or useful.\n",
    "* **Goal:**  Create a model that can explore the data and identify meaningful insights\n",
    "![Unsupervised](Unsupervised.png)"
   ]
  }
 ],
 "metadata": {
  "kernelspec": {
   "display_name": "Python 3",
   "language": "python",
   "name": "python3"
  },
  "language_info": {
   "codemirror_mode": {
    "name": "ipython",
    "version": 3
   },
   "file_extension": ".py",
   "mimetype": "text/x-python",
   "name": "python",
   "nbconvert_exporter": "python",
   "pygments_lexer": "ipython3",
   "version": "3.8.5"
  }
 },
 "nbformat": 4,
 "nbformat_minor": 2
}
