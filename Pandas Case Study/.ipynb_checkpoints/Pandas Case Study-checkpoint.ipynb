{
 "cells": [
  {
   "cell_type": "markdown",
   "metadata": {
    "nbgrader": {
     "grade": false,
     "grade_id": "pex_overview",
     "locked": true,
     "schema_version": 3,
     "solution": false,
     "task": false
    }
   },
   "source": [
    "<h1 style=\"text-align:center\">CS 212 - Introduction to Programming for Analysts - Spring 2021</h1>\n",
    "<h1 style=\"text-align:center\">Pandas Case Study - COVID-19 Data Visualization - 35 Points</h1>\n",
    "\n",
    "# Objectives\n",
    "Upon completion of this programming exercise, students will:\n",
    "- Import datasets\n",
    "- Manipulate data into a 'tidy' format\n",
    "- Create useful data visualizations\n",
    "\n",
    "# Description\n",
    "In this case study, you will provide timely, useful feedback to global leaders regarding the spread of COVID-19. Every country's leadership is trying to decide national policy on quarantine, social distancing, wearing face masks, and potential national shutdown. Utilizing daily updated timeseries data from Johns Hopkins Center for Systems Science and Engineering's GitHub [site](https://github.com/CSSEGISandData/COVID-19/tree/master/csse_covid_19_data/csse_covid_19_time_series), you will create useful visualizations for the number of confirmed COVID-19 cases and deaths similar to this [study](https://91-divoc.com/pages/covid-visualization/)."
   ]
  },
  {
   "cell_type": "markdown",
   "metadata": {
    "nbgrader": {
     "grade": false,
     "grade_id": "header1",
     "locked": true,
     "schema_version": 3,
     "solution": false,
     "task": false
    }
   },
   "source": [
    "# 1. Setup"
   ]
  },
  {
   "cell_type": "code",
   "execution_count": 84,
   "metadata": {
    "nbgrader": {
     "grade": false,
     "grade_id": "cell-91590a62c9bc7c4d",
     "locked": true,
     "schema_version": 3,
     "solution": false,
     "task": false
    },
    "scrolled": true
   },
   "outputs": [],
   "source": [
    "# Import packages for data manipulation and visualization\n",
    "import numpy as np\n",
    "import pandas as pd\n",
    "import seaborn as sns\n",
    "import matplotlib.pyplot as plt"
   ]
  },
  {
   "cell_type": "markdown",
   "metadata": {
    "nbgrader": {
     "grade": false,
     "grade_id": "cell-909696ee565ec71e",
     "locked": true,
     "schema_version": 3,
     "solution": false,
     "task": false
    }
   },
   "source": [
    "### Downloading Data\n",
    "After looking at the [study](https://91-divoc.com/pages/covid-visualization/) above, I was able to find out that the data comes from Johns Hopkins Center for Systems Science and Engineering (CSSE) Geograhpic Information System (GIS) and Data GitHub page. Here are two URL links to the raw data hosted on Johns Hopkins GitHub repository (repo). You will use these URLs to read in the data using `pandas.read_csv`.\n",
    "1. `https://raw.githubusercontent.com/CSSEGISandData/COVID-19/master/csse_covid_19_data/csse_covid_19_time_series/time_series_covid19_confirmed_global.csv`\n",
    "2. `https://raw.githubusercontent.com/CSSEGISandData/COVID-19/master/csse_covid_19_data/csse_covid_19_time_series/time_series_covid19_deaths_global.csv`"
   ]
  },
  {
   "cell_type": "markdown",
   "metadata": {
    "nbgrader": {
     "grade": false,
     "grade_id": "cell-fee9a2963f2d9d76",
     "locked": true,
     "schema_version": 3,
     "solution": false,
     "task": false
    }
   },
   "source": [
    "### Load and Inspect Data\n",
    "**Q1.1 (2 Points)** [Read](https://pandas.pydata.org/pandas-docs/stable/reference/api/pandas.read_csv.html) the two COVID-19 global .csv files using the URLs above to DataFrames named `cases` and `deaths`, respectively. Additionally, read the `population.csv` file to a DataFrame named `population`. Remember, the file must be in the same directory as this Jupyter Notebook or you must specify the entire file path. Inspect the first five rows of the `cases`."
   ]
  },
  {
   "cell_type": "code",
   "execution_count": 85,
   "metadata": {
    "nbgrader": {
     "grade": false,
     "grade_id": "load1",
     "locked": false,
     "schema_version": 3,
     "solution": true,
     "task": false
    }
   },
   "outputs": [],
   "source": [
    "# read both URLs\n"
   ]
  },
  {
   "cell_type": "markdown",
   "metadata": {
    "nbgrader": {
     "grade": false,
     "grade_id": "cell-dc8c0fecf7d2aad9",
     "locked": true,
     "schema_version": 3,
     "solution": false,
     "task": false
    }
   },
   "source": [
    "Next, explore the `cases`, `deaths` and `population` DataFrames to understand the types of data and some summary statistics for the columns."
   ]
  },
  {
   "cell_type": "code",
   "execution_count": 86,
   "metadata": {
    "nbgrader": {
     "grade": true,
     "grade_id": "load2",
     "locked": false,
     "points": 1,
     "schema_version": 3,
     "solution": true,
     "task": false
    }
   },
   "outputs": [],
   "source": [
    "# explore cases (.info() and .describe())\n"
   ]
  },
  {
   "cell_type": "code",
   "execution_count": 87,
   "metadata": {},
   "outputs": [],
   "source": [
    "# explore deaths\n"
   ]
  },
  {
   "cell_type": "code",
   "execution_count": 88,
   "metadata": {},
   "outputs": [],
   "source": [
    "# explore population\n"
   ]
  },
  {
   "cell_type": "markdown",
   "metadata": {
    "nbgrader": {
     "grade": false,
     "grade_id": "cell-40887f6c09e14d62",
     "locked": true,
     "schema_version": 3,
     "solution": false,
     "task": false
    }
   },
   "source": [
    "### This data is UNTIDY! \n",
    "It appears that there is a lot of missing data in the first column of the `cases` and `deaths` DataFrames and that the data is in wide form. My initial thought process went to the Reshaping lesson and that we should take all of the date columns and melt them into one column called 'date'."
   ]
  },
  {
   "cell_type": "markdown",
   "metadata": {
    "nbgrader": {
     "grade": false,
     "grade_id": "cell-1d3a0620c5e345ca",
     "locked": true,
     "schema_version": 3,
     "solution": false,
     "task": false
    }
   },
   "source": [
    "# 2. Manipulating our Data Into Tidy Data"
   ]
  },
  {
   "cell_type": "markdown",
   "metadata": {
    "nbgrader": {
     "grade": false,
     "grade_id": "cell-ca76cd9b0630b2c2",
     "locked": true,
     "schema_version": 3,
     "solution": false,
     "task": false
    }
   },
   "source": [
    "Now that we have the data loaded, my Logic Design for manipulating the data to contain exactly what we want for visualization is:\n",
    "1. Change the name of the Country/Region column to 'country'\n",
    "2. Remove the province/state column and lat and long columns and assign to new data frames `country_cases` and `country_deaths`\n",
    "3. Group by country\n",
    "4. Join the 'population' column to `country_cases` and `country_deaths`\n",
    "5. Melt the data to have the columns country, population, date, cases\n",
    "6. Convert the new 'date' column type to `datetime`"
   ]
  },
  {
   "cell_type": "markdown",
   "metadata": {
    "nbgrader": {
     "grade": false,
     "grade_id": "cell-db77f309a48c951c",
     "locked": true,
     "schema_version": 3,
     "solution": false,
     "task": false
    }
   },
   "source": [
    "**Q2.1 (2 Points)** Step 1 of my Data Manipulation Logic Design - Change the name of the Country/Region column to 'country' and reassign to the DataFrames `cases` and `deaths`."
   ]
  },
  {
   "cell_type": "code",
   "execution_count": 89,
   "metadata": {
    "nbgrader": {
     "grade": false,
     "grade_id": "step1",
     "locked": false,
     "schema_version": 3,
     "solution": true,
     "task": false
    }
   },
   "outputs": [],
   "source": [
    "# change column name\n"
   ]
  },
  {
   "cell_type": "markdown",
   "metadata": {
    "nbgrader": {
     "grade": false,
     "grade_id": "cell-db77f309a48c951",
     "locked": true,
     "schema_version": 3,
     "solution": false,
     "task": false
    }
   },
   "source": [
    "**Q2.2 (2 Points)** Step 2 of my Data Manipulation Logic Design - Remove the province state column and lat and long columns and assign to new DataFrames `country_cases` and `country_deaths`. Sometimes we don't want to permanently delete data, so we are assigning the result to new DataFrames. However, in case of a mistake, you can always quickly rerun all cells above this by clicking Cell, then 'Run All Above'."
   ]
  },
  {
   "cell_type": "code",
   "execution_count": 90,
   "metadata": {
    "nbgrader": {
     "grade": false,
     "grade_id": "step2",
     "locked": false,
     "schema_version": 3,
     "solution": true,
     "task": false
    }
   },
   "outputs": [],
   "source": [
    "# remove province/state, lat and long columns\n"
   ]
  },
  {
   "cell_type": "markdown",
   "metadata": {
    "nbgrader": {
     "grade": false,
     "grade_id": "cell-b4f1778d6124ca73",
     "locked": true,
     "schema_version": 3,
     "solution": false,
     "task": false
    }
   },
   "source": [
    "I always like to double check that my group by is working correctly, so I am going to output the sum the number of cases in Australia on 3/28/21 and then check that same data point after grouping by country. This number should be 29276."
   ]
  },
  {
   "cell_type": "code",
   "execution_count": 91,
   "metadata": {
    "nbgrader": {
     "grade": false,
     "grade_id": "cell-5752dee341e25e76",
     "locked": true,
     "schema_version": 3,
     "solution": false,
     "task": false
    }
   },
   "outputs": [],
   "source": [
    "# output sum of Australia on 3/28/2021 to baseline the sum aggregation by country (should be 29276)\n",
    "# country_cases['3/28/21'][country_cases.country == 'Australia'].sum()"
   ]
  },
  {
   "cell_type": "markdown",
   "metadata": {
    "nbgrader": {
     "grade": false,
     "grade_id": "cell-35d46a151f880e1e",
     "locked": true,
     "schema_version": 3,
     "solution": false,
     "task": false
    }
   },
   "source": [
    "**Q2.3 (2 Points)** Step 3 of my Data Manipulation Logic Design - Group by country (sum all of the cases/deaths/population in each country's provinces) and assign to the DataFrames `country_cases`, `country_deaths`, and `country_population`. The first 5 lines of your groupby result should look similar to this: <img src=\"groupby_country_cases.PNG\">"
   ]
  },
  {
   "cell_type": "code",
   "execution_count": 92,
   "metadata": {
    "nbgrader": {
     "grade": false,
     "grade_id": "step3",
     "locked": false,
     "schema_version": 3,
     "solution": true,
     "task": false
    }
   },
   "outputs": [],
   "source": [
    "# groupby country for cases, deaths and population\n"
   ]
  },
  {
   "cell_type": "markdown",
   "metadata": {
    "nbgrader": {
     "grade": false,
     "grade_id": "cell-f0e37d3411439a6b",
     "locked": true,
     "schema_version": 3,
     "solution": false,
     "task": false
    }
   },
   "source": [
    "Like I mentioned before, I like to double check that my groupby worked correctly. First, I am going to make sure that the length of our new DataFrame `country_cases` is the same as the number of unique countries in our original DataFrame `cases`."
   ]
  },
  {
   "cell_type": "code",
   "execution_count": 93,
   "metadata": {
    "nbgrader": {
     "grade": false,
     "grade_id": "cell-d35dd006668e4058",
     "locked": true,
     "schema_version": 3,
     "solution": false,
     "task": false
    }
   },
   "outputs": [],
   "source": [
    "# Check to see if the number of countries in our groupby object is the same as the number of unique countries in our raw data\n",
    "# len(country_cases) == cases.country.nunique()"
   ]
  },
  {
   "cell_type": "markdown",
   "metadata": {
    "nbgrader": {
     "grade": false,
     "grade_id": "cell-8e4e9cca7feec6d5",
     "locked": true,
     "schema_version": 3,
     "solution": false,
     "task": false
    }
   },
   "source": [
    "Second, I want to check to see if there are any countries in the `country_population` dataset that are **not** in `country_cases`. Run the next cell, your output should be a blank DataFrame. Uncomment (ctrl + /) the second line of code and rerun the cell, the result should also be a blank DataFrame."
   ]
  },
  {
   "cell_type": "code",
   "execution_count": 94,
   "metadata": {},
   "outputs": [],
   "source": [
    "# countries from population.csv not in cases\n",
    "# country_population[~country_population.index.isin(country_cases.index)]\n",
    "\n",
    "# countries in cases not in population.csv\n",
    "# country_cases[~country_cases.index.isin(country_population.index)]"
   ]
  },
  {
   "cell_type": "markdown",
   "metadata": {
    "nbgrader": {
     "grade": false,
     "grade_id": "cell-0ed257c9a1bf6acd",
     "locked": true,
     "schema_version": 3,
     "solution": false,
     "task": false
    }
   },
   "source": [
    "Lastly, I want to make sure that the number of cases in Australia on 3/28/21 in our new DataFrame `country_cases` matches the sum of all the provinces in Australia we calcualted above (29276)."
   ]
  },
  {
   "cell_type": "code",
   "execution_count": 95,
   "metadata": {
    "nbgrader": {
     "grade": false,
     "grade_id": "cell-1a4a9174819d5d95",
     "locked": true,
     "schema_version": 3,
     "solution": false,
     "task": false
    }
   },
   "outputs": [],
   "source": [
    "# output Australia on 3/28/20210 from grouped country cases\n",
    "# country_cases['3/28/21'].loc['Australia']"
   ]
  },
  {
   "cell_type": "markdown",
   "metadata": {
    "nbgrader": {
     "grade": false,
     "grade_id": "cell-5a14cc87b050d3de",
     "locked": true,
     "schema_version": 3,
     "solution": false,
     "task": false
    }
   },
   "source": [
    "**Q2.4 (2 Points)** Step 4 of my Data Manipulation Logic Design - Join the `population` column from the to `country_population` DataFrame to the two DataFrames grouped by country (`country_cases` and `country_deaths`)."
   ]
  },
  {
   "cell_type": "code",
   "execution_count": 96,
   "metadata": {
    "nbgrader": {
     "grade": false,
     "grade_id": "step4",
     "locked": false,
     "schema_version": 3,
     "solution": true,
     "task": false
    }
   },
   "outputs": [],
   "source": [
    "# join population series to both cases and deaths DataFrames\n"
   ]
  },
  {
   "cell_type": "markdown",
   "metadata": {
    "nbgrader": {
     "grade": false,
     "grade_id": "cell-f389f8651092e1d9",
     "locked": true,
     "schema_version": 3,
     "solution": false,
     "task": false
    }
   },
   "source": [
    "We should verify that the new `population` column in our `country_cases` DataFrame matches the `population` column in `population.csv`."
   ]
  },
  {
   "cell_type": "code",
   "execution_count": 97,
   "metadata": {
    "nbgrader": {
     "grade": false,
     "grade_id": "cell-0614bfd3f28151b6",
     "locked": true,
     "schema_version": 3,
     "solution": false,
     "task": false
    }
   },
   "outputs": [],
   "source": [
    "# country_cases['population'].head()"
   ]
  },
  {
   "cell_type": "markdown",
   "metadata": {
    "nbgrader": {
     "grade": false,
     "grade_id": "cell-c46244a3c6ba58fa",
     "locked": true,
     "schema_version": 3,
     "solution": false,
     "task": false
    }
   },
   "source": [
    "**Q2.5 (2 Points)** Step 5 of my Data Manipulation Logic Design - Melt `country_cases` with its reset index and leave the columns `country` and `population`, make a new column called `date` for the values previously the column labels, and make a label `cases` for the values previously contained in the multiple `date` columns. Assign this new, melted DataFrame to `cases_tidy`. Repeat this for `country_deaths` (new column label should be `deaths`, **not** `cases`) and assign this new, melted DataFrame to `deaths_tidy`. It is important that we reset the index of `country_cases` and `country_deaths` before melting the data because we want to preserrve the country information.  "
   ]
  },
  {
   "cell_type": "code",
   "execution_count": 98,
   "metadata": {
    "nbgrader": {
     "grade": false,
     "grade_id": "step5",
     "locked": false,
     "schema_version": 3,
     "solution": true,
     "task": false
    }
   },
   "outputs": [],
   "source": [
    "# melt to make tidy data\n"
   ]
  },
  {
   "cell_type": "markdown",
   "metadata": {
    "nbgrader": {
     "grade": false,
     "grade_id": "cell-7a0223aa01de72d7",
     "locked": true,
     "schema_version": 3,
     "solution": false,
     "task": false
    }
   },
   "source": [
    "Verify melt worked properly by checking the shape of the two new DataFrames. The `cases_tidy` and `deaths_tidy` DataFrames should contain 4 columns and common sense says the number of rows = (# of days) * (# of countries). Uncomment (ctrl + /) the second line and verify the results are the same. Your `cases_tidy` Dataframe should look similar to the DataFrame below. <img src=\"melt_cases.PNG\">"
   ]
  },
  {
   "cell_type": "code",
   "execution_count": 99,
   "metadata": {},
   "outputs": [],
   "source": [
    "# cases_tidy\n",
    "# deaths_tidy"
   ]
  },
  {
   "cell_type": "markdown",
   "metadata": {
    "nbgrader": {
     "grade": false,
     "grade_id": "cell-c46244a3c6ba58f",
     "locked": true,
     "schema_version": 3,
     "solution": false,
     "task": false
    }
   },
   "source": [
    "**Q2.6 (2 Points)** Step 6 of my Data Manipulation Logic Design - Change the type of object for the new `date` column in both the `cases_tidy` and `deaths_tidy` DataFrames to be a datetime object. HINT: Google is your friend!"
   ]
  },
  {
   "cell_type": "code",
   "execution_count": 100,
   "metadata": {
    "nbgrader": {
     "grade": false,
     "grade_id": "step6",
     "locked": false,
     "schema_version": 3,
     "solution": true,
     "task": false
    }
   },
   "outputs": [],
   "source": [
    "# check the data types in each column (.dtypes)\n"
   ]
  },
  {
   "cell_type": "code",
   "execution_count": 101,
   "metadata": {},
   "outputs": [],
   "source": [
    "# change date column datatype from object to datetime\n"
   ]
  },
  {
   "cell_type": "code",
   "execution_count": 102,
   "metadata": {},
   "outputs": [],
   "source": [
    "# verify the data type was changed\n"
   ]
  },
  {
   "cell_type": "markdown",
   "metadata": {
    "nbgrader": {
     "grade": false,
     "grade_id": "cell-1bcc44fa53bcaff3",
     "locked": true,
     "schema_version": 3,
     "solution": false,
     "task": false
    }
   },
   "source": [
    "## Filtering and Sorting our Tidy Data"
   ]
  },
  {
   "cell_type": "markdown",
   "metadata": {
    "nbgrader": {
     "grade": false,
     "grade_id": "cell-279b137d284d7efb",
     "locked": true,
     "schema_version": 3,
     "solution": false,
     "task": false
    }
   },
   "source": [
    "**Q2.7 (6 Points)** In order for our plot to not be crowded, we should filter the top 10 countries. We will be filtering the top 10 multiple times, so write a function that filters the top 10 countries' rows by the highest number of confirmed cases (or deaths). Use your `filter_top_10` function to filter the `cases_tidy` DataFrame by the column `cases` with no restriction on the population size and assign the resulting DataFrame to `top_10_cases`. Repeat this to filter the top 10 countries in `deaths_tidy` by the column `deaths` and assign the resulting DataFrame to `top_10_deaths`. "
   ]
  },
  {
   "cell_type": "code",
   "execution_count": 103,
   "metadata": {
    "nbgrader": {
     "grade": false,
     "grade_id": "filter_function",
     "locked": false,
     "schema_version": 3,
     "solution": true,
     "task": false
    }
   },
   "outputs": [],
   "source": [
    "def filter_top_10(df, col='cases', pop_threshold=0):\n",
    "    '''\n",
    "    filters a dataframe to contain only the top 10 countries that meet a population threshold for a given column (attribute)\n",
    "    \n",
    "    Parameters\n",
    "    ----------\n",
    "    df: DataFrame, the DataFrame to filter\n",
    "    col: string, the column used in determining the top 10\n",
    "    pop_threshold: integer, a minimum threshold each observation must satisfy to qualify to be in the top 10\n",
    "    \n",
    "    Returns\n",
    "    -------\n",
    "    DataFrame: DataFrame of the top 10 countries\n",
    "    '''\n",
    "    # find the names of the top 10 countries\n",
    "        # filter to countries that meet population threshold\n",
    "        # groupby country and take max of col column\n",
    "        # sort in descending order\n",
    "        # filter first 10\n",
    "\n",
    "    # filter the DataFrame based on the top 10 names\n",
    "    \n",
    "    # return the top 10 DataFrame\n"
   ]
  },
  {
   "cell_type": "code",
   "execution_count": 104,
   "metadata": {},
   "outputs": [],
   "source": [
    "# use your function for cases and deaths\n",
    "\n"
   ]
  },
  {
   "cell_type": "markdown",
   "metadata": {
    "nbgrader": {
     "grade": false,
     "grade_id": "cell-ecad9593caff711",
     "locked": true,
     "schema_version": 3,
     "solution": false,
     "task": false
    }
   },
   "source": [
    "Now that we have the top ten countries, verify the top 10 cases and its shape. You can do the same with `top_10_deaths`. Once again we expect the number of rows = (10 countries) * (# of dates). Your `top_10_cases` should look something similar to (the date should be different and the countries might be a little different): <img src=\"top_10_cases_tail.PNG\">"
   ]
  },
  {
   "cell_type": "code",
   "execution_count": 105,
   "metadata": {},
   "outputs": [],
   "source": [
    "# verify top_10 data is ready to plot\n",
    "# top_10_cases.tail(10)"
   ]
  },
  {
   "cell_type": "markdown",
   "metadata": {
    "nbgrader": {
     "grade": false,
     "grade_id": "cell-9447149bf611641c",
     "locked": true,
     "schema_version": 3,
     "solution": false,
     "task": false
    }
   },
   "source": [
    "# 3. Visualizing COVID-19 Top 10 Data\n",
    "Create line plots for the top 10 countries confirmed cases and deaths. You have multiple options here to plot data. You can use matplotlib directly, or you can chose to use one of the matplotlib wrappers we have used in the past ([Seaborn](https://seaborn.pydata.org/generated/seaborn.lineplot.html), [Pandas Plot](https://pandas.pydata.org/pandas-docs/stable/reference/api/pandas.DataFrame.plot.html)). Remember to use [good data visualization techniques](https://www.gooddata.com/blog/7-tips-good-data-visualizations)!"
   ]
  },
  {
   "cell_type": "markdown",
   "metadata": {
    "nbgrader": {
     "grade": false,
     "grade_id": "cell-7b4616dc88bd0042",
     "locked": true,
     "schema_version": 3,
     "solution": false,
     "task": false
    }
   },
   "source": [
    "### Confirmed COVID-19 Cases\n",
    "\n",
    "**Q3.1 (1 Point)** Plot the top 10 countries confirmed COVID-19 cases."
   ]
  },
  {
   "cell_type": "code",
   "execution_count": 106,
   "metadata": {
    "nbgrader": {
     "grade": true,
     "grade_id": "cases_plt",
     "locked": false,
     "points": 2,
     "schema_version": 3,
     "solution": true,
     "task": false
    },
    "scrolled": false
   },
   "outputs": [],
   "source": [
    "# line plot of cases\n",
    "\n",
    "# plt.show()"
   ]
  },
  {
   "cell_type": "markdown",
   "metadata": {
    "nbgrader": {
     "grade": false,
     "grade_id": "cell-a835bb8252fc9c22",
     "locked": true,
     "schema_version": 3,
     "solution": false,
     "task": false
    }
   },
   "source": [
    "### Confirmed COVID-19 Related Deaths\n",
    "\n",
    "**Q3.2 (1 Point)** Plot the top 10 countries confirmed COVID-19 deaths."
   ]
  },
  {
   "cell_type": "code",
   "execution_count": 107,
   "metadata": {
    "nbgrader": {
     "grade": true,
     "grade_id": "deaths_plt",
     "locked": false,
     "points": 1,
     "schema_version": 3,
     "solution": true,
     "task": false
    }
   },
   "outputs": [],
   "source": [
    "# line plot of deaths\n",
    "\n",
    "# plt.show()"
   ]
  },
  {
   "cell_type": "markdown",
   "metadata": {
    "nbgrader": {
     "grade": false,
     "grade_id": "cell-cf24c423d200f118",
     "locked": true,
     "schema_version": 3,
     "solution": false,
     "task": false
    }
   },
   "source": [
    "# 4. Visualizing COVID-19 Data by Percentage of Population\n",
    "Although these two plots speak a lot about how COVID-19 is spreading, it maybe be interesting to look at the cases and deaths by the percentage of population to tell a different part of the story."
   ]
  },
  {
   "cell_type": "markdown",
   "metadata": {
    "nbgrader": {
     "grade": false,
     "grade_id": "cell-09a4eef9ebfec883",
     "locked": true,
     "schema_version": 3,
     "solution": false,
     "task": false
    }
   },
   "source": [
    "### Making Percentage of Population\n",
    "**Q4.1 (2 Point)** In the `cases_tidy` DataFrame, make a new column called `cases_pct` for the percentage of cases by population. Repeat this by adding `deaths_pct` column to the `deaths_tidy` DataFrame."
   ]
  },
  {
   "cell_type": "code",
   "execution_count": 108,
   "metadata": {
    "nbgrader": {
     "grade": false,
     "grade_id": "make_pct1",
     "locked": false,
     "schema_version": 3,
     "solution": true,
     "task": false
    }
   },
   "outputs": [],
   "source": [
    "# new column for % of population (cases and deaths)\n"
   ]
  },
  {
   "cell_type": "markdown",
   "metadata": {},
   "source": [
    "**Q4.2 (2 Point)** Filter the top 10 countries' rows by the highest percentage (by population) of confirmed cases in our DataFrame and assign it to `top_10_cases_pct`. Repeat this for the top 10 countries with the highest percentage (by population) of deaths and assign it to `top_10_deaths_pct`."
   ]
  },
  {
   "cell_type": "code",
   "execution_count": 109,
   "metadata": {
    "nbgrader": {
     "grade": false,
     "grade_id": "make_pct2",
     "locked": false,
     "schema_version": 3,
     "solution": true,
     "task": false
    }
   },
   "outputs": [],
   "source": [
    "# use your function for cases_pct and deaths_pct\n",
    "\n"
   ]
  },
  {
   "cell_type": "code",
   "execution_count": 110,
   "metadata": {},
   "outputs": [],
   "source": [
    "# verify top_10 table\n",
    "top_10_cases_pct.tail(10)"
   ]
  },
  {
   "cell_type": "markdown",
   "metadata": {
    "nbgrader": {
     "grade": false,
     "grade_id": "cell-c5c7597b19fac727",
     "locked": true,
     "schema_version": 3,
     "solution": false,
     "task": false
    }
   },
   "source": [
    "It appears that very small countries (and a cruise ship!!) are taking over the top 10 list due to their extremely small population size. \n",
    "\n",
    "**Q4.2 (2 Point)** Filter our `cases_tidy` and `deaths_tidy` data again, but this time require more than 100,000 people."
   ]
  },
  {
   "cell_type": "code",
   "execution_count": 111,
   "metadata": {
    "nbgrader": {
     "grade": false,
     "grade_id": "make_pct3",
     "locked": false,
     "schema_version": 3,
     "solution": true,
     "task": false
    }
   },
   "outputs": [],
   "source": [
    "# use your function for cases_pct and deaths_pct, require population > 100000\n"
   ]
  },
  {
   "cell_type": "markdown",
   "metadata": {
    "nbgrader": {
     "grade": false,
     "grade_id": "cell-57ba1156cc1f3b2b",
     "locked": true,
     "schema_version": 3,
     "solution": false,
     "task": false
    }
   },
   "source": [
    "### Confirmed COVID-19 Cases, Percentage of Population\n",
    "**Q4.3 (2 Point)** Plot the top 10 countries confirmed COVID-19 deaths by percentage of population. Change the values on the Y-axis to make more sense (0%, 1%, 2%, etc.) Use [`plt.yticks()`](https://matplotlib.org/3.3.3/api/_as_gen/matplotlib.pyplot.yticks.html) to help format the Y-axis."
   ]
  },
  {
   "cell_type": "code",
   "execution_count": 112,
   "metadata": {
    "nbgrader": {
     "grade": true,
     "grade_id": "cases_pct_plt",
     "locked": false,
     "points": 2,
     "schema_version": 3,
     "solution": true,
     "task": false
    }
   },
   "outputs": [],
   "source": [
    "# line plot of cases_pct\n",
    "\n",
    "# plt.show()"
   ]
  },
  {
   "cell_type": "markdown",
   "metadata": {
    "nbgrader": {
     "grade": false,
     "grade_id": "cell-a95fef994e5482cc",
     "locked": true,
     "schema_version": 3,
     "solution": false,
     "task": false
    }
   },
   "source": [
    "### Confirmed COVID-19 Related Deaths\n",
    "**Q4.4 (1 Point)** Plot the top 10 countries confirmed COVID-19 deaths by percentage of population. Change the values on the Y-axis to make more sense (0.00%, 0.05%, 0.1%, etc.) Use [`plt.yticks()`](https://matplotlib.org/3.3.3/api/_as_gen/matplotlib.pyplot.yticks.html) to help format the Y-axis."
   ]
  },
  {
   "cell_type": "code",
   "execution_count": 113,
   "metadata": {
    "nbgrader": {
     "grade": true,
     "grade_id": "deaths_pct_plt",
     "locked": false,
     "points": 1,
     "schema_version": 3,
     "solution": true,
     "task": false
    }
   },
   "outputs": [],
   "source": [
    "# line plot of deaths_pct\n",
    "\n",
    "# plt.show()"
   ]
  },
  {
   "cell_type": "markdown",
   "metadata": {},
   "source": [
    "# 5. Visualizing COVID-19 Data Log-Scale\n",
    "We don't notice this too much with the graphs based on proportion of population, but in our first graphs containing the number of people it can be hard to compare the magnitude of difference between the top 10 countries because the United States has **such** a large number. We can barely see the bottom 7 countries! Although that linear scale shows the real human impact -- a growth twice the size is twice the number of real people infected -- a logarithmic scale might be better to illustrate the differences of the magnitude of growth between countries, but less of the human impact. \n",
    "\n",
    "When there are large differences in values on a chart, the graph might be uninterpretable and a log scale can help use see all of the countries we are interested in."
   ]
  },
  {
   "cell_type": "markdown",
   "metadata": {
    "nbgrader": {
     "grade": false,
     "grade_id": "cell-d1e24a5cb2330f04",
     "locked": true,
     "schema_version": 3,
     "solution": false,
     "task": false
    }
   },
   "source": [
    "**Q5.1 (2 Point)** Create a new column in the `top_10_cases` DataFrame called `log_cases` and assign to it the natural log of the number of cases in `top_10_cases`. Similarly, repeat this for the `top_10_deaths` DataFrame and call that new column `log_deaths` which contains the natural log of the number of deaths in `top_10_deaths`. "
   ]
  },
  {
   "cell_type": "code",
   "execution_count": 114,
   "metadata": {
    "nbgrader": {
     "grade": false,
     "grade_id": "log1",
     "locked": false,
     "schema_version": 3,
     "solution": true,
     "task": false
    }
   },
   "outputs": [],
   "source": [
    "# create new column for log cases and log deaths\n"
   ]
  },
  {
   "cell_type": "markdown",
   "metadata": {
    "nbgrader": {
     "grade": false,
     "grade_id": "cell-51454ba3b60cab43",
     "locked": true,
     "schema_version": 3,
     "solution": false,
     "task": false
    }
   },
   "source": [
    "**Q5.2 (1 Point)** Plot the top 10 countries confirmed COVID-19 cases on a logarithmic scale. "
   ]
  },
  {
   "cell_type": "code",
   "execution_count": 115,
   "metadata": {
    "nbgrader": {
     "grade": true,
     "grade_id": "log_plt1",
     "locked": false,
     "points": 2,
     "schema_version": 3,
     "solution": true,
     "task": false
    }
   },
   "outputs": [],
   "source": [
    "# line plot of log_cases\n",
    "\n",
    "# plt.show()"
   ]
  },
  {
   "cell_type": "markdown",
   "metadata": {
    "nbgrader": {
     "grade": false,
     "grade_id": "cell-80ac62d802f34a1a",
     "locked": true,
     "schema_version": 3,
     "solution": false,
     "task": false
    }
   },
   "source": [
    "**Q5.3 (1 Point)** Plot the top 10 countries confirmed COVID-19 deaths on a logarithmic scale. "
   ]
  },
  {
   "cell_type": "code",
   "execution_count": 116,
   "metadata": {
    "nbgrader": {
     "grade": true,
     "grade_id": "log_plt2",
     "locked": false,
     "points": 1,
     "schema_version": 3,
     "solution": true,
     "task": false
    }
   },
   "outputs": [],
   "source": [
    "# line plot of log_deaths\n",
    "\n",
    "# plt.show()"
   ]
  }
 ],
 "metadata": {
  "celltoolbar": "Create Assignment",
  "kernelspec": {
   "display_name": "Python 3",
   "language": "python",
   "name": "python3"
  },
  "language_info": {
   "codemirror_mode": {
    "name": "ipython",
    "version": 3
   },
   "file_extension": ".py",
   "mimetype": "text/x-python",
   "name": "python",
   "nbconvert_exporter": "python",
   "pygments_lexer": "ipython3",
   "version": "3.8.5"
  }
 },
 "nbformat": 4,
 "nbformat_minor": 4
}
