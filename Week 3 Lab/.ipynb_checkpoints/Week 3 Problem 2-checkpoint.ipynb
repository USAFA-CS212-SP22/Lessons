{
 "cells": [
  {
   "cell_type": "markdown",
   "metadata": {
    "nbgrader": {
     "grade": false,
     "grade_id": "cell-543bc59b27cb9de8",
     "locked": true,
     "schema_version": 3,
     "solution": false,
     "task": false
    }
   },
   "source": [
    "## Objectives\n",
    "1. Use `melt` to convert data from a wide format to a tidy (long) format\n",
    "2. Remove observations from a DataFrame based on missing values\n",
    "3. Customize plots with titles, axis titles, and legends\n",
    "\n",
    "## Exercises\n",
    "In these exercises, we will use data from the billboard top hits of 2000. Run the following code cell to import the libraries we will use in this lab."
   ]
  },
  {
   "cell_type": "code",
   "execution_count": 1,
   "metadata": {},
   "outputs": [],
   "source": [
    "%matplotlib inline\n",
    "\n",
    "import pandas as pd\n",
    "import seaborn as sns\n",
    "import matplotlib.pyplot as plt"
   ]
  },
  {
   "cell_type": "markdown",
   "metadata": {
    "nbgrader": {
     "grade": false,
     "grade_id": "cell-a9d7f295dcee738e",
     "locked": true,
     "schema_version": 3,
     "solution": false,
     "task": false
    }
   },
   "source": [
    "### 1. Load the Data\n",
    "**Q1.1.** In the below cell, read the CSV to a DataFrame named `billboard` and inspect the first five rows."
   ]
  },
  {
   "cell_type": "code",
   "execution_count": 2,
   "metadata": {
    "nbgrader": {
     "grade": false,
     "grade_id": "load1",
     "locked": false,
     "schema_version": 3,
     "solution": true,
     "task": false
    }
   },
   "outputs": [
    {
     "data": {
      "text/html": [
       "<div>\n",
       "<style scoped>\n",
       "    .dataframe tbody tr th:only-of-type {\n",
       "        vertical-align: middle;\n",
       "    }\n",
       "\n",
       "    .dataframe tbody tr th {\n",
       "        vertical-align: top;\n",
       "    }\n",
       "\n",
       "    .dataframe thead th {\n",
       "        text-align: right;\n",
       "    }\n",
       "</style>\n",
       "<table border=\"1\" class=\"dataframe\">\n",
       "  <thead>\n",
       "    <tr style=\"text-align: right;\">\n",
       "      <th></th>\n",
       "      <th>year</th>\n",
       "      <th>artist.inverted</th>\n",
       "      <th>track</th>\n",
       "      <th>time</th>\n",
       "      <th>genre</th>\n",
       "      <th>date.entered</th>\n",
       "      <th>date.peaked</th>\n",
       "      <th>x1st.week</th>\n",
       "      <th>x2nd.week</th>\n",
       "      <th>x3rd.week</th>\n",
       "      <th>...</th>\n",
       "      <th>x67th.week</th>\n",
       "      <th>x68th.week</th>\n",
       "      <th>x69th.week</th>\n",
       "      <th>x70th.week</th>\n",
       "      <th>x71st.week</th>\n",
       "      <th>x72nd.week</th>\n",
       "      <th>x73rd.week</th>\n",
       "      <th>x74th.week</th>\n",
       "      <th>x75th.week</th>\n",
       "      <th>x76th.week</th>\n",
       "    </tr>\n",
       "  </thead>\n",
       "  <tbody>\n",
       "    <tr>\n",
       "      <th>0</th>\n",
       "      <td>2000</td>\n",
       "      <td>Destiny's Child</td>\n",
       "      <td>Independent Women Part I</td>\n",
       "      <td>3:38</td>\n",
       "      <td>Rock</td>\n",
       "      <td>2000-09-23</td>\n",
       "      <td>2000-11-18</td>\n",
       "      <td>78</td>\n",
       "      <td>63.0</td>\n",
       "      <td>49.0</td>\n",
       "      <td>...</td>\n",
       "      <td>NaN</td>\n",
       "      <td>NaN</td>\n",
       "      <td>NaN</td>\n",
       "      <td>NaN</td>\n",
       "      <td>NaN</td>\n",
       "      <td>NaN</td>\n",
       "      <td>NaN</td>\n",
       "      <td>NaN</td>\n",
       "      <td>NaN</td>\n",
       "      <td>NaN</td>\n",
       "    </tr>\n",
       "    <tr>\n",
       "      <th>1</th>\n",
       "      <td>2000</td>\n",
       "      <td>Santana</td>\n",
       "      <td>Maria, Maria</td>\n",
       "      <td>4:18</td>\n",
       "      <td>Rock</td>\n",
       "      <td>2000-02-12</td>\n",
       "      <td>2000-04-08</td>\n",
       "      <td>15</td>\n",
       "      <td>8.0</td>\n",
       "      <td>6.0</td>\n",
       "      <td>...</td>\n",
       "      <td>NaN</td>\n",
       "      <td>NaN</td>\n",
       "      <td>NaN</td>\n",
       "      <td>NaN</td>\n",
       "      <td>NaN</td>\n",
       "      <td>NaN</td>\n",
       "      <td>NaN</td>\n",
       "      <td>NaN</td>\n",
       "      <td>NaN</td>\n",
       "      <td>NaN</td>\n",
       "    </tr>\n",
       "    <tr>\n",
       "      <th>2</th>\n",
       "      <td>2000</td>\n",
       "      <td>Savage Garden</td>\n",
       "      <td>I Knew I Loved You</td>\n",
       "      <td>4:07</td>\n",
       "      <td>Rock</td>\n",
       "      <td>1999-10-23</td>\n",
       "      <td>2000-01-29</td>\n",
       "      <td>71</td>\n",
       "      <td>48.0</td>\n",
       "      <td>43.0</td>\n",
       "      <td>...</td>\n",
       "      <td>NaN</td>\n",
       "      <td>NaN</td>\n",
       "      <td>NaN</td>\n",
       "      <td>NaN</td>\n",
       "      <td>NaN</td>\n",
       "      <td>NaN</td>\n",
       "      <td>NaN</td>\n",
       "      <td>NaN</td>\n",
       "      <td>NaN</td>\n",
       "      <td>NaN</td>\n",
       "    </tr>\n",
       "    <tr>\n",
       "      <th>3</th>\n",
       "      <td>2000</td>\n",
       "      <td>Madonna</td>\n",
       "      <td>Music</td>\n",
       "      <td>3:45</td>\n",
       "      <td>Rock</td>\n",
       "      <td>2000-08-12</td>\n",
       "      <td>2000-09-16</td>\n",
       "      <td>41</td>\n",
       "      <td>23.0</td>\n",
       "      <td>18.0</td>\n",
       "      <td>...</td>\n",
       "      <td>NaN</td>\n",
       "      <td>NaN</td>\n",
       "      <td>NaN</td>\n",
       "      <td>NaN</td>\n",
       "      <td>NaN</td>\n",
       "      <td>NaN</td>\n",
       "      <td>NaN</td>\n",
       "      <td>NaN</td>\n",
       "      <td>NaN</td>\n",
       "      <td>NaN</td>\n",
       "    </tr>\n",
       "    <tr>\n",
       "      <th>4</th>\n",
       "      <td>2000</td>\n",
       "      <td>Aguilera, Christina</td>\n",
       "      <td>Come On Over Baby (All I Want Is You)</td>\n",
       "      <td>3:38</td>\n",
       "      <td>Rock</td>\n",
       "      <td>2000-08-05</td>\n",
       "      <td>2000-10-14</td>\n",
       "      <td>57</td>\n",
       "      <td>47.0</td>\n",
       "      <td>45.0</td>\n",
       "      <td>...</td>\n",
       "      <td>NaN</td>\n",
       "      <td>NaN</td>\n",
       "      <td>NaN</td>\n",
       "      <td>NaN</td>\n",
       "      <td>NaN</td>\n",
       "      <td>NaN</td>\n",
       "      <td>NaN</td>\n",
       "      <td>NaN</td>\n",
       "      <td>NaN</td>\n",
       "      <td>NaN</td>\n",
       "    </tr>\n",
       "  </tbody>\n",
       "</table>\n",
       "<p>5 rows × 83 columns</p>\n",
       "</div>"
      ],
      "text/plain": [
       "   year      artist.inverted                                  track  time  \\\n",
       "0  2000      Destiny's Child               Independent Women Part I  3:38   \n",
       "1  2000              Santana                           Maria, Maria  4:18   \n",
       "2  2000        Savage Garden                     I Knew I Loved You  4:07   \n",
       "3  2000              Madonna                                  Music  3:45   \n",
       "4  2000  Aguilera, Christina  Come On Over Baby (All I Want Is You)  3:38   \n",
       "\n",
       "  genre date.entered date.peaked  x1st.week  x2nd.week  x3rd.week  ...  \\\n",
       "0  Rock   2000-09-23  2000-11-18         78       63.0       49.0  ...   \n",
       "1  Rock   2000-02-12  2000-04-08         15        8.0        6.0  ...   \n",
       "2  Rock   1999-10-23  2000-01-29         71       48.0       43.0  ...   \n",
       "3  Rock   2000-08-12  2000-09-16         41       23.0       18.0  ...   \n",
       "4  Rock   2000-08-05  2000-10-14         57       47.0       45.0  ...   \n",
       "\n",
       "   x67th.week  x68th.week  x69th.week  x70th.week  x71st.week  x72nd.week  \\\n",
       "0         NaN         NaN         NaN         NaN         NaN         NaN   \n",
       "1         NaN         NaN         NaN         NaN         NaN         NaN   \n",
       "2         NaN         NaN         NaN         NaN         NaN         NaN   \n",
       "3         NaN         NaN         NaN         NaN         NaN         NaN   \n",
       "4         NaN         NaN         NaN         NaN         NaN         NaN   \n",
       "\n",
       "   x73rd.week  x74th.week  x75th.week  x76th.week  \n",
       "0         NaN         NaN         NaN         NaN  \n",
       "1         NaN         NaN         NaN         NaN  \n",
       "2         NaN         NaN         NaN         NaN  \n",
       "3         NaN         NaN         NaN         NaN  \n",
       "4         NaN         NaN         NaN         NaN  \n",
       "\n",
       "[5 rows x 83 columns]"
      ]
     },
     "execution_count": 2,
     "metadata": {},
     "output_type": "execute_result"
    }
   ],
   "source": [
    "### BEGIN SOLUTION\n",
    "billboard = pd.read_csv('billboard.csv')\n",
    "billboard.head()\n",
    "### END SOLUTION"
   ]
  },
  {
   "cell_type": "code",
   "execution_count": null,
   "metadata": {
    "nbgrader": {
     "grade": true,
     "grade_id": "load1_test",
     "locked": true,
     "points": 1,
     "schema_version": 3,
     "solution": false,
     "task": false
    }
   },
   "outputs": [],
   "source": [
    "# DO NOT EDIT\n",
    "if billboard is None:\n",
    "    raise NameError(\"Did not name your DataFrame correctly\")\n",
    "### BEGIN HIDDEN TESTS\n",
    "test_df = pd.read_csv('billboard.csv')\n",
    "pd.testing.assert_frame_equal(_, test_df.head())\n",
    "pd.testing.assert_frame_equal(billboard, test_df)\n",
    "### END HIDDEN TESTS"
   ]
  },
  {
   "cell_type": "markdown",
   "metadata": {
    "nbgrader": {
     "grade": false,
     "grade_id": "cell-87ea32a8bd9539e5",
     "locked": true,
     "schema_version": 3,
     "solution": false,
     "task": false
    }
   },
   "source": [
    "**Q1.2.** Use the `info` method to obtain summary information about the DataFrame."
   ]
  },
  {
   "cell_type": "code",
   "execution_count": 3,
   "metadata": {
    "nbgrader": {
     "grade": true,
     "grade_id": "load2",
     "locked": false,
     "points": 1,
     "schema_version": 3,
     "solution": true,
     "task": false
    }
   },
   "outputs": [
    {
     "name": "stdout",
     "output_type": "stream",
     "text": [
      "<class 'pandas.core.frame.DataFrame'>\n",
      "RangeIndex: 317 entries, 0 to 316\n",
      "Data columns (total 83 columns):\n",
      " #   Column           Non-Null Count  Dtype  \n",
      "---  ------           --------------  -----  \n",
      " 0   year             317 non-null    int64  \n",
      " 1   artist.inverted  317 non-null    object \n",
      " 2   track            317 non-null    object \n",
      " 3   time             317 non-null    object \n",
      " 4   genre            317 non-null    object \n",
      " 5   date.entered     317 non-null    object \n",
      " 6   date.peaked      317 non-null    object \n",
      " 7   x1st.week        317 non-null    int64  \n",
      " 8   x2nd.week        312 non-null    float64\n",
      " 9   x3rd.week        307 non-null    float64\n",
      " 10  x4th.week        300 non-null    float64\n",
      " 11  x5th.week        292 non-null    float64\n",
      " 12  x6th.week        280 non-null    float64\n",
      " 13  x7th.week        269 non-null    float64\n",
      " 14  x8th.week        260 non-null    float64\n",
      " 15  x9th.week        253 non-null    float64\n",
      " 16  x10th.week       244 non-null    float64\n",
      " 17  x11th.week       236 non-null    float64\n",
      " 18  x12th.week       222 non-null    float64\n",
      " 19  x13th.week       210 non-null    float64\n",
      " 20  x14th.week       204 non-null    float64\n",
      " 21  x15th.week       197 non-null    float64\n",
      " 22  x16th.week       182 non-null    float64\n",
      " 23  x17th.week       177 non-null    float64\n",
      " 24  x18th.week       166 non-null    float64\n",
      " 25  x19th.week       156 non-null    float64\n",
      " 26  x20th.week       146 non-null    float64\n",
      " 27  x21st.week       65 non-null     float64\n",
      " 28  x22nd.week       55 non-null     float64\n",
      " 29  x23rd.week       48 non-null     float64\n",
      " 30  x24th.week       46 non-null     float64\n",
      " 31  x25th.week       38 non-null     float64\n",
      " 32  x26th.week       36 non-null     float64\n",
      " 33  x27th.week       29 non-null     float64\n",
      " 34  x28th.week       24 non-null     float64\n",
      " 35  x29th.week       20 non-null     float64\n",
      " 36  x30th.week       20 non-null     float64\n",
      " 37  x31st.week       19 non-null     float64\n",
      " 38  x32nd.week       18 non-null     float64\n",
      " 39  x33rd.week       12 non-null     float64\n",
      " 40  x34th.week       10 non-null     float64\n",
      " 41  x35th.week       9 non-null      float64\n",
      " 42  x36th.week       9 non-null      float64\n",
      " 43  x37th.week       9 non-null      float64\n",
      " 44  x38th.week       8 non-null      float64\n",
      " 45  x39th.week       8 non-null      float64\n",
      " 46  x40th.week       7 non-null      float64\n",
      " 47  x41st.week       7 non-null      float64\n",
      " 48  x42nd.week       6 non-null      float64\n",
      " 49  x43rd.week       6 non-null      float64\n",
      " 50  x44th.week       6 non-null      float64\n",
      " 51  x45th.week       5 non-null      float64\n",
      " 52  x46th.week       5 non-null      float64\n",
      " 53  x47th.week       5 non-null      float64\n",
      " 54  x48th.week       4 non-null      float64\n",
      " 55  x49th.week       4 non-null      float64\n",
      " 56  x50th.week       4 non-null      float64\n",
      " 57  x51st.week       4 non-null      float64\n",
      " 58  x52nd.week       4 non-null      float64\n",
      " 59  x53rd.week       4 non-null      float64\n",
      " 60  x54th.week       2 non-null      float64\n",
      " 61  x55th.week       2 non-null      float64\n",
      " 62  x56th.week       2 non-null      float64\n",
      " 63  x57th.week       2 non-null      float64\n",
      " 64  x58th.week       2 non-null      float64\n",
      " 65  x59th.week       2 non-null      float64\n",
      " 66  x60th.week       2 non-null      float64\n",
      " 67  x61st.week       2 non-null      float64\n",
      " 68  x62nd.week       2 non-null      float64\n",
      " 69  x63rd.week       2 non-null      float64\n",
      " 70  x64th.week       2 non-null      float64\n",
      " 71  x65th.week       1 non-null      float64\n",
      " 72  x66th.week       0 non-null      float64\n",
      " 73  x67th.week       0 non-null      float64\n",
      " 74  x68th.week       0 non-null      float64\n",
      " 75  x69th.week       0 non-null      float64\n",
      " 76  x70th.week       0 non-null      float64\n",
      " 77  x71st.week       0 non-null      float64\n",
      " 78  x72nd.week       0 non-null      float64\n",
      " 79  x73rd.week       0 non-null      float64\n",
      " 80  x74th.week       0 non-null      float64\n",
      " 81  x75th.week       0 non-null      float64\n",
      " 82  x76th.week       0 non-null      float64\n",
      "dtypes: float64(75), int64(2), object(6)\n",
      "memory usage: 205.7+ KB\n"
     ]
    }
   ],
   "source": [
    "### BEGIN SOLUTION\n",
    "billboard.info()\n",
    "### END SOLUTION"
   ]
  },
  {
   "cell_type": "markdown",
   "metadata": {
    "nbgrader": {
     "grade": false,
     "grade_id": "cell-36636eb4cbd07141",
     "locked": true,
     "schema_version": 3,
     "solution": false,
     "task": false
    }
   },
   "source": [
    "In this case, the dataset is in a wide format which is not tidy. In this case, an observation is a single song, but there is a column for every single week it was in the billboard top 100. As a result, there 76 columns associated with weeks because at least one song stayed in the billboard top 100 for 76 weeks. The value for each of these columns is the rank of the song for that week. For example, Destiny's Child began its time on the billboard ranked 78th and then jumped to 63rd in its second week and 49th in its third week. One problem with this format is that there are a lot of missing values. In this case, a missing value means that the song did not make it that long.\n",
    "\n",
    "### 2. Melting the Data\n",
    "A better format would be to have each of these week columns become just two: week and rank. In this way, an observation represents the rank of a song in a particular week in its billboard top 100 tenure. Furthermore, we can remove any observations for weeks that the song is no longer in the billboard top 100.\n",
    "\n",
    "**Q2.1.** Melt the DataFrame so that we get it in a tidy format (long, not wide) and name the two new columns 'Week Number' and 'Rank'. Name the resulting DataFrame `billboard_melt` and inspect the first five rows. *Hint: just like we can use the `index` attribute to access the row labels, we can use the `columns` attribute to access the column labels.*"
   ]
  },
  {
   "cell_type": "code",
   "execution_count": 4,
   "metadata": {
    "nbgrader": {
     "grade": false,
     "grade_id": "melt1",
     "locked": false,
     "schema_version": 3,
     "solution": true,
     "task": false
    }
   },
   "outputs": [
    {
     "data": {
      "text/html": [
       "<div>\n",
       "<style scoped>\n",
       "    .dataframe tbody tr th:only-of-type {\n",
       "        vertical-align: middle;\n",
       "    }\n",
       "\n",
       "    .dataframe tbody tr th {\n",
       "        vertical-align: top;\n",
       "    }\n",
       "\n",
       "    .dataframe thead th {\n",
       "        text-align: right;\n",
       "    }\n",
       "</style>\n",
       "<table border=\"1\" class=\"dataframe\">\n",
       "  <thead>\n",
       "    <tr style=\"text-align: right;\">\n",
       "      <th></th>\n",
       "      <th>year</th>\n",
       "      <th>artist.inverted</th>\n",
       "      <th>track</th>\n",
       "      <th>time</th>\n",
       "      <th>genre</th>\n",
       "      <th>date.entered</th>\n",
       "      <th>date.peaked</th>\n",
       "      <th>Week Number</th>\n",
       "      <th>Rank</th>\n",
       "    </tr>\n",
       "  </thead>\n",
       "  <tbody>\n",
       "    <tr>\n",
       "      <th>0</th>\n",
       "      <td>2000</td>\n",
       "      <td>Destiny's Child</td>\n",
       "      <td>Independent Women Part I</td>\n",
       "      <td>3:38</td>\n",
       "      <td>Rock</td>\n",
       "      <td>2000-09-23</td>\n",
       "      <td>2000-11-18</td>\n",
       "      <td>x1st.week</td>\n",
       "      <td>78.0</td>\n",
       "    </tr>\n",
       "    <tr>\n",
       "      <th>1</th>\n",
       "      <td>2000</td>\n",
       "      <td>Santana</td>\n",
       "      <td>Maria, Maria</td>\n",
       "      <td>4:18</td>\n",
       "      <td>Rock</td>\n",
       "      <td>2000-02-12</td>\n",
       "      <td>2000-04-08</td>\n",
       "      <td>x1st.week</td>\n",
       "      <td>15.0</td>\n",
       "    </tr>\n",
       "    <tr>\n",
       "      <th>2</th>\n",
       "      <td>2000</td>\n",
       "      <td>Savage Garden</td>\n",
       "      <td>I Knew I Loved You</td>\n",
       "      <td>4:07</td>\n",
       "      <td>Rock</td>\n",
       "      <td>1999-10-23</td>\n",
       "      <td>2000-01-29</td>\n",
       "      <td>x1st.week</td>\n",
       "      <td>71.0</td>\n",
       "    </tr>\n",
       "    <tr>\n",
       "      <th>3</th>\n",
       "      <td>2000</td>\n",
       "      <td>Madonna</td>\n",
       "      <td>Music</td>\n",
       "      <td>3:45</td>\n",
       "      <td>Rock</td>\n",
       "      <td>2000-08-12</td>\n",
       "      <td>2000-09-16</td>\n",
       "      <td>x1st.week</td>\n",
       "      <td>41.0</td>\n",
       "    </tr>\n",
       "    <tr>\n",
       "      <th>4</th>\n",
       "      <td>2000</td>\n",
       "      <td>Aguilera, Christina</td>\n",
       "      <td>Come On Over Baby (All I Want Is You)</td>\n",
       "      <td>3:38</td>\n",
       "      <td>Rock</td>\n",
       "      <td>2000-08-05</td>\n",
       "      <td>2000-10-14</td>\n",
       "      <td>x1st.week</td>\n",
       "      <td>57.0</td>\n",
       "    </tr>\n",
       "  </tbody>\n",
       "</table>\n",
       "</div>"
      ],
      "text/plain": [
       "   year      artist.inverted                                  track  time  \\\n",
       "0  2000      Destiny's Child               Independent Women Part I  3:38   \n",
       "1  2000              Santana                           Maria, Maria  4:18   \n",
       "2  2000        Savage Garden                     I Knew I Loved You  4:07   \n",
       "3  2000              Madonna                                  Music  3:45   \n",
       "4  2000  Aguilera, Christina  Come On Over Baby (All I Want Is You)  3:38   \n",
       "\n",
       "  genre date.entered date.peaked Week Number  Rank  \n",
       "0  Rock   2000-09-23  2000-11-18   x1st.week  78.0  \n",
       "1  Rock   2000-02-12  2000-04-08   x1st.week  15.0  \n",
       "2  Rock   1999-10-23  2000-01-29   x1st.week  71.0  \n",
       "3  Rock   2000-08-12  2000-09-16   x1st.week  41.0  \n",
       "4  Rock   2000-08-05  2000-10-14   x1st.week  57.0  "
      ]
     },
     "execution_count": 4,
     "metadata": {},
     "output_type": "execute_result"
    }
   ],
   "source": [
    "### BEGIN SOLUTION\n",
    "billboard_melt = billboard.melt(id_vars=billboard.columns[:7],\n",
    "                                var_name='Week Number',\n",
    "                                value_name='Rank')\n",
    "billboard_melt.head()\n",
    "### END SOLUTION"
   ]
  },
  {
   "cell_type": "code",
   "execution_count": null,
   "metadata": {
    "nbgrader": {
     "grade": true,
     "grade_id": "metl1_test",
     "locked": true,
     "points": 1,
     "schema_version": 3,
     "solution": false,
     "task": false
    }
   },
   "outputs": [],
   "source": [
    "# DO NOT EDIT - this cell is blank for autograding purposes\n",
    "### BEGIN HIDDEN TESTS\n",
    "test_melt = test_df.melt(id_vars=test_df.columns[:7], var_name='Week Number', value_name='Rank')\n",
    "pd.testing.assert_frame_equal(billboard_melt, test_melt)\n",
    "### END HIDDEN TESTS"
   ]
  },
  {
   "cell_type": "markdown",
   "metadata": {
    "nbgrader": {
     "grade": false,
     "grade_id": "cell-6493b02c4c51ffa4",
     "locked": true,
     "schema_version": 3,
     "solution": false,
     "task": false
    }
   },
   "source": [
    "**Q2.2.** Now, look at the summary information for the new DataFrame."
   ]
  },
  {
   "cell_type": "code",
   "execution_count": 5,
   "metadata": {
    "nbgrader": {
     "grade": true,
     "grade_id": "melt2",
     "locked": false,
     "points": 1,
     "schema_version": 3,
     "solution": true,
     "task": false
    }
   },
   "outputs": [
    {
     "name": "stdout",
     "output_type": "stream",
     "text": [
      "<class 'pandas.core.frame.DataFrame'>\n",
      "RangeIndex: 24092 entries, 0 to 24091\n",
      "Data columns (total 9 columns):\n",
      " #   Column           Non-Null Count  Dtype  \n",
      "---  ------           --------------  -----  \n",
      " 0   year             24092 non-null  int64  \n",
      " 1   artist.inverted  24092 non-null  object \n",
      " 2   track            24092 non-null  object \n",
      " 3   time             24092 non-null  object \n",
      " 4   genre            24092 non-null  object \n",
      " 5   date.entered     24092 non-null  object \n",
      " 6   date.peaked      24092 non-null  object \n",
      " 7   Week Number      24092 non-null  object \n",
      " 8   Rank             5307 non-null   float64\n",
      "dtypes: float64(1), int64(1), object(7)\n",
      "memory usage: 1.7+ MB\n"
     ]
    }
   ],
   "source": [
    "### BEGIN SOLUTION\n",
    "billboard_melt.info()\n",
    "### END SOLUTION"
   ]
  },
  {
   "cell_type": "markdown",
   "metadata": {
    "nbgrader": {
     "grade": false,
     "grade_id": "cell-a4de74307711ca11",
     "locked": true,
     "schema_version": 3,
     "solution": false,
     "task": false
    }
   },
   "source": [
    "As you can see, there are now 24,092 rows and there are only 5,307 of them that actually have a rank. This shows the scale of the missing data and how sparse the data was in the `billboard` DataFrame. Note, there is not any other column with missing data and that is to be expected since `melt` replicates the columns that we did not melt for every column that we do melt.\n",
    "\n",
    "**Q2.3.** Remove the observations from the DataFrame that have a missing rank by using the `dropna` method. Like any other new method or function, it is important to understand what the method does. Reference its [documentation](https://pandas.pydata.org/docs/reference/api/pandas.DataFrame.dropna.html). Verify that there are only 5,307 observations and that no column has missing values."
   ]
  },
  {
   "cell_type": "code",
   "execution_count": 6,
   "metadata": {
    "nbgrader": {
     "grade": false,
     "grade_id": "melt3",
     "locked": false,
     "schema_version": 3,
     "solution": true,
     "task": false
    }
   },
   "outputs": [
    {
     "name": "stdout",
     "output_type": "stream",
     "text": [
      "<class 'pandas.core.frame.DataFrame'>\n",
      "Int64Index: 5307 entries, 0 to 20334\n",
      "Data columns (total 9 columns):\n",
      " #   Column           Non-Null Count  Dtype  \n",
      "---  ------           --------------  -----  \n",
      " 0   year             5307 non-null   int64  \n",
      " 1   artist.inverted  5307 non-null   object \n",
      " 2   track            5307 non-null   object \n",
      " 3   time             5307 non-null   object \n",
      " 4   genre            5307 non-null   object \n",
      " 5   date.entered     5307 non-null   object \n",
      " 6   date.peaked      5307 non-null   object \n",
      " 7   Week Number      5307 non-null   object \n",
      " 8   Rank             5307 non-null   float64\n",
      "dtypes: float64(1), int64(1), object(7)\n",
      "memory usage: 414.6+ KB\n"
     ]
    }
   ],
   "source": [
    "### BEGIN SOLUTION\n",
    "billboard_melt = billboard_melt.dropna(how='any')\n",
    "billboard_melt.info()\n",
    "### END SOLUTION"
   ]
  },
  {
   "cell_type": "code",
   "execution_count": null,
   "metadata": {
    "nbgrader": {
     "grade": true,
     "grade_id": "melt3_test",
     "locked": true,
     "points": 1,
     "schema_version": 3,
     "solution": false,
     "task": false
    }
   },
   "outputs": [],
   "source": [
    "# DO NOT EDIT - this cell is blank for autograding purposes\n",
    "### BEGIN HIDDEN TESTS\n",
    "test_melt = test_melt.dropna(how='any')\n",
    "pd.testing.assert_frame_equal(billboard_melt, test_melt)\n",
    "### END HIDDEN TESTS"
   ]
  },
  {
   "cell_type": "markdown",
   "metadata": {
    "nbgrader": {
     "grade": false,
     "grade_id": "cell-b8ff315cd9f985da",
     "locked": true,
     "schema_version": 3,
     "solution": false,
     "task": false
    }
   },
   "source": [
    "The values in the Week Number column are not helpful. Let's use string slicing to parse out the integer week number. This can be tricky since the number of characters varies depending on if the week number is greater than 9 or not. However, we know which character we want our slice to begin at and we know how many characters to remove from the end.\n",
    "\n",
    "**Q2.4** Use string slicing to replace the values in the 'Week Number' column with integers. Use the `astype` method to change the data type for the column. *Hint: make sure your statement is correct before actually replacing the values in the column.*"
   ]
  },
  {
   "cell_type": "code",
   "execution_count": 10,
   "metadata": {
    "nbgrader": {
     "grade": false,
     "grade_id": "melt4",
     "locked": false,
     "schema_version": 3,
     "solution": true,
     "task": false
    }
   },
   "outputs": [
    {
     "name": "stdout",
     "output_type": "stream",
     "text": [
      "<class 'pandas.core.frame.DataFrame'>\n",
      "Int64Index: 5307 entries, 0 to 20334\n",
      "Data columns (total 9 columns):\n",
      " #   Column           Non-Null Count  Dtype  \n",
      "---  ------           --------------  -----  \n",
      " 0   year             5307 non-null   int64  \n",
      " 1   artist.inverted  5307 non-null   object \n",
      " 2   track            5307 non-null   object \n",
      " 3   time             5307 non-null   object \n",
      " 4   genre            5307 non-null   object \n",
      " 5   date.entered     5307 non-null   object \n",
      " 6   date.peaked      5307 non-null   object \n",
      " 7   Week Number      5307 non-null   int32  \n",
      " 8   Rank             5307 non-null   float64\n",
      "dtypes: float64(1), int32(1), int64(1), object(6)\n",
      "memory usage: 553.9+ KB\n"
     ]
    }
   ],
   "source": [
    "### BEGIN SOLUTION\n",
    "billboard_melt['Week Number'] = billboard_melt.loc[:,'Week Number'].str[1:-7].astype(int)\n",
    "billboard_melt.info()\n",
    "### END SOLUTION"
   ]
  },
  {
   "cell_type": "code",
   "execution_count": null,
   "metadata": {
    "nbgrader": {
     "grade": true,
     "grade_id": "melt4_test",
     "locked": true,
     "points": 1,
     "schema_version": 3,
     "solution": false,
     "task": false
    }
   },
   "outputs": [],
   "source": [
    "# DO NOT EDIT - this cell is blank for autograding purposes\n",
    "### BEGIN HIDDEN TESTS\n",
    "test_melt['Week Number'] = test_melt.loc[:, 'Week Number'].str[1:-7].astype(int)\n",
    "pd.testing.assert_frame_equal(billboard_melt, test_melt)\n",
    "### END HIDDEN TESTS"
   ]
  },
  {
   "cell_type": "markdown",
   "metadata": {
    "nbgrader": {
     "grade": false,
     "grade_id": "cell-8897d71e8a8bddcb",
     "locked": true,
     "schema_version": 3,
     "solution": false,
     "task": false
    }
   },
   "source": [
    "**Q2.5.** Our DataFrame is in a good format to plot the rank of songs over their time in the billboard top 100. Pick two songs of your choice and create a line plot over the weeks to compare their performances. Specify the legend labels to be the song titles and an appropriate title and axis titles."
   ]
  },
  {
   "cell_type": "code",
   "execution_count": 11,
   "metadata": {
    "nbgrader": {
     "grade": true,
     "grade_id": "melt5",
     "locked": false,
     "points": 1,
     "schema_version": 3,
     "solution": true,
     "task": false
    }
   },
   "outputs": [
    {
     "data": {
      "image/png": "[encoded data removed]",
      "text/plain": [
       "<Figure size 432x288 with 1 Axes>"
      ]
     },
     "metadata": {
      "needs_background": "light"
     },
     "output_type": "display_data"
    }
   ],
   "source": [
    "### BEGIN SOLUTION\n",
    "sns.lineplot(x='Week Number', y='Rank', data=billboard_melt.loc[billboard_melt.track == 'Higher'], label='Higher')\n",
    "sns.lineplot(x='Week Number', y='Rank', data=billboard_melt.loc[billboard_melt.track == 'Loser'], label='Loser')\n",
    "plt.title('Billboard Top 100 Performance')\n",
    "plt.xlabel('Week Number')\n",
    "plt.ylabel('Rank')\n",
    "plt.show()\n",
    "### END SOLUTION"
   ]
  },
  {
   "cell_type": "markdown",
   "metadata": {
    "nbgrader": {
     "grade": false,
     "grade_id": "cell-44c4cfed2dc41287",
     "locked": true,
     "schema_version": 3,
     "solution": false,
     "task": false
    }
   },
   "source": [
    "**Q2.6.** A lower rank means better performance, but our graph implies that a lower rank is dropping because of the nature of the y-axis. If you haven't done this already, invert the y-axis so that a rank of 1 is at the top (Google is your friend)."
   ]
  },
  {
   "cell_type": "code",
   "execution_count": 12,
   "metadata": {
    "nbgrader": {
     "grade": true,
     "grade_id": "melt6",
     "locked": false,
     "points": 1,
     "schema_version": 3,
     "solution": true,
     "task": false
    }
   },
   "outputs": [
    {
     "data": {
      "image/png": "[encoded data removed]",
      "text/plain": [
       "<Figure size 432x288 with 1 Axes>"
      ]
     },
     "metadata": {
      "needs_background": "light"
     },
     "output_type": "display_data"
    }
   ],
   "source": [
    "### BEGIN SOLUTION\n",
    "sns.lineplot(x='Week Number', y='Rank', data=billboard_melt.loc[billboard_melt.track == 'Higher'], label='Higher')\n",
    "sns.lineplot(x='Week Number', y='Rank', data=billboard_melt.loc[billboard_melt.track == 'Loser'], label='Loser')\n",
    "plt.gca().invert_yaxis()\n",
    "plt.title('Billboard Top 100 Performance')\n",
    "plt.xlabel('Week Number')\n",
    "plt.ylabel('Rank')\n",
    "plt.show()\n",
    "### END SOLUTION"
   ]
  },
  {
   "cell_type": "markdown",
   "metadata": {},
   "source": [
    "### 3. Aggregating the Data\n",
    "For the remainder of this exercise, we will explore a couple of questions. First,\n",
    "\n",
    "<p style=\"text-align:center\"><b>How many weeks do most songs stay in the Billboard Top 100?</b></p>\n",
    "\n",
    "To do this, we need to aggregate our data. Currently, a song is in the DataFrame 1 or more times for each week it appeared in the top 100. We want to aggregate each song so it appears once along with the number of weeks it appeared in the top 100.\n",
    "\n",
    "**Q3.1.** Create the Series `weeks` where each label is a unique track and the value is the number of weeks it appeared in the top 100. Rename the `name` attribute to be 'Max Weeks' (remember, a Series has a name similar to a column label in a DataFrame). Output the result and note the length of the Series."
   ]
  },
  {
   "cell_type": "code",
   "execution_count": 22,
   "metadata": {
    "nbgrader": {
     "grade": false,
     "grade_id": "agg1",
     "locked": false,
     "schema_version": 3,
     "solution": true,
     "task": false
    }
   },
   "outputs": [
    {
     "data": {
      "text/plain": [
       "track\n",
       "(Hot S**t) Country Grammar      34\n",
       "3 Little Words                   9\n",
       "911                             19\n",
       "A Country Boy Can Survive        3\n",
       "A Little Gasoline                6\n",
       "                                ..\n",
       "You Won't Be Lonely Now         13\n",
       "You'll Always Be Loved By Me    19\n",
       "You're A God                    21\n",
       "Your Everything                 16\n",
       "www.memory                      15\n",
       "Name: Max Weeks, Length: 316, dtype: int64"
      ]
     },
     "execution_count": 22,
     "metadata": {},
     "output_type": "execute_result"
    }
   ],
   "source": [
    "### BEGIN SOLUTION\n",
    "weeks = billboard_melt.groupby('track')['Week Number'].count().rename('Max Weeks')\n",
    "weeks\n",
    "### END SOLUTION"
   ]
  },
  {
   "cell_type": "code",
   "execution_count": null,
   "metadata": {
    "nbgrader": {
     "grade": true,
     "grade_id": "agg1_test",
     "locked": true,
     "points": 1,
     "schema_version": 3,
     "solution": false,
     "task": false
    }
   },
   "outputs": [],
   "source": [
    "# DO NOT EDIT - this cell is blank for autograding purposes\n",
    "### BEGIN HIDDEN TESTS\n",
    "test_weeks = test_melt.groupby('track').Rank.count().rename('Max Weeks')\n",
    "pd.testing.assert_series_equal(weeks, test_weeks)\n",
    "### END HIDDEN TESTS"
   ]
  },
  {
   "cell_type": "markdown",
   "metadata": {
    "nbgrader": {
     "grade": false,
     "grade_id": "cell-a9b9bfb074461e09",
     "locked": true,
     "schema_version": 3,
     "solution": false,
     "task": false
    }
   },
   "source": [
    "**Q3.2.** Create the same Series and name it `weeks`, but this time group by unique combinations of track and artist. Output the result and note the length of the series. What is the difference and why?"
   ]
  },
  {
   "cell_type": "code",
   "execution_count": 23,
   "metadata": {
    "nbgrader": {
     "grade": true,
     "grade_id": "agg2",
     "locked": false,
     "points": 1,
     "schema_version": 3,
     "solution": true,
     "task": false
    }
   },
   "outputs": [
    {
     "data": {
      "text/plain": [
       "track                         artist.inverted \n",
       "(Hot S**t) Country Grammar    Nelly               34\n",
       "3 Little Words                Nu Flavor            9\n",
       "911                           Jean, Wyclef        19\n",
       "A Country Boy Can Survive     Brock, Chad          3\n",
       "A Little Gasoline             Clark, Terri         6\n",
       "                                                  ..\n",
       "You Won't Be Lonely Now       Cyrus, Billy Ray    13\n",
       "You'll Always Be Loved By Me  Brooks & Dunn       19\n",
       "You're A God                  Vertical Horizon    21\n",
       "Your Everything               Urban, Keith        16\n",
       "www.memory                    Jackson, Alan       15\n",
       "Name: Max Weeks, Length: 317, dtype: int64"
      ]
     },
     "execution_count": 23,
     "metadata": {},
     "output_type": "execute_result"
    }
   ],
   "source": [
    "### BEGIN SOLUTION\n",
    "weeks = billboard_melt.groupby(['track','artist.inverted'])['Week Number'].count().rename('Max Weeks')\n",
    "weeks\n",
    "### END SOLUTION"
   ]
  },
  {
   "cell_type": "markdown",
   "metadata": {
    "nbgrader": {
     "grade": false,
     "grade_id": "cell-64c4e5fb2e3f63ab",
     "locked": true,
     "schema_version": 3,
     "solution": false,
     "task": false
    }
   },
   "source": [
    "**Q3.3.** Use the `weeks` Series to create a histogram of the distribution of the number of weeks a song is in the top 100."
   ]
  },
  {
   "cell_type": "code",
   "execution_count": 26,
   "metadata": {
    "nbgrader": {
     "grade": true,
     "grade_id": "agg3",
     "locked": false,
     "points": 1,
     "schema_version": 3,
     "solution": true,
     "task": false
    }
   },
   "outputs": [
    {
     "data": {
      "image/png": "[encoded data removed]",
      "text/plain": [
       "<Figure size 432x288 with 1 Axes>"
      ]
     },
     "metadata": {
      "needs_background": "light"
     },
     "output_type": "display_data"
    }
   ],
   "source": [
    "### BEGIN SOLUTION\n",
    "sns.distplot(a=weeks, kde=False)\n",
    "plt.show()\n",
    "### END SOLUTION"
   ]
  },
  {
   "cell_type": "markdown",
   "metadata": {
    "nbgrader": {
     "grade": false,
     "grade_id": "cell-09c65a878e6f1361",
     "locked": true,
     "schema_version": 3,
     "solution": false,
     "task": false
    }
   },
   "source": [
    "**Q3.4.** Why do you suppose there is such an outlier right about 20 weeks? In the Markdown cell below, summarize why you think the data may be distributed like this."
   ]
  },
  {
   "cell_type": "markdown",
   "metadata": {
    "nbgrader": {
     "grade": true,
     "grade_id": "agg4",
     "locked": false,
     "points": 1,
     "schema_version": 3,
     "solution": true,
     "task": false
    }
   },
   "source": []
  },
  {
   "cell_type": "markdown",
   "metadata": {
    "nbgrader": {
     "grade": false,
     "grade_id": "cell-3de8a984d2c42125",
     "locked": true,
     "schema_version": 3,
     "solution": false,
     "task": false
    }
   },
   "source": [
    "Finally, we will explore a final question:\n",
    "\n",
    "<p style=\"text-align:center\"><b>Which artist had the best year?</b></p>\n",
    "\n",
    "This question can be interpreted a couple of different ways using this data.\n",
    "\n",
    "**Q3.5.** Create the Series `artists` where each label is a unique artist and the values represent the number of songs they had in the top 100. Rename the `name` attribute to be 'Unique Songs'. Output the result in descending order."
   ]
  },
  {
   "cell_type": "code",
   "execution_count": 30,
   "metadata": {
    "nbgrader": {
     "grade": false,
     "grade_id": "agg5",
     "locked": false,
     "schema_version": 3,
     "solution": true,
     "task": false
    }
   },
   "outputs": [
    {
     "data": {
      "text/plain": [
       "artist.inverted\n",
       "Jay-Z                5\n",
       "Houston, Whitney     4\n",
       "Dixie Chicks, The    4\n",
       "Price, Kelly         3\n",
       "Thomas, Carl         3\n",
       "                    ..\n",
       "Madison Avenue       1\n",
       "Ludacris             1\n",
       "Lucy Pearl           1\n",
       "Lox                  1\n",
       "2 Pac                1\n",
       "Name: Unique Songs, Length: 228, dtype: int64"
      ]
     },
     "execution_count": 30,
     "metadata": {},
     "output_type": "execute_result"
    }
   ],
   "source": [
    "### BEGIN SOLUTION\n",
    "artists = billboard_melt.groupby('artist.inverted').track.agg('nunique').rename('Unique Songs')\n",
    "artists.sort_values(ascending=False)\n",
    "### END SOLUTION"
   ]
  },
  {
   "cell_type": "code",
   "execution_count": null,
   "metadata": {
    "nbgrader": {
     "grade": true,
     "grade_id": "agg5_test",
     "locked": true,
     "points": 1,
     "schema_version": 3,
     "solution": false,
     "task": false
    }
   },
   "outputs": [],
   "source": [
    "# DO NOT EDIT - this cell is blank for autograding purposes\n",
    "### BEGIN HIDDEN TESTS\n",
    "test_artists = test_melt.groupby('artist.inverted').track.agg('nunique').rename('Unique Songs')\n",
    "pd.testing.assert_series_equal(_, test_artists.sort_values(ascending=False))\n",
    "### END HIDDEN TESTS"
   ]
  },
  {
   "cell_type": "markdown",
   "metadata": {
    "nbgrader": {
     "grade": false,
     "grade_id": "asdlfjalsdfjald",
     "locked": true,
     "schema_version": 3,
     "solution": false,
     "task": false
    }
   },
   "source": [
    "**Q3.6.** Create the Series `artists_weeks` where each label is a unique artist and the values represent the total number of weeks their songs appear in the top 100. Rename the `name` attribute to be 'Total Weeks'. Output the result in descending order."
   ]
  },
  {
   "cell_type": "code",
   "execution_count": 31,
   "metadata": {
    "nbgrader": {
     "grade": false,
     "grade_id": "agg6",
     "locked": false,
     "schema_version": 3,
     "solution": true,
     "task": false
    }
   },
   "outputs": [
    {
     "data": {
      "text/plain": [
       "artist.inverted\n",
       "Creed               104\n",
       "Lonestar             95\n",
       "Destiny's Child      92\n",
       "N'Sync               74\n",
       "Sisqo                74\n",
       "                   ... \n",
       "Zombie Nation         2\n",
       "Estefan, Gloria       1\n",
       "Ghostface Killah      1\n",
       "Fragma                1\n",
       "Master P              1\n",
       "Name: Total Weeks, Length: 228, dtype: int64"
      ]
     },
     "execution_count": 31,
     "metadata": {},
     "output_type": "execute_result"
    }
   ],
   "source": [
    "### BEGIN SOLUTION\n",
    "artists_weeks = billboard_melt.groupby('artist.inverted')['Week Number'].count().rename('Total Weeks')\n",
    "artists_weeks.sort_values(ascending=False)\n",
    "### END SOLUTION"
   ]
  },
  {
   "cell_type": "code",
   "execution_count": null,
   "metadata": {
    "nbgrader": {
     "grade": true,
     "grade_id": "agg6_test",
     "locked": true,
     "points": 1,
     "schema_version": 3,
     "solution": false,
     "task": false
    }
   },
   "outputs": [],
   "source": [
    "# DO NOT EDIT - this cell is blank for autograding purposes\n",
    "### BEGIN HIDDEN TESTS\n",
    "test_artists_weeks = test_melt.groupby('artist.inverted').track.count().rename('Total Weeks')\n",
    "pd.testing.assert_series_equal(_, test_artists_weeks.sort_values(ascending=False))\n",
    "### END HIDDEN TESTS"
   ]
  },
  {
   "cell_type": "markdown",
   "metadata": {
    "nbgrader": {
     "grade": false,
     "grade_id": "cell-fa473d31967c73b5",
     "locked": true,
     "schema_version": 3,
     "solution": false,
     "task": false
    }
   },
   "source": [
    "What other measures of performance could you come up with to determine the best artist using this data?\n",
    "\n",
    "How would you have answered these questions in the original wide format of the data?\n",
    "\n",
    "This short example is representative of the data analysis process. Often, one needs to reshape the data in multiple ways to be able to answer a question. Furthermore, the shape you need your data may depend on what visualization software packages you are using (Matplotlib vs Pandas vs Seaborn)."
   ]
  }
 ],
 "metadata": {
  "celltoolbar": "Create Assignment",
  "kernelspec": {
   "display_name": "Python 3",
   "language": "python",
   "name": "python3"
  },
  "language_info": {
   "codemirror_mode": {
    "name": "ipython",
    "version": 3
   },
   "file_extension": ".py",
   "mimetype": "text/x-python",
   "name": "python",
   "nbconvert_exporter": "python",
   "pygments_lexer": "ipython3",
   "version": "3.7.4"
  }
 },
 "nbformat": 4,
 "nbformat_minor": 4
}
