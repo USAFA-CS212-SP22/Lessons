{
 "cells": [
  {
   "cell_type": "markdown",
   "metadata": {
    "nbgrader": {
     "grade": false,
     "grade_id": "cell-8c5733f4991ba5a0",
     "locked": true,
     "schema_version": 3,
     "solution": false,
     "task": false
    }
   },
   "source": [
    "## Objectives\n",
    "1. Use Pandas methods to work with missing data\n",
    "2. Convert columns from one data type to another\n",
    "3. Create histograms and scatter plots\n",
    "\n",
    "## Exercises\n",
    "We will again use the PGA Stats CSV file that we used in Week 1 as well as previously in the course. Run the following code cell to import the libraries that we will use in this lab. Note, we have added the statement `%matplotlib inline` which is an IPython magic command that tells Jupyter Notebook to render Matplotlib plots inline rather than as part of an output. You can read more [here](https://nbviewer.jupyter.org/github/ipython/ipython/blob/1.x/examples/notebooks/Part%203%20-%20Plotting%20with%20Matplotlib.ipynb)."
   ]
  },
  {
   "cell_type": "code",
   "execution_count": 3,
   "metadata": {},
   "outputs": [],
   "source": [
    "%matplotlib inline\n",
    "\n",
    "import numpy as np\n",
    "import pandas as pd\n",
    "import matplotlib.pyplot as plt\n",
    "import seaborn as sns"
   ]
  },
  {
   "cell_type": "markdown",
   "metadata": {
    "nbgrader": {
     "grade": false,
     "grade_id": "cell-c2c61288dafcf42b",
     "locked": true,
     "schema_version": 3,
     "solution": false,
     "task": false
    }
   },
   "source": [
    "### 1. Load the Data\n",
    "We are again going to use the PGA Stats dataset.\n",
    "\n",
    "**Q1.1.** Read the CSV file to a DataFrame named `pga` and specify the index as the player's name. Remember, the file must be in the same directory as this Jupyter Notebook or you must specify the entire file path. Inspect the first five rows."
   ]
  },
  {
   "cell_type": "code",
   "execution_count": 4,
   "metadata": {
    "nbgrader": {
     "grade": false,
     "grade_id": "load1",
     "locked": false,
     "schema_version": 3,
     "solution": true,
     "task": false
    }
   },
   "outputs": [
    {
     "data": {
      "text/html": [
       "<div>\n",
       "<style scoped>\n",
       "    .dataframe tbody tr th:only-of-type {\n",
       "        vertical-align: middle;\n",
       "    }\n",
       "\n",
       "    .dataframe tbody tr th {\n",
       "        vertical-align: top;\n",
       "    }\n",
       "\n",
       "    .dataframe thead th {\n",
       "        text-align: right;\n",
       "    }\n",
       "</style>\n",
       "<table border=\"1\" class=\"dataframe\">\n",
       "  <thead>\n",
       "    <tr style=\"text-align: right;\">\n",
       "      <th></th>\n",
       "      <th>RK</th>\n",
       "      <th>AGE</th>\n",
       "      <th>EVENTS</th>\n",
       "      <th>ROUNDS</th>\n",
       "      <th>CUTS MADE</th>\n",
       "      <th>TOP 10</th>\n",
       "      <th>WINS</th>\n",
       "      <th>CUP POINTS</th>\n",
       "      <th>EARNINGS</th>\n",
       "    </tr>\n",
       "    <tr>\n",
       "      <th>PLAYER</th>\n",
       "      <th></th>\n",
       "      <th></th>\n",
       "      <th></th>\n",
       "      <th></th>\n",
       "      <th></th>\n",
       "      <th></th>\n",
       "      <th></th>\n",
       "      <th></th>\n",
       "      <th></th>\n",
       "    </tr>\n",
       "  </thead>\n",
       "  <tbody>\n",
       "    <tr>\n",
       "      <th>Justin Thomas</th>\n",
       "      <td>1</td>\n",
       "      <td>25</td>\n",
       "      <td>23</td>\n",
       "      <td>82</td>\n",
       "      <td>21</td>\n",
       "      <td>10</td>\n",
       "      <td>3</td>\n",
       "      <td>1,610</td>\n",
       "      <td>$8,694,821.00</td>\n",
       "    </tr>\n",
       "    <tr>\n",
       "      <th>Dustin Johnson</th>\n",
       "      <td>2</td>\n",
       "      <td>34</td>\n",
       "      <td>20</td>\n",
       "      <td>74</td>\n",
       "      <td>19</td>\n",
       "      <td>12</td>\n",
       "      <td>3</td>\n",
       "      <td>2,056</td>\n",
       "      <td>$8,457,352.00</td>\n",
       "    </tr>\n",
       "    <tr>\n",
       "      <th>Justin Rose</th>\n",
       "      <td>3</td>\n",
       "      <td>38</td>\n",
       "      <td>18</td>\n",
       "      <td>66</td>\n",
       "      <td>17</td>\n",
       "      <td>11</td>\n",
       "      <td>2</td>\n",
       "      <td>2,260</td>\n",
       "      <td>$8,130,678.00</td>\n",
       "    </tr>\n",
       "    <tr>\n",
       "      <th>Bryson DeChambeau</th>\n",
       "      <td>4</td>\n",
       "      <td>25</td>\n",
       "      <td>26</td>\n",
       "      <td>93</td>\n",
       "      <td>22</td>\n",
       "      <td>9</td>\n",
       "      <td>3</td>\n",
       "      <td>2,188</td>\n",
       "      <td>$8,094,489.00</td>\n",
       "    </tr>\n",
       "    <tr>\n",
       "      <th>Brooks Koepka</th>\n",
       "      <td>5</td>\n",
       "      <td>28</td>\n",
       "      <td>17</td>\n",
       "      <td>62</td>\n",
       "      <td>15</td>\n",
       "      <td>6</td>\n",
       "      <td>2</td>\n",
       "      <td>1,093</td>\n",
       "      <td>$7,094,047.00</td>\n",
       "    </tr>\n",
       "  </tbody>\n",
       "</table>\n",
       "</div>"
      ],
      "text/plain": [
       "                   RK AGE  EVENTS  ROUNDS  CUTS MADE  TOP 10  WINS CUP POINTS  \\\n",
       "PLAYER                                                                          \n",
       "Justin Thomas       1  25      23      82         21      10     3      1,610   \n",
       "Dustin Johnson      2  34      20      74         19      12     3      2,056   \n",
       "Justin Rose         3  38      18      66         17      11     2      2,260   \n",
       "Bryson DeChambeau   4  25      26      93         22       9     3      2,188   \n",
       "Brooks Koepka       5  28      17      62         15       6     2      1,093   \n",
       "\n",
       "                         EARNINGS  \n",
       "PLAYER                             \n",
       "Justin Thomas      $8,694,821.00   \n",
       "Dustin Johnson     $8,457,352.00   \n",
       "Justin Rose        $8,130,678.00   \n",
       "Bryson DeChambeau  $8,094,489.00   \n",
       "Brooks Koepka      $7,094,047.00   "
      ]
     },
     "execution_count": 4,
     "metadata": {},
     "output_type": "execute_result"
    }
   ],
   "source": [
    "### BEGIN SOLUTION\n",
    "pga = pd.read_csv('PGA Stats.csv', index_col = 1)\n",
    "pga.head()\n",
    "### END SOLUTION"
   ]
  },
  {
   "cell_type": "code",
   "execution_count": null,
   "metadata": {
    "nbgrader": {
     "grade": true,
     "grade_id": "load1_test",
     "locked": true,
     "points": 1,
     "schema_version": 3,
     "solution": false,
     "task": false
    }
   },
   "outputs": [],
   "source": [
    "# DO NOT EDIT\n",
    "if pga is None:\n",
    "    raise NameError(\"Did not name your DataFrame correctly\")\n",
    "### BEGIN HIDDEN TESTS\n",
    "test_df = pd.read_csv('PGA Stats.csv', index_col = 1)\n",
    "pd.testing.assert_frame_equal(_, test_df.head())\n",
    "pd.testing.assert_frame_equal(pga, test_df)\n",
    "### END HIDDEN TESTS"
   ]
  },
  {
   "cell_type": "markdown",
   "metadata": {
    "nbgrader": {
     "grade": false,
     "grade_id": "cell-4b5d1f636bae4718",
     "locked": true,
     "schema_version": 3,
     "solution": false,
     "task": false
    }
   },
   "source": [
    "**Q1.2.** Next, summarize the data to understand the types of data and some summary statistics for numeric columns."
   ]
  },
  {
   "cell_type": "code",
   "execution_count": 5,
   "metadata": {
    "nbgrader": {
     "grade": true,
     "grade_id": "load2",
     "locked": false,
     "points": 1,
     "schema_version": 3,
     "solution": true,
     "task": false
    }
   },
   "outputs": [
    {
     "name": "stdout",
     "output_type": "stream",
     "text": [
      "<class 'pandas.core.frame.DataFrame'>\n",
      "Index: 559 entries, Justin Thomas to Len Mattiace\n",
      "Data columns (total 9 columns):\n",
      " #   Column      Non-Null Count  Dtype \n",
      "---  ------      --------------  ----- \n",
      " 0   RK          559 non-null    int64 \n",
      " 1   AGE         559 non-null    object\n",
      " 2   EVENTS      559 non-null    int64 \n",
      " 3   ROUNDS      559 non-null    int64 \n",
      " 4   CUTS MADE   559 non-null    int64 \n",
      " 5   TOP 10      559 non-null    int64 \n",
      " 6   WINS        559 non-null    int64 \n",
      " 7   CUP POINTS  559 non-null    object\n",
      " 8   EARNINGS    559 non-null    object\n",
      "dtypes: int64(6), object(3)\n",
      "memory usage: 43.7+ KB\n"
     ]
    },
    {
     "data": {
      "text/html": [
       "<div>\n",
       "<style scoped>\n",
       "    .dataframe tbody tr th:only-of-type {\n",
       "        vertical-align: middle;\n",
       "    }\n",
       "\n",
       "    .dataframe tbody tr th {\n",
       "        vertical-align: top;\n",
       "    }\n",
       "\n",
       "    .dataframe thead th {\n",
       "        text-align: right;\n",
       "    }\n",
       "</style>\n",
       "<table border=\"1\" class=\"dataframe\">\n",
       "  <thead>\n",
       "    <tr style=\"text-align: right;\">\n",
       "      <th></th>\n",
       "      <th>RK</th>\n",
       "      <th>EVENTS</th>\n",
       "      <th>ROUNDS</th>\n",
       "      <th>CUTS MADE</th>\n",
       "      <th>TOP 10</th>\n",
       "      <th>WINS</th>\n",
       "    </tr>\n",
       "  </thead>\n",
       "  <tbody>\n",
       "    <tr>\n",
       "      <th>count</th>\n",
       "      <td>559.000000</td>\n",
       "      <td>559.000000</td>\n",
       "      <td>559.000000</td>\n",
       "      <td>559.000000</td>\n",
       "      <td>559.00000</td>\n",
       "      <td>559.000000</td>\n",
       "    </tr>\n",
       "    <tr>\n",
       "      <th>mean</th>\n",
       "      <td>196.518784</td>\n",
       "      <td>10.651163</td>\n",
       "      <td>26.398927</td>\n",
       "      <td>6.257603</td>\n",
       "      <td>1.01610</td>\n",
       "      <td>0.087657</td>\n",
       "    </tr>\n",
       "    <tr>\n",
       "      <th>std</th>\n",
       "      <td>80.134134</td>\n",
       "      <td>10.916839</td>\n",
       "      <td>37.230225</td>\n",
       "      <td>7.526168</td>\n",
       "      <td>1.92552</td>\n",
       "      <td>0.375564</td>\n",
       "    </tr>\n",
       "    <tr>\n",
       "      <th>min</th>\n",
       "      <td>1.000000</td>\n",
       "      <td>1.000000</td>\n",
       "      <td>0.000000</td>\n",
       "      <td>0.000000</td>\n",
       "      <td>0.00000</td>\n",
       "      <td>0.000000</td>\n",
       "    </tr>\n",
       "    <tr>\n",
       "      <th>25%</th>\n",
       "      <td>140.500000</td>\n",
       "      <td>1.000000</td>\n",
       "      <td>0.000000</td>\n",
       "      <td>0.000000</td>\n",
       "      <td>0.00000</td>\n",
       "      <td>0.000000</td>\n",
       "    </tr>\n",
       "    <tr>\n",
       "      <th>50%</th>\n",
       "      <td>254.000000</td>\n",
       "      <td>4.000000</td>\n",
       "      <td>0.000000</td>\n",
       "      <td>2.000000</td>\n",
       "      <td>0.00000</td>\n",
       "      <td>0.000000</td>\n",
       "    </tr>\n",
       "    <tr>\n",
       "      <th>75%</th>\n",
       "      <td>254.000000</td>\n",
       "      <td>22.000000</td>\n",
       "      <td>66.500000</td>\n",
       "      <td>13.000000</td>\n",
       "      <td>1.00000</td>\n",
       "      <td>0.000000</td>\n",
       "    </tr>\n",
       "    <tr>\n",
       "      <th>max</th>\n",
       "      <td>254.000000</td>\n",
       "      <td>32.000000</td>\n",
       "      <td>107.000000</td>\n",
       "      <td>25.000000</td>\n",
       "      <td>12.00000</td>\n",
       "      <td>3.000000</td>\n",
       "    </tr>\n",
       "  </tbody>\n",
       "</table>\n",
       "</div>"
      ],
      "text/plain": [
       "               RK      EVENTS      ROUNDS   CUTS MADE     TOP 10        WINS\n",
       "count  559.000000  559.000000  559.000000  559.000000  559.00000  559.000000\n",
       "mean   196.518784   10.651163   26.398927    6.257603    1.01610    0.087657\n",
       "std     80.134134   10.916839   37.230225    7.526168    1.92552    0.375564\n",
       "min      1.000000    1.000000    0.000000    0.000000    0.00000    0.000000\n",
       "25%    140.500000    1.000000    0.000000    0.000000    0.00000    0.000000\n",
       "50%    254.000000    4.000000    0.000000    2.000000    0.00000    0.000000\n",
       "75%    254.000000   22.000000   66.500000   13.000000    1.00000    0.000000\n",
       "max    254.000000   32.000000  107.000000   25.000000   12.00000    3.000000"
      ]
     },
     "execution_count": 5,
     "metadata": {},
     "output_type": "execute_result"
    }
   ],
   "source": [
    "### BEGIN SOLUTION\n",
    "pga.info()\n",
    "pga.describe()\n",
    "### END SOLUTION"
   ]
  },
  {
   "cell_type": "markdown",
   "metadata": {
    "nbgrader": {
     "grade": false,
     "grade_id": "cell-c96134561fdf219e",
     "locked": true,
     "schema_version": 3,
     "solution": false,
     "task": false
    }
   },
   "source": [
    "Do any of the summary statistics for `RK` make sense? Why are `AGE`, `CUP POINTS`, and `EARNINGS` not represented in the summary statistics?\n",
    "\n",
    "**Q1.3.** It may not be obvious from the output of `head`, but `CUP POINTS` and `EARNINGS` have commas and dollar signs which make it unclear for Python to determine the appropriate computational data type. As a result, it stores them as a generic object. However, it is not as obvious why `AGE` is not numeric. To understand why, inspect the last five rows of the data set using the `tail` method."
   ]
  },
  {
   "cell_type": "code",
   "execution_count": 6,
   "metadata": {
    "nbgrader": {
     "grade": false,
     "grade_id": "load3",
     "locked": false,
     "schema_version": 3,
     "solution": true,
     "task": false
    }
   },
   "outputs": [
    {
     "data": {
      "text/html": [
       "<div>\n",
       "<style scoped>\n",
       "    .dataframe tbody tr th:only-of-type {\n",
       "        vertical-align: middle;\n",
       "    }\n",
       "\n",
       "    .dataframe tbody tr th {\n",
       "        vertical-align: top;\n",
       "    }\n",
       "\n",
       "    .dataframe thead th {\n",
       "        text-align: right;\n",
       "    }\n",
       "</style>\n",
       "<table border=\"1\" class=\"dataframe\">\n",
       "  <thead>\n",
       "    <tr style=\"text-align: right;\">\n",
       "      <th></th>\n",
       "      <th>RK</th>\n",
       "      <th>AGE</th>\n",
       "      <th>EVENTS</th>\n",
       "      <th>ROUNDS</th>\n",
       "      <th>CUTS MADE</th>\n",
       "      <th>TOP 10</th>\n",
       "      <th>WINS</th>\n",
       "      <th>CUP POINTS</th>\n",
       "      <th>EARNINGS</th>\n",
       "    </tr>\n",
       "    <tr>\n",
       "      <th>PLAYER</th>\n",
       "      <th></th>\n",
       "      <th></th>\n",
       "      <th></th>\n",
       "      <th></th>\n",
       "      <th></th>\n",
       "      <th></th>\n",
       "      <th></th>\n",
       "      <th></th>\n",
       "      <th></th>\n",
       "    </tr>\n",
       "  </thead>\n",
       "  <tbody>\n",
       "    <tr>\n",
       "      <th>Tony Romo</th>\n",
       "      <td>254</td>\n",
       "      <td>--</td>\n",
       "      <td>1</td>\n",
       "      <td>2</td>\n",
       "      <td>0</td>\n",
       "      <td>0</td>\n",
       "      <td>0</td>\n",
       "      <td>0</td>\n",
       "      <td>--</td>\n",
       "    </tr>\n",
       "    <tr>\n",
       "      <th>Peter Jacobsen</th>\n",
       "      <td>254</td>\n",
       "      <td>64</td>\n",
       "      <td>1</td>\n",
       "      <td>3</td>\n",
       "      <td>0</td>\n",
       "      <td>0</td>\n",
       "      <td>0</td>\n",
       "      <td>0</td>\n",
       "      <td>--</td>\n",
       "    </tr>\n",
       "    <tr>\n",
       "      <th>Guy Boros</th>\n",
       "      <td>254</td>\n",
       "      <td>54</td>\n",
       "      <td>1</td>\n",
       "      <td>2</td>\n",
       "      <td>0</td>\n",
       "      <td>0</td>\n",
       "      <td>0</td>\n",
       "      <td>0</td>\n",
       "      <td>--</td>\n",
       "    </tr>\n",
       "    <tr>\n",
       "      <th>Lee Janzen</th>\n",
       "      <td>254</td>\n",
       "      <td>54</td>\n",
       "      <td>1</td>\n",
       "      <td>3</td>\n",
       "      <td>0</td>\n",
       "      <td>0</td>\n",
       "      <td>0</td>\n",
       "      <td>0</td>\n",
       "      <td>--</td>\n",
       "    </tr>\n",
       "    <tr>\n",
       "      <th>Len Mattiace</th>\n",
       "      <td>254</td>\n",
       "      <td>51</td>\n",
       "      <td>1</td>\n",
       "      <td>2</td>\n",
       "      <td>0</td>\n",
       "      <td>0</td>\n",
       "      <td>0</td>\n",
       "      <td>0</td>\n",
       "      <td>--</td>\n",
       "    </tr>\n",
       "  </tbody>\n",
       "</table>\n",
       "</div>"
      ],
      "text/plain": [
       "                 RK AGE  EVENTS  ROUNDS  CUTS MADE  TOP 10  WINS CUP POINTS  \\\n",
       "PLAYER                                                                        \n",
       "Tony Romo       254  --       1       2          0       0     0          0   \n",
       "Peter Jacobsen  254  64       1       3          0       0     0          0   \n",
       "Guy Boros       254  54       1       2          0       0     0          0   \n",
       "Lee Janzen      254  54       1       3          0       0     0          0   \n",
       "Len Mattiace    254  51       1       2          0       0     0          0   \n",
       "\n",
       "               EARNINGS  \n",
       "PLAYER                   \n",
       "Tony Romo            --  \n",
       "Peter Jacobsen       --  \n",
       "Guy Boros            --  \n",
       "Lee Janzen           --  \n",
       "Len Mattiace         --  "
      ]
     },
     "execution_count": 6,
     "metadata": {},
     "output_type": "execute_result"
    }
   ],
   "source": [
    "### BEGIN SOLUTION\n",
    "pga.tail()\n",
    "### END SOLUTION"
   ]
  },
  {
   "cell_type": "code",
   "execution_count": null,
   "metadata": {
    "nbgrader": {
     "grade": true,
     "grade_id": "load3_test",
     "locked": true,
     "points": 1,
     "schema_version": 3,
     "solution": false,
     "task": false
    }
   },
   "outputs": [],
   "source": [
    "# DO NOT EDIT - this cell is blank for autograding purposes\n",
    "### BEGIN HIDDEN TESTS\n",
    "pd.testing.assert_frame_equal(_, test_df.tail())\n",
    "### END HIDDEN TESTS"
   ]
  },
  {
   "cell_type": "markdown",
   "metadata": {
    "nbgrader": {
     "grade": false,
     "grade_id": "cell-60c07ec5d6bedd74",
     "locked": true,
     "schema_version": 3,
     "solution": false,
     "task": false
    }
   },
   "source": [
    "In this dataset, there are '--' representing either unknown quantities, a zero, or a not applicable designation. Ideally, we would speak with the owner of the data to clarify how each of these are encoded. In reality, this is often not possible and the same value may be used to encode all three different cases. Often, we must infer how to handle these types of values based on the data. For this exercise, we will encode those values with NaN (not a number) values.\n",
    "\n",
    "**Q1.4.** In the below cell, again read the 'PGA Stats.csv' file to a DataFrame named `pga`, but specify '--' as the argument to the `na_values` parameter. This parameter will convert '--' occurences to an NaN. There are many other parameters for the `read_csv` function in order to handle a variety of issues with data files. You can find the documentation [here](https://pandas.pydata.org/pandas-docs/stable/reference/api/pandas.read_csv.html).\n",
    "\n",
    "After creating the DataFrame, use the `info` and `describe` methods to note the differences. What computational data type is the `AGE` column and how many non-null elements are there? What are the summary statistics?"
   ]
  },
  {
   "cell_type": "code",
   "execution_count": 7,
   "metadata": {
    "nbgrader": {
     "grade": false,
     "grade_id": "load4",
     "locked": false,
     "schema_version": 3,
     "solution": true,
     "task": false
    }
   },
   "outputs": [
    {
     "name": "stdout",
     "output_type": "stream",
     "text": [
      "<class 'pandas.core.frame.DataFrame'>\n",
      "Index: 559 entries, Justin Thomas to Len Mattiace\n",
      "Data columns (total 9 columns):\n",
      " #   Column      Non-Null Count  Dtype  \n",
      "---  ------      --------------  -----  \n",
      " 0   RK          559 non-null    int64  \n",
      " 1   AGE         403 non-null    float64\n",
      " 2   EVENTS      559 non-null    int64  \n",
      " 3   ROUNDS      559 non-null    int64  \n",
      " 4   CUTS MADE   559 non-null    int64  \n",
      " 5   TOP 10      559 non-null    int64  \n",
      " 6   WINS        559 non-null    int64  \n",
      " 7   CUP POINTS  559 non-null    object \n",
      " 8   EARNINGS    253 non-null    object \n",
      "dtypes: float64(1), int64(6), object(2)\n",
      "memory usage: 43.7+ KB\n"
     ]
    },
    {
     "data": {
      "text/html": [
       "<div>\n",
       "<style scoped>\n",
       "    .dataframe tbody tr th:only-of-type {\n",
       "        vertical-align: middle;\n",
       "    }\n",
       "\n",
       "    .dataframe tbody tr th {\n",
       "        vertical-align: top;\n",
       "    }\n",
       "\n",
       "    .dataframe thead th {\n",
       "        text-align: right;\n",
       "    }\n",
       "</style>\n",
       "<table border=\"1\" class=\"dataframe\">\n",
       "  <thead>\n",
       "    <tr style=\"text-align: right;\">\n",
       "      <th></th>\n",
       "      <th>RK</th>\n",
       "      <th>AGE</th>\n",
       "      <th>EVENTS</th>\n",
       "      <th>ROUNDS</th>\n",
       "      <th>CUTS MADE</th>\n",
       "      <th>TOP 10</th>\n",
       "      <th>WINS</th>\n",
       "    </tr>\n",
       "  </thead>\n",
       "  <tbody>\n",
       "    <tr>\n",
       "      <th>count</th>\n",
       "      <td>559.000000</td>\n",
       "      <td>403.000000</td>\n",
       "      <td>559.000000</td>\n",
       "      <td>559.000000</td>\n",
       "      <td>559.000000</td>\n",
       "      <td>559.00000</td>\n",
       "      <td>559.000000</td>\n",
       "    </tr>\n",
       "    <tr>\n",
       "      <th>mean</th>\n",
       "      <td>196.518784</td>\n",
       "      <td>35.414392</td>\n",
       "      <td>10.651163</td>\n",
       "      <td>26.398927</td>\n",
       "      <td>6.257603</td>\n",
       "      <td>1.01610</td>\n",
       "      <td>0.087657</td>\n",
       "    </tr>\n",
       "    <tr>\n",
       "      <th>std</th>\n",
       "      <td>80.134134</td>\n",
       "      <td>8.481146</td>\n",
       "      <td>10.916839</td>\n",
       "      <td>37.230225</td>\n",
       "      <td>7.526168</td>\n",
       "      <td>1.92552</td>\n",
       "      <td>0.375564</td>\n",
       "    </tr>\n",
       "    <tr>\n",
       "      <th>min</th>\n",
       "      <td>1.000000</td>\n",
       "      <td>19.000000</td>\n",
       "      <td>1.000000</td>\n",
       "      <td>0.000000</td>\n",
       "      <td>0.000000</td>\n",
       "      <td>0.00000</td>\n",
       "      <td>0.000000</td>\n",
       "    </tr>\n",
       "    <tr>\n",
       "      <th>25%</th>\n",
       "      <td>140.500000</td>\n",
       "      <td>29.000000</td>\n",
       "      <td>1.000000</td>\n",
       "      <td>0.000000</td>\n",
       "      <td>0.000000</td>\n",
       "      <td>0.00000</td>\n",
       "      <td>0.000000</td>\n",
       "    </tr>\n",
       "    <tr>\n",
       "      <th>50%</th>\n",
       "      <td>254.000000</td>\n",
       "      <td>35.000000</td>\n",
       "      <td>4.000000</td>\n",
       "      <td>0.000000</td>\n",
       "      <td>2.000000</td>\n",
       "      <td>0.00000</td>\n",
       "      <td>0.000000</td>\n",
       "    </tr>\n",
       "    <tr>\n",
       "      <th>75%</th>\n",
       "      <td>254.000000</td>\n",
       "      <td>41.000000</td>\n",
       "      <td>22.000000</td>\n",
       "      <td>66.500000</td>\n",
       "      <td>13.000000</td>\n",
       "      <td>1.00000</td>\n",
       "      <td>0.000000</td>\n",
       "    </tr>\n",
       "    <tr>\n",
       "      <th>max</th>\n",
       "      <td>254.000000</td>\n",
       "      <td>67.000000</td>\n",
       "      <td>32.000000</td>\n",
       "      <td>107.000000</td>\n",
       "      <td>25.000000</td>\n",
       "      <td>12.00000</td>\n",
       "      <td>3.000000</td>\n",
       "    </tr>\n",
       "  </tbody>\n",
       "</table>\n",
       "</div>"
      ],
      "text/plain": [
       "               RK         AGE      EVENTS      ROUNDS   CUTS MADE     TOP 10  \\\n",
       "count  559.000000  403.000000  559.000000  559.000000  559.000000  559.00000   \n",
       "mean   196.518784   35.414392   10.651163   26.398927    6.257603    1.01610   \n",
       "std     80.134134    8.481146   10.916839   37.230225    7.526168    1.92552   \n",
       "min      1.000000   19.000000    1.000000    0.000000    0.000000    0.00000   \n",
       "25%    140.500000   29.000000    1.000000    0.000000    0.000000    0.00000   \n",
       "50%    254.000000   35.000000    4.000000    0.000000    2.000000    0.00000   \n",
       "75%    254.000000   41.000000   22.000000   66.500000   13.000000    1.00000   \n",
       "max    254.000000   67.000000   32.000000  107.000000   25.000000   12.00000   \n",
       "\n",
       "             WINS  \n",
       "count  559.000000  \n",
       "mean     0.087657  \n",
       "std      0.375564  \n",
       "min      0.000000  \n",
       "25%      0.000000  \n",
       "50%      0.000000  \n",
       "75%      0.000000  \n",
       "max      3.000000  "
      ]
     },
     "execution_count": 7,
     "metadata": {},
     "output_type": "execute_result"
    }
   ],
   "source": [
    "### BEGIN SOLUTION\n",
    "pga = pd.read_csv('PGA Stats.csv', index_col=1, na_values='--')\n",
    "pga.info()\n",
    "pga.describe()\n",
    "### END SOLUTION"
   ]
  },
  {
   "cell_type": "code",
   "execution_count": null,
   "metadata": {
    "nbgrader": {
     "grade": true,
     "grade_id": "load4_test",
     "locked": true,
     "points": 1,
     "schema_version": 3,
     "solution": false,
     "task": false
    }
   },
   "outputs": [],
   "source": [
    "# DO NOT EDIT - this cell is blank for autograding purposes\n",
    "### BEGIN HIDDEN TESTS\n",
    "test_df = pd.read_csv('PGA Stats.csv', index_col = 1, na_values='--')\n",
    "pd.testing.assert_frame_equal(pga, test_df)\n",
    "### END HIDDEN TESTS"
   ]
  },
  {
   "cell_type": "markdown",
   "metadata": {
    "nbgrader": {
     "grade": false,
     "grade_id": "Replacing_text",
     "locked": true,
     "schema_version": 3,
     "solution": false
    }
   },
   "source": [
    "Run the cell below. It is removing the dollar signs and commas and then converting the column to a float so that we can analyze it. **Note: the `replace` method used below is a string method which is why we access the `str` attribute first. This is different than the `replace` method from the reading.**\n",
    "\n",
    "The statement that is commented out is equivalent to the first two statements. It is using regular expressions (regex) to replace dollar signs and commas with blanks and then converting it to a float. Regular expressions are outside the scope of this class."
   ]
  },
  {
   "cell_type": "code",
   "execution_count": 8,
   "metadata": {},
   "outputs": [
    {
     "data": {
      "text/html": [
       "<div>\n",
       "<style scoped>\n",
       "    .dataframe tbody tr th:only-of-type {\n",
       "        vertical-align: middle;\n",
       "    }\n",
       "\n",
       "    .dataframe tbody tr th {\n",
       "        vertical-align: top;\n",
       "    }\n",
       "\n",
       "    .dataframe thead th {\n",
       "        text-align: right;\n",
       "    }\n",
       "</style>\n",
       "<table border=\"1\" class=\"dataframe\">\n",
       "  <thead>\n",
       "    <tr style=\"text-align: right;\">\n",
       "      <th></th>\n",
       "      <th>RK</th>\n",
       "      <th>AGE</th>\n",
       "      <th>EVENTS</th>\n",
       "      <th>ROUNDS</th>\n",
       "      <th>CUTS MADE</th>\n",
       "      <th>TOP 10</th>\n",
       "      <th>WINS</th>\n",
       "      <th>CUP POINTS</th>\n",
       "      <th>EARNINGS</th>\n",
       "    </tr>\n",
       "    <tr>\n",
       "      <th>PLAYER</th>\n",
       "      <th></th>\n",
       "      <th></th>\n",
       "      <th></th>\n",
       "      <th></th>\n",
       "      <th></th>\n",
       "      <th></th>\n",
       "      <th></th>\n",
       "      <th></th>\n",
       "      <th></th>\n",
       "    </tr>\n",
       "  </thead>\n",
       "  <tbody>\n",
       "    <tr>\n",
       "      <th>Justin Thomas</th>\n",
       "      <td>1</td>\n",
       "      <td>25.0</td>\n",
       "      <td>23</td>\n",
       "      <td>82</td>\n",
       "      <td>21</td>\n",
       "      <td>10</td>\n",
       "      <td>3</td>\n",
       "      <td>1,610</td>\n",
       "      <td>8694821.0</td>\n",
       "    </tr>\n",
       "    <tr>\n",
       "      <th>Dustin Johnson</th>\n",
       "      <td>2</td>\n",
       "      <td>34.0</td>\n",
       "      <td>20</td>\n",
       "      <td>74</td>\n",
       "      <td>19</td>\n",
       "      <td>12</td>\n",
       "      <td>3</td>\n",
       "      <td>2,056</td>\n",
       "      <td>8457352.0</td>\n",
       "    </tr>\n",
       "    <tr>\n",
       "      <th>Justin Rose</th>\n",
       "      <td>3</td>\n",
       "      <td>38.0</td>\n",
       "      <td>18</td>\n",
       "      <td>66</td>\n",
       "      <td>17</td>\n",
       "      <td>11</td>\n",
       "      <td>2</td>\n",
       "      <td>2,260</td>\n",
       "      <td>8130678.0</td>\n",
       "    </tr>\n",
       "    <tr>\n",
       "      <th>Bryson DeChambeau</th>\n",
       "      <td>4</td>\n",
       "      <td>25.0</td>\n",
       "      <td>26</td>\n",
       "      <td>93</td>\n",
       "      <td>22</td>\n",
       "      <td>9</td>\n",
       "      <td>3</td>\n",
       "      <td>2,188</td>\n",
       "      <td>8094489.0</td>\n",
       "    </tr>\n",
       "    <tr>\n",
       "      <th>Brooks Koepka</th>\n",
       "      <td>5</td>\n",
       "      <td>28.0</td>\n",
       "      <td>17</td>\n",
       "      <td>62</td>\n",
       "      <td>15</td>\n",
       "      <td>6</td>\n",
       "      <td>2</td>\n",
       "      <td>1,093</td>\n",
       "      <td>7094047.0</td>\n",
       "    </tr>\n",
       "  </tbody>\n",
       "</table>\n",
       "</div>"
      ],
      "text/plain": [
       "                   RK   AGE  EVENTS  ROUNDS  CUTS MADE  TOP 10  WINS  \\\n",
       "PLAYER                                                                 \n",
       "Justin Thomas       1  25.0      23      82         21      10     3   \n",
       "Dustin Johnson      2  34.0      20      74         19      12     3   \n",
       "Justin Rose         3  38.0      18      66         17      11     2   \n",
       "Bryson DeChambeau   4  25.0      26      93         22       9     3   \n",
       "Brooks Koepka       5  28.0      17      62         15       6     2   \n",
       "\n",
       "                  CUP POINTS   EARNINGS  \n",
       "PLAYER                                   \n",
       "Justin Thomas          1,610  8694821.0  \n",
       "Dustin Johnson         2,056  8457352.0  \n",
       "Justin Rose            2,260  8130678.0  \n",
       "Bryson DeChambeau      2,188  8094489.0  \n",
       "Brooks Koepka          1,093  7094047.0  "
      ]
     },
     "execution_count": 8,
     "metadata": {},
     "output_type": "execute_result"
    }
   ],
   "source": [
    "pga['EARNINGS'] = pga['EARNINGS'].str.replace('$','')\n",
    "pga['EARNINGS'] = pga['EARNINGS'].str.replace(',','').astype(float)\n",
    "# pga['EARNINGS'] = pga['EARNINGS'].replace('[\\$,]','', regex = True).astype(float)\n",
    "pga.head()"
   ]
  },
  {
   "cell_type": "markdown",
   "metadata": {
    "nbgrader": {
     "grade": false,
     "grade_id": "cell-f37c270654a87fb1",
     "locked": true,
     "schema_version": 3,
     "solution": false,
     "task": false
    }
   },
   "source": [
    "### 2. Missing Values\n",
    "Now that we have translated '--' to NaN values and removed dollar signs and commas, all of our data should be numeric. However, there are still several missing values in the AGE and EARNINGS columns.\n",
    "\n",
    "**Q2.1.** In the below cell, create an ordered list using Markdown to list at least two strategies to deal with the missing data."
   ]
  },
  {
   "cell_type": "markdown",
   "metadata": {
    "nbgrader": {
     "grade": true,
     "grade_id": "missing1",
     "locked": false,
     "points": 1,
     "schema_version": 3,
     "solution": true,
     "task": false
    }
   },
   "source": []
  },
  {
   "cell_type": "markdown",
   "metadata": {
    "nbgrader": {
     "grade": false,
     "grade_id": "cell-e2563e72e969b5e4",
     "locked": true,
     "schema_version": 3,
     "solution": false,
     "task": false
    }
   },
   "source": [
    "**Q2.2.** We will assume that a missing value in the EARNINGS column means that they did not earn any money. Fill these missing values with zeros."
   ]
  },
  {
   "cell_type": "code",
   "execution_count": 13,
   "metadata": {
    "nbgrader": {
     "grade": false,
     "grade_id": "missing2",
     "locked": false,
     "schema_version": 3,
     "solution": true,
     "task": false
    }
   },
   "outputs": [
    {
     "name": "stdout",
     "output_type": "stream",
     "text": [
      "<class 'pandas.core.frame.DataFrame'>\n",
      "Index: 559 entries, Justin Thomas to Len Mattiace\n",
      "Data columns (total 9 columns):\n",
      " #   Column      Non-Null Count  Dtype  \n",
      "---  ------      --------------  -----  \n",
      " 0   RK          559 non-null    int64  \n",
      " 1   AGE         403 non-null    float64\n",
      " 2   EVENTS      559 non-null    int64  \n",
      " 3   ROUNDS      559 non-null    int64  \n",
      " 4   CUTS MADE   559 non-null    int64  \n",
      " 5   TOP 10      559 non-null    int64  \n",
      " 6   WINS        559 non-null    int64  \n",
      " 7   CUP POINTS  559 non-null    object \n",
      " 8   EARNINGS    559 non-null    float64\n",
      "dtypes: float64(2), int64(6), object(1)\n",
      "memory usage: 43.7+ KB\n"
     ]
    }
   ],
   "source": [
    "### BEGIN SOLUTION\n",
    "pga['EARNINGS'] = pga.EARNINGS.fillna(0)\n",
    "pga.info()\n",
    "### END SOLUTION"
   ]
  },
  {
   "cell_type": "code",
   "execution_count": null,
   "metadata": {
    "nbgrader": {
     "grade": true,
     "grade_id": "missing2_test",
     "locked": true,
     "points": 1,
     "schema_version": 3,
     "solution": false,
     "task": false
    }
   },
   "outputs": [],
   "source": [
    "# DO NOT EDIT - this cell is blank for autograding purposes\n",
    "### BEGIN HIDDEN TESTS\n",
    "test_df['EARNINGS'] = test_df['EARNINGS'].replace('[\\$,]','', regex = True).astype(float)\n",
    "test_df['EARNINGS'] = test_df.EARNINGS.fillna(0)\n",
    "pd.testing.assert_series_equal(pga.EARNINGS, test_df.EARNINGS)\n",
    "### END HIDDEN TESTS"
   ]
  },
  {
   "cell_type": "markdown",
   "metadata": {
    "nbgrader": {
     "grade": false,
     "grade_id": "cell-cbd49df9ca53cb00",
     "locked": true,
     "schema_version": 3,
     "solution": false,
     "task": false
    }
   },
   "source": [
    "**Q2.3.** For the missing values in the AGE column, it is less clear what to do. We know that there are 156 players with an unknown age and we know that the DataFrame is sorted from top ranked to worst ranked players. In the below cell, inspect the first 10 players with an unknown age."
   ]
  },
  {
   "cell_type": "code",
   "execution_count": 15,
   "metadata": {
    "nbgrader": {
     "grade": false,
     "grade_id": "missing3",
     "locked": false,
     "schema_version": 3,
     "solution": true,
     "task": false
    }
   },
   "outputs": [
    {
     "data": {
      "text/html": [
       "<div>\n",
       "<style scoped>\n",
       "    .dataframe tbody tr th:only-of-type {\n",
       "        vertical-align: middle;\n",
       "    }\n",
       "\n",
       "    .dataframe tbody tr th {\n",
       "        vertical-align: top;\n",
       "    }\n",
       "\n",
       "    .dataframe thead th {\n",
       "        text-align: right;\n",
       "    }\n",
       "</style>\n",
       "<table border=\"1\" class=\"dataframe\">\n",
       "  <thead>\n",
       "    <tr style=\"text-align: right;\">\n",
       "      <th></th>\n",
       "      <th>RK</th>\n",
       "      <th>AGE</th>\n",
       "      <th>EVENTS</th>\n",
       "      <th>ROUNDS</th>\n",
       "      <th>CUTS MADE</th>\n",
       "      <th>TOP 10</th>\n",
       "      <th>WINS</th>\n",
       "      <th>CUP POINTS</th>\n",
       "      <th>EARNINGS</th>\n",
       "    </tr>\n",
       "    <tr>\n",
       "      <th>PLAYER</th>\n",
       "      <th></th>\n",
       "      <th></th>\n",
       "      <th></th>\n",
       "      <th></th>\n",
       "      <th></th>\n",
       "      <th></th>\n",
       "      <th></th>\n",
       "      <th></th>\n",
       "      <th></th>\n",
       "    </tr>\n",
       "  </thead>\n",
       "  <tbody>\n",
       "    <tr>\n",
       "      <th>Benjamin Silverman</th>\n",
       "      <td>129</td>\n",
       "      <td>NaN</td>\n",
       "      <td>28</td>\n",
       "      <td>84</td>\n",
       "      <td>17</td>\n",
       "      <td>2</td>\n",
       "      <td>0</td>\n",
       "      <td>323</td>\n",
       "      <td>793140.0</td>\n",
       "    </tr>\n",
       "    <tr>\n",
       "      <th>Jonathan Randolph</th>\n",
       "      <td>162</td>\n",
       "      <td>NaN</td>\n",
       "      <td>25</td>\n",
       "      <td>65</td>\n",
       "      <td>11</td>\n",
       "      <td>1</td>\n",
       "      <td>0</td>\n",
       "      <td>0</td>\n",
       "      <td>453328.0</td>\n",
       "    </tr>\n",
       "    <tr>\n",
       "      <th>Ethan Tracy</th>\n",
       "      <td>175</td>\n",
       "      <td>NaN</td>\n",
       "      <td>23</td>\n",
       "      <td>68</td>\n",
       "      <td>12</td>\n",
       "      <td>0</td>\n",
       "      <td>0</td>\n",
       "      <td>0</td>\n",
       "      <td>364493.0</td>\n",
       "    </tr>\n",
       "    <tr>\n",
       "      <th>Zac Blair</th>\n",
       "      <td>178</td>\n",
       "      <td>NaN</td>\n",
       "      <td>20</td>\n",
       "      <td>58</td>\n",
       "      <td>11</td>\n",
       "      <td>0</td>\n",
       "      <td>0</td>\n",
       "      <td>0</td>\n",
       "      <td>330507.0</td>\n",
       "    </tr>\n",
       "    <tr>\n",
       "      <th>Brett Stegmaier</th>\n",
       "      <td>180</td>\n",
       "      <td>NaN</td>\n",
       "      <td>21</td>\n",
       "      <td>61</td>\n",
       "      <td>12</td>\n",
       "      <td>0</td>\n",
       "      <td>0</td>\n",
       "      <td>0</td>\n",
       "      <td>305607.0</td>\n",
       "    </tr>\n",
       "    <tr>\n",
       "      <th>Nate Lashley</th>\n",
       "      <td>183</td>\n",
       "      <td>NaN</td>\n",
       "      <td>17</td>\n",
       "      <td>47</td>\n",
       "      <td>8</td>\n",
       "      <td>0</td>\n",
       "      <td>0</td>\n",
       "      <td>0</td>\n",
       "      <td>296650.0</td>\n",
       "    </tr>\n",
       "    <tr>\n",
       "      <th>Rob Oppenheim</th>\n",
       "      <td>185</td>\n",
       "      <td>NaN</td>\n",
       "      <td>26</td>\n",
       "      <td>68</td>\n",
       "      <td>11</td>\n",
       "      <td>0</td>\n",
       "      <td>0</td>\n",
       "      <td>0</td>\n",
       "      <td>279019.0</td>\n",
       "    </tr>\n",
       "    <tr>\n",
       "      <th>Zecheng Dou</th>\n",
       "      <td>213</td>\n",
       "      <td>NaN</td>\n",
       "      <td>23</td>\n",
       "      <td>49</td>\n",
       "      <td>4</td>\n",
       "      <td>0</td>\n",
       "      <td>0</td>\n",
       "      <td>0</td>\n",
       "      <td>90993.0</td>\n",
       "    </tr>\n",
       "    <tr>\n",
       "      <th>Brandon Hagy</th>\n",
       "      <td>218</td>\n",
       "      <td>NaN</td>\n",
       "      <td>3</td>\n",
       "      <td>0</td>\n",
       "      <td>2</td>\n",
       "      <td>0</td>\n",
       "      <td>0</td>\n",
       "      <td>0</td>\n",
       "      <td>76817.0</td>\n",
       "    </tr>\n",
       "    <tr>\n",
       "      <th>Andrew Yun</th>\n",
       "      <td>228</td>\n",
       "      <td>NaN</td>\n",
       "      <td>22</td>\n",
       "      <td>45</td>\n",
       "      <td>3</td>\n",
       "      <td>0</td>\n",
       "      <td>0</td>\n",
       "      <td>0</td>\n",
       "      <td>41566.0</td>\n",
       "    </tr>\n",
       "  </tbody>\n",
       "</table>\n",
       "</div>"
      ],
      "text/plain": [
       "                     RK  AGE  EVENTS  ROUNDS  CUTS MADE  TOP 10  WINS  \\\n",
       "PLAYER                                                                  \n",
       "Benjamin Silverman  129  NaN      28      84         17       2     0   \n",
       "Jonathan Randolph   162  NaN      25      65         11       1     0   \n",
       "Ethan Tracy         175  NaN      23      68         12       0     0   \n",
       "Zac Blair           178  NaN      20      58         11       0     0   \n",
       "Brett Stegmaier     180  NaN      21      61         12       0     0   \n",
       "Nate Lashley        183  NaN      17      47          8       0     0   \n",
       "Rob Oppenheim       185  NaN      26      68         11       0     0   \n",
       "Zecheng Dou         213  NaN      23      49          4       0     0   \n",
       "Brandon Hagy        218  NaN       3       0          2       0     0   \n",
       "Andrew Yun          228  NaN      22      45          3       0     0   \n",
       "\n",
       "                   CUP POINTS  EARNINGS  \n",
       "PLAYER                                   \n",
       "Benjamin Silverman        323  793140.0  \n",
       "Jonathan Randolph           0  453328.0  \n",
       "Ethan Tracy                 0  364493.0  \n",
       "Zac Blair                   0  330507.0  \n",
       "Brett Stegmaier             0  305607.0  \n",
       "Nate Lashley                0  296650.0  \n",
       "Rob Oppenheim               0  279019.0  \n",
       "Zecheng Dou                 0   90993.0  \n",
       "Brandon Hagy                0   76817.0  \n",
       "Andrew Yun                  0   41566.0  "
      ]
     },
     "execution_count": 15,
     "metadata": {},
     "output_type": "execute_result"
    }
   ],
   "source": [
    "### BEGIN SOLUTION\n",
    "pga.loc[pd.isnull(pga.AGE)].head(10)\n",
    "### END SOLUTION"
   ]
  },
  {
   "cell_type": "code",
   "execution_count": null,
   "metadata": {
    "nbgrader": {
     "grade": true,
     "grade_id": "missing3_test",
     "locked": true,
     "points": 1,
     "schema_version": 3,
     "solution": false,
     "task": false
    }
   },
   "outputs": [],
   "source": [
    "# DO NOT EDIT - this cell is blank for autograding purposes\n",
    "### BEGIN HIDDEN TESTS\n",
    "pd.testing.assert_frame_equal(_, test_df.loc[pd.isnull(test_df.AGE)].head(10))\n",
    "### END HIDDEN TESTS"
   ]
  },
  {
   "cell_type": "markdown",
   "metadata": {
    "nbgrader": {
     "grade": false,
     "grade_id": "cell-f74dc39579dc1518",
     "locked": true,
     "schema_version": 3,
     "solution": false,
     "task": false
    }
   },
   "source": [
    "It turns out that there are some well known and successful players with an unknown age. Poor Benjamin Silverman won nearly $800K and ESPN can't track down his age. We will leave players with an unknown age as an NaN value."
   ]
  },
  {
   "cell_type": "markdown",
   "metadata": {
    "nbgrader": {
     "grade": false,
     "grade_id": "cell-12575b05c721ec5d",
     "locked": true,
     "schema_version": 3,
     "solution": false,
     "task": false
    }
   },
   "source": [
    "### 3. Plotting\n",
    "**Q3.1.** Create a histogram of the number of events to understand the distribution. First, use the default number of bins to get an idea of the frequency of events played. Then, use the `bins` parameter to customize the size of the bins in order to get more granularity. How many values can EVENTS take on? What argument value makes sense in this case?"
   ]
  },
  {
   "cell_type": "code",
   "execution_count": 12,
   "metadata": {
    "nbgrader": {
     "grade": true,
     "grade_id": "plot1",
     "locked": false,
     "points": 1,
     "schema_version": 3,
     "solution": true,
     "task": false
    }
   },
   "outputs": [
    {
     "data": {
      "image/png": "[encoded data removed]",
      "text/plain": [
       "<Figure size 432x288 with 1 Axes>"
      ]
     },
     "metadata": {
      "needs_background": "light"
     },
     "output_type": "display_data"
    }
   ],
   "source": [
    "### BEGIN SOLUTION\n",
    "sns.distplot(pga.EVENTS, kde=False, bins=32)\n",
    "plt.show()\n",
    "### END SOLUTION"
   ]
  },
  {
   "cell_type": "markdown",
   "metadata": {
    "nbgrader": {
     "grade": false,
     "grade_id": "cell-92d6128f1a53dfd0",
     "locked": true,
     "schema_version": 3,
     "solution": false,
     "task": false
    }
   },
   "source": [
    "There are many players in the dataset, like Tony Romo, who only play in a single tournament based on sponsor's exemptions. As you can see, only 403 of 559 players have a recorded age and only 253 players earned money. \n",
    "\n",
    "**Q3.2.** Next, subset the data to those players who played in at least three events. Name the resulting DataFrame `pga_pros`. Use the `describe` method to view the summary statistics of each numeric column. "
   ]
  },
  {
   "cell_type": "code",
   "execution_count": 16,
   "metadata": {
    "nbgrader": {
     "grade": false,
     "grade_id": "plot2",
     "locked": false,
     "schema_version": 3,
     "solution": true,
     "task": false
    }
   },
   "outputs": [
    {
     "data": {
      "text/html": [
       "<div>\n",
       "<style scoped>\n",
       "    .dataframe tbody tr th:only-of-type {\n",
       "        vertical-align: middle;\n",
       "    }\n",
       "\n",
       "    .dataframe tbody tr th {\n",
       "        vertical-align: top;\n",
       "    }\n",
       "\n",
       "    .dataframe thead th {\n",
       "        text-align: right;\n",
       "    }\n",
       "</style>\n",
       "<table border=\"1\" class=\"dataframe\">\n",
       "  <thead>\n",
       "    <tr style=\"text-align: right;\">\n",
       "      <th></th>\n",
       "      <th>RK</th>\n",
       "      <th>AGE</th>\n",
       "      <th>EVENTS</th>\n",
       "      <th>ROUNDS</th>\n",
       "      <th>CUTS MADE</th>\n",
       "      <th>TOP 10</th>\n",
       "      <th>WINS</th>\n",
       "      <th>EARNINGS</th>\n",
       "    </tr>\n",
       "  </thead>\n",
       "  <tbody>\n",
       "    <tr>\n",
       "      <th>count</th>\n",
       "      <td>308.00000</td>\n",
       "      <td>281.000000</td>\n",
       "      <td>308.000000</td>\n",
       "      <td>308.000000</td>\n",
       "      <td>308.000000</td>\n",
       "      <td>308.000000</td>\n",
       "      <td>308.000000</td>\n",
       "      <td>3.080000e+02</td>\n",
       "    </tr>\n",
       "    <tr>\n",
       "      <th>mean</th>\n",
       "      <td>149.87987</td>\n",
       "      <td>34.665480</td>\n",
       "      <td>18.344156</td>\n",
       "      <td>47.792208</td>\n",
       "      <td>10.974026</td>\n",
       "      <td>1.831169</td>\n",
       "      <td>0.159091</td>\n",
       "      <td>1.121141e+06</td>\n",
       "    </tr>\n",
       "    <tr>\n",
       "      <th>std</th>\n",
       "      <td>82.50355</td>\n",
       "      <td>7.622466</td>\n",
       "      <td>9.178562</td>\n",
       "      <td>38.683410</td>\n",
       "      <td>7.278050</td>\n",
       "      <td>2.289489</td>\n",
       "      <td>0.494940</td>\n",
       "      <td>1.547037e+06</td>\n",
       "    </tr>\n",
       "    <tr>\n",
       "      <th>min</th>\n",
       "      <td>1.00000</td>\n",
       "      <td>20.000000</td>\n",
       "      <td>3.000000</td>\n",
       "      <td>0.000000</td>\n",
       "      <td>0.000000</td>\n",
       "      <td>0.000000</td>\n",
       "      <td>0.000000</td>\n",
       "      <td>0.000000e+00</td>\n",
       "    </tr>\n",
       "    <tr>\n",
       "      <th>25%</th>\n",
       "      <td>77.75000</td>\n",
       "      <td>29.000000</td>\n",
       "      <td>9.750000</td>\n",
       "      <td>0.000000</td>\n",
       "      <td>3.750000</td>\n",
       "      <td>0.000000</td>\n",
       "      <td>0.000000</td>\n",
       "      <td>3.123050e+04</td>\n",
       "    </tr>\n",
       "    <tr>\n",
       "      <th>50%</th>\n",
       "      <td>154.50000</td>\n",
       "      <td>34.000000</td>\n",
       "      <td>21.000000</td>\n",
       "      <td>63.000000</td>\n",
       "      <td>12.000000</td>\n",
       "      <td>1.000000</td>\n",
       "      <td>0.000000</td>\n",
       "      <td>5.280700e+05</td>\n",
       "    </tr>\n",
       "    <tr>\n",
       "      <th>75%</th>\n",
       "      <td>232.25000</td>\n",
       "      <td>40.000000</td>\n",
       "      <td>26.000000</td>\n",
       "      <td>80.000000</td>\n",
       "      <td>17.000000</td>\n",
       "      <td>3.000000</td>\n",
       "      <td>0.000000</td>\n",
       "      <td>1.525054e+06</td>\n",
       "    </tr>\n",
       "    <tr>\n",
       "      <th>max</th>\n",
       "      <td>254.00000</td>\n",
       "      <td>55.000000</td>\n",
       "      <td>32.000000</td>\n",
       "      <td>107.000000</td>\n",
       "      <td>25.000000</td>\n",
       "      <td>12.000000</td>\n",
       "      <td>3.000000</td>\n",
       "      <td>8.694821e+06</td>\n",
       "    </tr>\n",
       "  </tbody>\n",
       "</table>\n",
       "</div>"
      ],
      "text/plain": [
       "              RK         AGE      EVENTS      ROUNDS   CUTS MADE      TOP 10  \\\n",
       "count  308.00000  281.000000  308.000000  308.000000  308.000000  308.000000   \n",
       "mean   149.87987   34.665480   18.344156   47.792208   10.974026    1.831169   \n",
       "std     82.50355    7.622466    9.178562   38.683410    7.278050    2.289489   \n",
       "min      1.00000   20.000000    3.000000    0.000000    0.000000    0.000000   \n",
       "25%     77.75000   29.000000    9.750000    0.000000    3.750000    0.000000   \n",
       "50%    154.50000   34.000000   21.000000   63.000000   12.000000    1.000000   \n",
       "75%    232.25000   40.000000   26.000000   80.000000   17.000000    3.000000   \n",
       "max    254.00000   55.000000   32.000000  107.000000   25.000000   12.000000   \n",
       "\n",
       "             WINS      EARNINGS  \n",
       "count  308.000000  3.080000e+02  \n",
       "mean     0.159091  1.121141e+06  \n",
       "std      0.494940  1.547037e+06  \n",
       "min      0.000000  0.000000e+00  \n",
       "25%      0.000000  3.123050e+04  \n",
       "50%      0.000000  5.280700e+05  \n",
       "75%      0.000000  1.525054e+06  \n",
       "max      3.000000  8.694821e+06  "
      ]
     },
     "execution_count": 16,
     "metadata": {},
     "output_type": "execute_result"
    }
   ],
   "source": [
    "### BEGIN SOLUTION\n",
    "pga_pros = pga.loc[pga.EVENTS > 2]\n",
    "pga_pros.describe()\n",
    "### END SOLUTION"
   ]
  },
  {
   "cell_type": "code",
   "execution_count": null,
   "metadata": {
    "nbgrader": {
     "grade": true,
     "grade_id": "plot2_test",
     "locked": true,
     "points": 1,
     "schema_version": 3,
     "solution": false,
     "task": false
    }
   },
   "outputs": [],
   "source": [
    "# DO NOT EDIT - this cell is blank for autograding purposes\n",
    "### BEGIN HIDDEN TESTS\n",
    "test_pros = test_df.loc[test_df.EVENTS > 2]\n",
    "pd.testing.assert_frame_equal(pga_pros, test_pros)\n",
    "### END HIDDEN TESTS"
   ]
  },
  {
   "cell_type": "markdown",
   "metadata": {
    "nbgrader": {
     "grade": false,
     "grade_id": "cell-31f044cd17a811ce",
     "locked": true,
     "schema_version": 3,
     "solution": false,
     "task": false
    }
   },
   "source": [
    "**Q3.3.** In the below cell, create a scatter plot with Events on the x-axis and Earnings on the y-axis. Specify the horizontal axis label with 'Events Played' and the vertical axis label with 'Earnings'. Notice how I specified the y-axis ticks with a minimum of 0, a maximum of 10 million, and an interval of 2 million and customized the tick labels so they appear as \\\\$0M, \\\\$2M, etc."
   ]
  },
  {
   "cell_type": "code",
   "execution_count": 17,
   "metadata": {
    "nbgrader": {
     "grade": true,
     "grade_id": "plot3",
     "locked": false,
     "points": 1,
     "schema_version": 3,
     "solution": true,
     "task": false
    }
   },
   "outputs": [
    {
     "data": {
      "image/png": "[encoded data removed]",
      "text/plain": [
       "<Figure size 432x288 with 1 Axes>"
      ]
     },
     "metadata": {
      "needs_background": "light"
     },
     "output_type": "display_data"
    }
   ],
   "source": [
    "### BEGIN SOLUTION\n",
    "sns.scatterplot(x='EVENTS', y='EARNINGS', data=pga_pros)\n",
    "plt.xlabel('Events Played')\n",
    "plt.ylabel('Earnings')\n",
    "### END SOLUTION\n",
    "plt.yticks([0, 2e6, 4e6, 6e6, 8e6, 10e6], ['$0M', '$2M', '$4M', '$6M', '$8M', '$10M'])\n",
    "plt.show()"
   ]
  }
 ],
 "metadata": {
  "celltoolbar": "Create Assignment",
  "kernelspec": {
   "display_name": "Python 3",
   "language": "python",
   "name": "python3"
  },
  "language_info": {
   "codemirror_mode": {
    "name": "ipython",
    "version": 3
   },
   "file_extension": ".py",
   "mimetype": "text/x-python",
   "name": "python",
   "nbconvert_exporter": "python",
   "pygments_lexer": "ipython3",
   "version": "3.7.4"
  }
 },
 "nbformat": 4,
 "nbformat_minor": 4
}
