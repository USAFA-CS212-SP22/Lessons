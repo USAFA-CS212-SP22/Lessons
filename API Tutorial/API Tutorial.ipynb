{
 "cells": [
  {
   "cell_type": "markdown",
   "metadata": {},
   "source": [
    "# Python API Tutorial: Getting Started with APIs\n",
    "A majority of this work is not my own! I am condensing [this API tutorial](https://www.dataquest.io/blog/python-api-tutorial/), to provide a quick and easy way for you to learn what an API is and use one to gather data for your final project!!"
   ]
  },
  {
   "cell_type": "markdown",
   "metadata": {},
   "source": [
    "## What is an API?\n",
    "An API, or Application Programming Interface, is a server that you can use to retrieve and send data to using code. APIs are most commonly used to retrieve data, and that will be the focus of this beginner tutorial.\n",
    "\n",
    "When we want to receive data from an API, we need to make a `request`. Requests are used all over the web. For instance, when you visited this blog post, your web browser made a request to the Dataquest web server, which responded with the content of this web page. \n",
    "\n",
    "![API](api-request.svg)\n",
    "\n",
    "API requests work in exactly the same way – you make a request to an API server for data, and it responds to your request."
   ]
  },
  {
   "cell_type": "markdown",
   "metadata": {},
   "source": [
    "## Making API Requests in Python\n",
    "In order to work with APIs in Python, we need tools that will make those requests. In Python, the most common library for making requests and working with APIs is the requests library. The requests library isn’t part of the standard Python library, so you’ll need to install it to get started.\n",
    "\n",
    "Using the Anaconda Prompt, you can install requests using the following command:\n",
    "```\n",
    "conda install requests\n",
    "```\n",
    "Once you’ve installed the library, you’ll need to import it. Let’s start with that important step:"
   ]
  },
  {
   "cell_type": "code",
   "execution_count": 3,
   "metadata": {},
   "outputs": [],
   "source": [
    "import requests"
   ]
  },
  {
   "cell_type": "markdown",
   "metadata": {},
   "source": [
    "Now that we’ve installed and imported the requests library, let’s start using it."
   ]
  },
  {
   "cell_type": "markdown",
   "metadata": {},
   "source": [
    "## Making Our First API Request\n",
    "There are many different types of requests. The most commonly used one, a **GET** request, is used to retrieve data. Because we’ll just be working with retrieving data, our focus will be on making 'get' requests.\n",
    "\n",
    "When we make a request, the response from the API comes with a response code which tells us whether our request was successful. Response codes are important because they immediately tell us if something went wrong.\n",
    "\n",
    "To make a 'GET' request, we’ll use the `requests.get()` function, which requires one argument — the URL we want to make the request to. We'll start by making a request to an API endpoint that doesn't exist, so we can see what that response code looks like."
   ]
  },
  {
   "cell_type": "code",
   "execution_count": 4,
   "metadata": {},
   "outputs": [],
   "source": [
    "response = requests.get(\"http://api.open-notify.org/this-api-doesnt-exist\")"
   ]
  },
  {
   "cell_type": "markdown",
   "metadata": {},
   "source": [
    "The `get()` function returns a `response` object. We can use the `response.status_code` attribute to receive the status code for our request:"
   ]
  },
  {
   "cell_type": "code",
   "execution_count": 5,
   "metadata": {},
   "outputs": [
    {
     "name": "stdout",
     "output_type": "stream",
     "text": [
      "404\n"
     ]
    }
   ],
   "source": [
    "print(response.status_code)"
   ]
  },
  {
   "cell_type": "markdown",
   "metadata": {},
   "source": [
    "The '404' status code might be familiar to you — it's the status code that a server returns if it can’t find the file we requested. In this case, we asked for `this-api-doesnt-exist` which (surprise, surprise) didn't exist!\n",
    "\n",
    "Let's learn a little more about common status codes."
   ]
  },
  {
   "cell_type": "markdown",
   "metadata": {},
   "source": [
    "## API Status Codes\n",
    "Status codes are returned with every request that is made to a web server. Status codes indicate information about what happened with a request. Here are some codes that are relevant to GET requests:\n",
    "\n",
    "- `200`: Everything went okay, and the result has been returned (if any).\n",
    "- `301`: The server is redirecting you to a different endpoint. This can happen when a company switches domain names, or an endpoint name is changed.\n",
    "- `400`: The server thinks you made a bad request. This can happen when you don’t send along the right data, among other things.\n",
    "- `401`: The server thinks you’re not authenticated. Many APIs require login ccredentials, so this happens when you don’t send the right credentials to access an API.\n",
    "- `403`: The resource you’re trying to access is forbidden: you don’t have the right permissions to see it.\n",
    "- `404`: The resource you tried to access wasn’t found on the server.\n",
    "- `503`: The server is not ready to handle the request.\n",
    "\n",
    "You might notice that all of the status codes that begin with a ‘4’ indicate some sort of error. The first number of status codes indicate their categorization. This is useful — you can know that if your status code starts with a ‘2’ it was successful and if it starts with a ‘4’ or ‘5’ there was an error. If you’re interested you can read more about status codes here."
   ]
  },
  {
   "cell_type": "markdown",
   "metadata": {},
   "source": [
    "## API Documentation\n",
    "In order to ensure we make a successful request, when we work with APIs it's important to consult the documentation. Documentation can seem scary at first, but as you use documentation more and more you’ll find it gets easier.\n",
    "\n",
    "We’ll be working with the Open Notify API, which gives access to data about the international space station. It’s a great API for learning because it has a very simple design, and doesn’t require authentication. We’ll teach you how to use an API that requires authentication in a later post.\n",
    "\n",
    "Often there will be multiple APIs available on a particular server. Each of these APIs are commonly called **endpoints**. The first endpoint we’ll use is `http://api.open-notify.org/astros.json`, which returns data about astronauts currently in space.\n",
    "\n",
    "If you click the link above to look at the documentation for this endpoint, you’ll see that it says *This API takes no inputs*. This makes it a simple API for us to get started with. We’ll start by making a GET request to the endpoint using the requests library:"
   ]
  },
  {
   "cell_type": "code",
   "execution_count": 6,
   "metadata": {},
   "outputs": [
    {
     "name": "stdout",
     "output_type": "stream",
     "text": [
      "200\n"
     ]
    }
   ],
   "source": [
    "response = requests.get(\"http://api.open-notify.org/astros.json\")\n",
    "print(response.status_code)"
   ]
  },
  {
   "cell_type": "markdown",
   "metadata": {},
   "source": [
    "We received a ‘200’ code which tells us our request was successful. The documentation tells us that the API response we’ll get is in JSON format. In the next section we’ll learn about JSON, but first let’s use the `response.json()` method to see the data we received back from the API:"
   ]
  },
  {
   "cell_type": "code",
   "execution_count": 7,
   "metadata": {},
   "outputs": [
    {
     "name": "stdout",
     "output_type": "stream",
     "text": [
      "{'message': 'success', 'number': 7, 'people': [{'craft': 'ISS', 'name': 'Sergey Ryzhikov'}, {'craft': 'ISS', 'name': 'Kate Rubins'}, {'craft': 'ISS', 'name': 'Sergey Kud-Sverchkov'}, {'craft': 'ISS', 'name': 'Mike Hopkins'}, {'craft': 'ISS', 'name': 'Victor Glover'}, {'craft': 'ISS', 'name': 'Shannon Walker'}, {'craft': 'ISS', 'name': 'Soichi Noguchi'}]}\n"
     ]
    }
   ],
   "source": [
    "print(response.json())"
   ]
  },
  {
   "cell_type": "markdown",
   "metadata": {},
   "source": [
    "## Working with JSON Data in Python with Pandas\n",
    "[JSON](http://json.org/) (JavaScript Object Notation) is the language of APIs. JSON is a way to encode data structures that ensures that they are easily readable by machines. JSON is the primary format in which data is passed back and forth to APIs, and most API servers will send their responses in JSON format.\n",
    "\n",
    "You might have noticed that the JSON output we received from the API looked like it contained Python dictionaries, lists, strings and integers. You can think of JSON as being a complex container of these objects represented as strings. Let’s use the example above to brign the JSON into a Pandas DataFrame:"
   ]
  },
  {
   "cell_type": "code",
   "execution_count": 12,
   "metadata": {},
   "outputs": [
    {
     "data": {
      "text/html": [
       "<div>\n",
       "<style scoped>\n",
       "    .dataframe tbody tr th:only-of-type {\n",
       "        vertical-align: middle;\n",
       "    }\n",
       "\n",
       "    .dataframe tbody tr th {\n",
       "        vertical-align: top;\n",
       "    }\n",
       "\n",
       "    .dataframe thead th {\n",
       "        text-align: right;\n",
       "    }\n",
       "</style>\n",
       "<table border=\"1\" class=\"dataframe\">\n",
       "  <thead>\n",
       "    <tr style=\"text-align: right;\">\n",
       "      <th></th>\n",
       "      <th>message</th>\n",
       "      <th>number</th>\n",
       "      <th>people</th>\n",
       "    </tr>\n",
       "  </thead>\n",
       "  <tbody>\n",
       "    <tr>\n",
       "      <th>0</th>\n",
       "      <td>success</td>\n",
       "      <td>7</td>\n",
       "      <td>{'craft': 'ISS', 'name': 'Sergey Ryzhikov'}</td>\n",
       "    </tr>\n",
       "    <tr>\n",
       "      <th>1</th>\n",
       "      <td>success</td>\n",
       "      <td>7</td>\n",
       "      <td>{'craft': 'ISS', 'name': 'Kate Rubins'}</td>\n",
       "    </tr>\n",
       "    <tr>\n",
       "      <th>2</th>\n",
       "      <td>success</td>\n",
       "      <td>7</td>\n",
       "      <td>{'craft': 'ISS', 'name': 'Sergey Kud-Sverchkov'}</td>\n",
       "    </tr>\n",
       "    <tr>\n",
       "      <th>3</th>\n",
       "      <td>success</td>\n",
       "      <td>7</td>\n",
       "      <td>{'craft': 'ISS', 'name': 'Mike Hopkins'}</td>\n",
       "    </tr>\n",
       "    <tr>\n",
       "      <th>4</th>\n",
       "      <td>success</td>\n",
       "      <td>7</td>\n",
       "      <td>{'craft': 'ISS', 'name': 'Victor Glover'}</td>\n",
       "    </tr>\n",
       "    <tr>\n",
       "      <th>5</th>\n",
       "      <td>success</td>\n",
       "      <td>7</td>\n",
       "      <td>{'craft': 'ISS', 'name': 'Shannon Walker'}</td>\n",
       "    </tr>\n",
       "    <tr>\n",
       "      <th>6</th>\n",
       "      <td>success</td>\n",
       "      <td>7</td>\n",
       "      <td>{'craft': 'ISS', 'name': 'Soichi Noguchi'}</td>\n",
       "    </tr>\n",
       "  </tbody>\n",
       "</table>\n",
       "</div>"
      ],
      "text/plain": [
       "   message  number                                            people\n",
       "0  success       7       {'craft': 'ISS', 'name': 'Sergey Ryzhikov'}\n",
       "1  success       7           {'craft': 'ISS', 'name': 'Kate Rubins'}\n",
       "2  success       7  {'craft': 'ISS', 'name': 'Sergey Kud-Sverchkov'}\n",
       "3  success       7          {'craft': 'ISS', 'name': 'Mike Hopkins'}\n",
       "4  success       7         {'craft': 'ISS', 'name': 'Victor Glover'}\n",
       "5  success       7        {'craft': 'ISS', 'name': 'Shannon Walker'}\n",
       "6  success       7        {'craft': 'ISS', 'name': 'Soichi Noguchi'}"
      ]
     },
     "execution_count": 12,
     "metadata": {},
     "output_type": "execute_result"
    }
   ],
   "source": [
    "import pandas as pd\n",
    "pd.DataFrame.from_dict(data=response.json(), orient='columns')"
   ]
  },
  {
   "cell_type": "markdown",
   "metadata": {},
   "source": [
    "I realize this doesn't look pretty, we would want to continue manipulating this data to get all of the columns we want in our DataFrame. Each API is unique for the task at hand and, as such, will return the JSON format for that task."
   ]
  },
  {
   "cell_type": "markdown",
   "metadata": {},
   "source": [
    "## Using an API with Query Parameters\n",
    "The `http://api.open-notify.org/astros.json` endpoint we used earlier does not take any parameters. We just send a GET request and the API sends back data about the number of people currently in space.\n",
    "\n",
    "It’s very common, however, to have an API endpoint that requires us to specify parameters. An example of this the `http://api.open-notify.org/iss-pass.json` endpoint. This endpoint tells us the next times that the international space station will pass over a given location on the earth.\n",
    "\n",
    "If we look at the documentation, it specifies required `lat` (latitude) and `lon` (longitude) parameters.\n",
    "\n",
    "We can do this by adding an optional keyword argument, `params`, to our request. We can make a dictionary with these parameters, and then pass them into the `requests.get()` function. Here’s what our dictionary would look like, using coordinates for New York City: "
   ]
  },
  {
   "cell_type": "code",
   "execution_count": 16,
   "metadata": {},
   "outputs": [],
   "source": [
    "parameters = {\n",
    "    'lat': 40.71,\n",
    "    'lon': -74\n",
    "}"
   ]
  },
  {
   "cell_type": "markdown",
   "metadata": {},
   "source": [
    "We can also do the same thing directly by adding the parameters directly to the URL. like this: 'http://api.open-notify.org/iss-pass.json?lat=40.71&lon;=-74'.\n",
    "\n",
    "It’s almost always preferable to setup the parameters as a dictionary, because 'requests' takes care of some things that come up, like properly formatting the query parameters, and we don’t need to worry about inserting the values into the URL string.\n",
    "\n",
    "Let’s make a request using these coordinates and see what response we get. "
   ]
  },
  {
   "cell_type": "code",
   "execution_count": 17,
   "metadata": {},
   "outputs": [
    {
     "name": "stdout",
     "output_type": "stream",
     "text": [
      "{'message': 'success', 'request': {'altitude': 100, 'datetime': 1617227328, 'latitude': 40.71, 'longitude': -74.0, 'passes': 5}, 'response': [{'duration': 560, 'risetime': 1617229600}, {'duration': 606, 'risetime': 1617235445}, {'duration': 653, 'risetime': 1617241251}, {'duration': 500, 'risetime': 1617247105}, {'duration': 282, 'risetime': 1617295852}]}\n"
     ]
    }
   ],
   "source": [
    "response = requests.get(\"http://api.open-notify.org/iss-pass.json\", params=parameters)\n",
    "\n",
    "print(response.json())"
   ]
  },
  {
   "cell_type": "markdown",
   "metadata": {},
   "source": [
    "## Conclusion\n",
    "Now you know the basics of what an API is and how to use one! For the final project, you will need to use an API to gather your data for the project. I will provide you the URL and the parameters required. Good luck!"
   ]
  },
  {
   "cell_type": "code",
   "execution_count": null,
   "metadata": {},
   "outputs": [],
   "source": []
  }
 ],
 "metadata": {
  "kernelspec": {
   "display_name": "Python 3",
   "language": "python",
   "name": "python3"
  },
  "language_info": {
   "codemirror_mode": {
    "name": "ipython",
    "version": 3
   },
   "file_extension": ".py",
   "mimetype": "text/x-python",
   "name": "python",
   "nbconvert_exporter": "python",
   "pygments_lexer": "ipython3",
   "version": "3.8.5"
  }
 },
 "nbformat": 4,
 "nbformat_minor": 4
}
