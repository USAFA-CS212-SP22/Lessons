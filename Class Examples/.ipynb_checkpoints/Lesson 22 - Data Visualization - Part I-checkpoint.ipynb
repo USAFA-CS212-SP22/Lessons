{
 "cells": [
  {
   "cell_type": "markdown",
   "metadata": {},
   "source": [
    "# Objectives\n",
    "- Understand when to use each type of graph (line charts, bar charts and heatmaps)\n",
    "- Use Seaborn to plot line charts, bar charts and heatmaps\n",
    "\n",
    "***\n",
    "# Line Charts, Bar Charts and Heatmaps\n",
    "- Line Chart: to show a trend over time\n",
    "- Bar Chart: to express length (or height), especially iun comparison to other items\n",
    "- Heatmap: to rapidly identify high or low points, trends, or interactions based on color "
   ]
  },
  {
   "cell_type": "markdown",
   "metadata": {},
   "source": [
    "## Import Relevant Libraries and Read Data"
   ]
  },
  {
   "cell_type": "code",
   "execution_count": 1,
   "metadata": {},
   "outputs": [],
   "source": [
    "import pandas as pd\n",
    "import matplotlib.pyplot as plt\n",
    "import seaborn as sns"
   ]
  },
  {
   "cell_type": "code",
   "execution_count": 2,
   "metadata": {},
   "outputs": [],
   "source": [
    "url = \"https://bit.ly/3cngqgL\"\n",
    "df = pd.read_csv(url, \n",
    "                 parse_dates=['date_utc'], \n",
    "                 dtype={'hour_utc':int,'minute_utc':int,'id':str}\n",
    "                )"
   ]
  },
  {
   "cell_type": "code",
   "execution_count": 3,
   "metadata": {
    "scrolled": false
   },
   "outputs": [
    {
     "data": {
      "text/html": [
       "<div>\n",
       "<style scoped>\n",
       "    .dataframe tbody tr th:only-of-type {\n",
       "        vertical-align: middle;\n",
       "    }\n",
       "\n",
       "    .dataframe tbody tr th {\n",
       "        vertical-align: top;\n",
       "    }\n",
       "\n",
       "    .dataframe thead th {\n",
       "        text-align: right;\n",
       "    }\n",
       "</style>\n",
       "<table border=\"1\" class=\"dataframe\">\n",
       "  <thead>\n",
       "    <tr style=\"text-align: right;\">\n",
       "      <th></th>\n",
       "      <th>id</th>\n",
       "      <th>username</th>\n",
       "      <th>date_utc</th>\n",
       "      <th>hour_utc</th>\n",
       "      <th>minute_utc</th>\n",
       "      <th>retweets</th>\n",
       "    </tr>\n",
       "  </thead>\n",
       "  <tbody>\n",
       "    <tr>\n",
       "      <th>0</th>\n",
       "      <td>815422340540547073</td>\n",
       "      <td>realDonaldTrump</td>\n",
       "      <td>2017-01-01 05:00:10+00:00</td>\n",
       "      <td>5</td>\n",
       "      <td>0</td>\n",
       "      <td>27134</td>\n",
       "    </tr>\n",
       "    <tr>\n",
       "      <th>1</th>\n",
       "      <td>815930688889352192</td>\n",
       "      <td>realDonaldTrump</td>\n",
       "      <td>2017-01-02 14:40:10+00:00</td>\n",
       "      <td>14</td>\n",
       "      <td>40</td>\n",
       "      <td>23930</td>\n",
       "    </tr>\n",
       "    <tr>\n",
       "      <th>2</th>\n",
       "      <td>815973752785793024</td>\n",
       "      <td>realDonaldTrump</td>\n",
       "      <td>2017-01-02 17:31:17+00:00</td>\n",
       "      <td>17</td>\n",
       "      <td>31</td>\n",
       "      <td>14119</td>\n",
       "    </tr>\n",
       "    <tr>\n",
       "      <th>3</th>\n",
       "      <td>815989154555297792</td>\n",
       "      <td>realDonaldTrump</td>\n",
       "      <td>2017-01-02 18:32:29+00:00</td>\n",
       "      <td>18</td>\n",
       "      <td>32</td>\n",
       "      <td>3193</td>\n",
       "    </tr>\n",
       "    <tr>\n",
       "      <th>4</th>\n",
       "      <td>815990335318982656</td>\n",
       "      <td>realDonaldTrump</td>\n",
       "      <td>2017-01-02 18:37:10+00:00</td>\n",
       "      <td>18</td>\n",
       "      <td>37</td>\n",
       "      <td>7337</td>\n",
       "    </tr>\n",
       "  </tbody>\n",
       "</table>\n",
       "</div>"
      ],
      "text/plain": [
       "                   id         username                  date_utc  hour_utc  \\\n",
       "0  815422340540547073  realDonaldTrump 2017-01-01 05:00:10+00:00         5   \n",
       "1  815930688889352192  realDonaldTrump 2017-01-02 14:40:10+00:00        14   \n",
       "2  815973752785793024  realDonaldTrump 2017-01-02 17:31:17+00:00        17   \n",
       "3  815989154555297792  realDonaldTrump 2017-01-02 18:32:29+00:00        18   \n",
       "4  815990335318982656  realDonaldTrump 2017-01-02 18:37:10+00:00        18   \n",
       "\n",
       "   minute_utc  retweets  \n",
       "0           0     27134  \n",
       "1          40     23930  \n",
       "2          31     14119  \n",
       "3          32      3193  \n",
       "4          37      7337  "
      ]
     },
     "execution_count": 3,
     "metadata": {},
     "output_type": "execute_result"
    }
   ],
   "source": [
    "df.head()"
   ]
  },
  {
   "cell_type": "markdown",
   "metadata": {},
   "source": [
    "## Line Plot\n",
    "Let's examine the number of retweets for each candidate over time. On the x-axis will be `date_utc`, the y-axis will contain `retweets` and the `hue` will be `username`."
   ]
  },
  {
   "cell_type": "code",
   "execution_count": null,
   "metadata": {},
   "outputs": [],
   "source": []
  },
  {
   "cell_type": "markdown",
   "metadata": {},
   "source": [
    "## Bar Plot\n",
    "I want to find the total number of tweets for both usernames. First I am going to group all of the tweets together by username (we will learn how to do this later) using the `groupby` method. Then I will reset the index to bring the `username` back from the index and into a column."
   ]
  },
  {
   "cell_type": "code",
   "execution_count": null,
   "metadata": {},
   "outputs": [],
   "source": []
  },
  {
   "cell_type": "markdown",
   "metadata": {},
   "source": [
    "Now, I want you to create the bar plot using `username` on the x-axis and `retweets` on the y-axis."
   ]
  },
  {
   "cell_type": "code",
   "execution_count": null,
   "metadata": {},
   "outputs": [],
   "source": []
  },
  {
   "cell_type": "markdown",
   "metadata": {},
   "source": [
    "## Heatmap Data Manipulation\n",
    "I am going to prepare the data for our heat maps. Right now we have a bunch of tweets that happened all throughout the day and I want to group those tweets together by the hour and minute they were sent, along with who they were sent from. "
   ]
  },
  {
   "cell_type": "code",
   "execution_count": null,
   "metadata": {},
   "outputs": [],
   "source": []
  },
  {
   "cell_type": "markdown",
   "metadata": {},
   "source": [
    "Then, I will find the number of unique tweets for each username during each hour-minute combination."
   ]
  },
  {
   "cell_type": "code",
   "execution_count": null,
   "metadata": {},
   "outputs": [],
   "source": []
  },
  {
   "cell_type": "markdown",
   "metadata": {},
   "source": [
    "Now, I am going to reshape our data (you will learn how to do this on lesson 26!!) to have the columns contain the minutes and the rows contain the hours. "
   ]
  },
  {
   "cell_type": "code",
   "execution_count": null,
   "metadata": {},
   "outputs": [],
   "source": []
  },
  {
   "cell_type": "code",
   "execution_count": null,
   "metadata": {},
   "outputs": [],
   "source": []
  },
  {
   "cell_type": "markdown",
   "metadata": {},
   "source": [
    "It looks like we have some null values so I am going to replace those null values with 0. I am also going to make sure that all minutes and hours are included."
   ]
  },
  {
   "cell_type": "code",
   "execution_count": 1,
   "metadata": {},
   "outputs": [],
   "source": [
    "\n",
    "# Ensure all hours in table\n",
    "\n",
    "# Ensure all minutes in table\n"
   ]
  },
  {
   "cell_type": "markdown",
   "metadata": {},
   "source": [
    "Let's repeat all of that for Donald Trump."
   ]
  },
  {
   "cell_type": "code",
   "execution_count": null,
   "metadata": {},
   "outputs": [],
   "source": []
  },
  {
   "cell_type": "markdown",
   "metadata": {},
   "source": [
    "## Heatmaps\n",
    "It's your turn to plot the heatmaps and interpret the results!!"
   ]
  },
  {
   "cell_type": "code",
   "execution_count": null,
   "metadata": {},
   "outputs": [],
   "source": []
  },
  {
   "cell_type": "code",
   "execution_count": null,
   "metadata": {},
   "outputs": [],
   "source": []
  },
  {
   "cell_type": "code",
   "execution_count": null,
   "metadata": {},
   "outputs": [],
   "source": []
  }
 ],
 "metadata": {
  "kernelspec": {
   "display_name": "Python 3 (ipykernel)",
   "language": "python",
   "name": "python3"
  },
  "language_info": {
   "codemirror_mode": {
    "name": "ipython",
    "version": 3
   },
   "file_extension": ".py",
   "mimetype": "text/x-python",
   "name": "python",
   "nbconvert_exporter": "python",
   "pygments_lexer": "ipython3",
   "version": "3.9.7"
  }
 },
 "nbformat": 4,
 "nbformat_minor": 4
}
