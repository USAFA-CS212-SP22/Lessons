{
 "cells": [
  {
   "cell_type": "markdown",
   "metadata": {},
   "source": [
    "# Objectives\n",
    "- Understand when to use each type of graph (scatter plots, histograms and density plots)\n",
    "- Use Seaborn to plot scatter plots, histograms and density plots\n",
    "\n",
    "***\n",
    "# Scatter Plots and Distributions\n",
    "- Scatter Plot: determine whether or not two variables have a relationship or correlation\n",
    "- Distribution: visual representation of data frequency distribution"
   ]
  },
  {
   "cell_type": "markdown",
   "metadata": {},
   "source": [
    "## 1. Import Relevant Libraries and Read Data"
   ]
  },
  {
   "cell_type": "code",
   "execution_count": 1,
   "metadata": {},
   "outputs": [],
   "source": [
    "import pandas as pd\n",
    "import matplotlib.pyplot as plt\n",
    "import seaborn as sns"
   ]
  },
  {
   "cell_type": "markdown",
   "metadata": {},
   "source": [
    "So far, to read data we have learned two ways using pandas `pd.read_csv()`:\n",
    "- read a csv file saved on our local machine \n",
    "- read a URL containing a csv file on the web\n",
    "\n",
    "Here is **YET** another way to load data to a pandas DataFrame! A lot of libraries (seaborn, sklearn, plotly, and more) contain their own datasets in the library for us to use! Here are all of the datasets available to us in Seaborn!"
   ]
  },
  {
   "cell_type": "code",
   "execution_count": null,
   "metadata": {},
   "outputs": [],
   "source": []
  },
  {
   "cell_type": "markdown",
   "metadata": {},
   "source": [
    "We can load these datasets by using the `.load_dataset()` function in Seaborn."
   ]
  },
  {
   "cell_type": "code",
   "execution_count": null,
   "metadata": {
    "scrolled": true
   },
   "outputs": [],
   "source": []
  },
  {
   "cell_type": "markdown",
   "metadata": {},
   "source": [
    "## 2. Scatter Plot\n",
    "One of the best ways to see the relationship between two columns in our dataset is to use a scatter plot! Use Seaborn's `scatterplot()` function to plot the relationship between the `total_bill` and `tip` columns in our `tips` DataFrame.\n",
    "\n",
    "**QUESTION WE ARE TRYING TO ANSWER: Is there a relationship between the total bill and tip amount?**"
   ]
  },
  {
   "cell_type": "code",
   "execution_count": null,
   "metadata": {
    "scrolled": false
   },
   "outputs": [],
   "source": []
  },
  {
   "cell_type": "markdown",
   "metadata": {},
   "source": [
    "It looks like there is some relationship (positive correlation) between the total_bill amount and the tip that was left. In order to solidify this analysis, let's use a regression line using Seaborn's `lmplot()` function."
   ]
  },
  {
   "cell_type": "code",
   "execution_count": null,
   "metadata": {
    "scrolled": true
   },
   "outputs": [],
   "source": []
  },
  {
   "cell_type": "markdown",
   "metadata": {},
   "source": [
    "If we want to introduce a third variable, we can do so with color. Depending on the graphic, we could even introduce a fourth variable with the size of the point. **This can get very confusing or misleading and might distract from the story you are trying to tell!** \n",
    "\n",
    "A follow-up question we could ask is if females are bigger tippers or have larger total bills compared to males?"
   ]
  },
  {
   "cell_type": "code",
   "execution_count": null,
   "metadata": {
    "scrolled": true
   },
   "outputs": [],
   "source": []
  },
  {
   "cell_type": "markdown",
   "metadata": {},
   "source": [
    "It looks like it is pretty evenly mixed except for the big spenders. Apparently, there are more males that spend and tip more."
   ]
  },
  {
   "cell_type": "markdown",
   "metadata": {},
   "source": [
    "**QUESTION WE ARE TRYING TO ANSWER: Is there a relationship between the total bill and day of the week?**\n",
    "Use Seaborn's `scatterplot()` function to plot the relationship between `day` and `total_bill`. "
   ]
  },
  {
   "cell_type": "code",
   "execution_count": null,
   "metadata": {
    "scrolled": false
   },
   "outputs": [],
   "source": []
  },
  {
   "cell_type": "markdown",
   "metadata": {},
   "source": [
    "Using a scatter plot with categorical variables can become tricky to analyze... Is there a relationship?? It is hard to tell! They all look basically the same! **Notice that there are a lot of overlapping points**. When we have a categorical variable, we should use a swarm plot instead so we can see all of the points. Use Seaborn's `swarmplot()` function to plot the relationship between `day` and `total_bill`."
   ]
  },
  {
   "cell_type": "code",
   "execution_count": null,
   "metadata": {},
   "outputs": [],
   "source": []
  },
  {
   "cell_type": "markdown",
   "metadata": {},
   "source": [
    "Now we can see all of the points! It looks like there are a lot more points that have a higher bill on the weekend compared to the weekdays.\n",
    "***\n",
    "This makes me curious, does the day of the week really matter or is it the `time` of the meal (lunch vs dinner)?\n",
    "\n",
    "**QUESTION WE ARE TRYING TO ANSWER: Is there a relationship between the total bill and time of the meal?**"
   ]
  },
  {
   "cell_type": "code",
   "execution_count": null,
   "metadata": {},
   "outputs": [],
   "source": []
  },
  {
   "cell_type": "code",
   "execution_count": null,
   "metadata": {},
   "outputs": [],
   "source": []
  },
  {
   "cell_type": "markdown",
   "metadata": {},
   "source": [
    "## 3. Distributions\n",
    "Histograms can be very useful to us when using **numerical** data. **Histograms using categorical data is very similar to a Bar Plot!** Let's make a histogram (`histplot()`) using the `day` column of data in `tips` and a bar plot (`barplot()`) using the `unique` values of `day` for `x` and the `value_counts()` of `day` for `y`."
   ]
  },
  {
   "cell_type": "code",
   "execution_count": null,
   "metadata": {
    "scrolled": true
   },
   "outputs": [],
   "source": []
  },
  {
   "cell_type": "code",
   "execution_count": null,
   "metadata": {
    "scrolled": true
   },
   "outputs": [],
   "source": []
  },
  {
   "cell_type": "markdown",
   "metadata": {},
   "source": [
    "Using a histogram was easier to show the frequency of customers during those four days of the week. Typically, we want to use histograms on continuous data in order to see the distribution of the data.\n",
    "***\n",
    "**QUESTION WE ARE TRYING TO ANSWER: How much do people spend?**\n",
    "\n",
    "This is seemingly a simple question to answer, but do we give the average? Do we give the max, min, median, mode? Which descriptive statistic should we report to answer the question? I would recommend using a histogram to show the frequency distribution of how much people pay. Now we can tell a story with this plot!"
   ]
  },
  {
   "cell_type": "code",
   "execution_count": null,
   "metadata": {},
   "outputs": [],
   "source": []
  },
  {
   "cell_type": "markdown",
   "metadata": {},
   "source": [
    "**QUESTION WE ARE TRYING TO ANSWER: How much do people tip?**"
   ]
  },
  {
   "cell_type": "code",
   "execution_count": null,
   "metadata": {},
   "outputs": [],
   "source": []
  },
  {
   "cell_type": "markdown",
   "metadata": {},
   "source": [
    "There a lot of ways to determine the [number of bins for your histogram.](https://en.wikipedia.org/wiki/Histogram#Number_of_bins_and_width) The one that I like to use is the square-root choice where: \n",
    "bins = $\\lceil\\sqrt{n}\\rceil$. "
   ]
  },
  {
   "cell_type": "code",
   "execution_count": null,
   "metadata": {},
   "outputs": [],
   "source": []
  },
  {
   "cell_type": "markdown",
   "metadata": {},
   "source": [
    "Plot a histogram using the `tip` column and set the `bins` parameter to the number of bins calculated above. Also, change the title of the plot using `plt.title()` and the x axis label using `plt.xlabel()` to something meaningful. "
   ]
  },
  {
   "cell_type": "code",
   "execution_count": null,
   "metadata": {},
   "outputs": [],
   "source": []
  },
  {
   "cell_type": "code",
   "execution_count": null,
   "metadata": {},
   "outputs": [],
   "source": []
  }
 ],
 "metadata": {
  "kernelspec": {
   "display_name": "Python 3 (ipykernel)",
   "language": "python",
   "name": "python3"
  },
  "language_info": {
   "codemirror_mode": {
    "name": "ipython",
    "version": 3
   },
   "file_extension": ".py",
   "mimetype": "text/x-python",
   "name": "python",
   "nbconvert_exporter": "python",
   "pygments_lexer": "ipython3",
   "version": "3.9.7"
  }
 },
 "nbformat": 4,
 "nbformat_minor": 4
}
