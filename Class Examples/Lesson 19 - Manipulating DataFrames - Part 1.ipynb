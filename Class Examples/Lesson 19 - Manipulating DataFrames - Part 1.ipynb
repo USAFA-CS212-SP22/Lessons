{
 "cells": [
  {
   "cell_type": "markdown",
   "metadata": {},
   "source": [
    "# Objectives\n",
    "- Use pandas to create your own data and work with data that already exists\n",
    "- Use pandas to select specific values of a DataFrame or Series"
   ]
  },
  {
   "cell_type": "code",
   "execution_count": 38,
   "metadata": {},
   "outputs": [],
   "source": [
    "import pandas as pd"
   ]
  },
  {
   "cell_type": "markdown",
   "metadata": {},
   "source": [
    "# Creating, Reading and Writing\n",
    "The most important and most used of these three tasks is reading. 99% of the time we will read in a .csv file (whether we download the .csv or find the URL for one). Below, read in the 'Batting.csv' found in the 'Data' folder (`Data/Batting.csv`). Set the index column (`index_col`) to `playerID`. Assign the result to ```mlb```. Display and inspect the first 5 rows of data."
   ]
  },
  {
   "cell_type": "code",
   "execution_count": null,
   "metadata": {},
   "outputs": [],
   "source": []
  },
  {
   "cell_type": "markdown",
   "metadata": {},
   "source": [
    "# Indexing, Selecting and Assigning\n",
    "Let's take a look at all of the column headers in our DataFrame `mlb` by using the attribute `columns`. "
   ]
  },
  {
   "cell_type": "code",
   "execution_count": null,
   "metadata": {},
   "outputs": [],
   "source": []
  },
  {
   "cell_type": "markdown",
   "metadata": {},
   "source": [
    "Now, let's look at the HR column in our DataFrame `mlb`."
   ]
  },
  {
   "cell_type": "code",
   "execution_count": null,
   "metadata": {},
   "outputs": [],
   "source": []
  },
  {
   "cell_type": "markdown",
   "metadata": {},
   "source": [
    "What type of object is `mlb.HR`?"
   ]
  },
  {
   "cell_type": "code",
   "execution_count": null,
   "metadata": {},
   "outputs": [],
   "source": []
  },
  {
   "cell_type": "markdown",
   "metadata": {},
   "source": [
    "### Indexing\n",
    "Let's start with some basic indexing, just like we can do with list objects and tuple objects!! Use the bracket notation! Find the very first person's home runs in the `HR` column (number of home runs in the 0th position)."
   ]
  },
  {
   "cell_type": "code",
   "execution_count": null,
   "metadata": {},
   "outputs": [],
   "source": []
  },
  {
   "cell_type": "markdown",
   "metadata": {},
   "source": [
    "Poor guy had 0 home runs! Is this for his entire career? Or just one year? Let's look at all the information for this row in our DataFrame `mlb` using index-based selection (`.iloc[]`)."
   ]
  },
  {
   "cell_type": "code",
   "execution_count": null,
   "metadata": {},
   "outputs": [],
   "source": []
  },
  {
   "cell_type": "markdown",
   "metadata": {},
   "source": [
    "Using `iloc`, display all of the rows in the `HR` column (column 10). "
   ]
  },
  {
   "cell_type": "code",
   "execution_count": null,
   "metadata": {},
   "outputs": [],
   "source": []
  },
  {
   "cell_type": "markdown",
   "metadata": {},
   "source": [
    "All of the techniques we learned about list slicing will apply here! Display hits, doubles, triples, and home runs (columns 7-10) for the following players: last 5 players, first 5 players, and players 100 - 105."
   ]
  },
  {
   "cell_type": "code",
   "execution_count": null,
   "metadata": {},
   "outputs": [],
   "source": []
  },
  {
   "cell_type": "markdown",
   "metadata": {},
   "source": [
    "`iloc` is really easy to use and understand because you can think about the position of where you are in the DataFrame! The other way to select things, label-based selection (`.loc[]`), is dependent on the `index` of the DataFrame. For `mlb` our index column is `playerID`, so we **CANNOT** use row numbers (0 - 101331) for the rows. Instead, we can use the index column value. For example, lets say we wanted hits, doubles, triple, and home runs for player `stearbi01`. We would use the index `stearbi01` to do the work for us! "
   ]
  },
  {
   "cell_type": "code",
   "execution_count": null,
   "metadata": {},
   "outputs": [],
   "source": []
  },
  {
   "cell_type": "markdown",
   "metadata": {},
   "source": [
    "### Resetting the Index\n",
    "Be careful when you use `set_index` to set the new index column, it will remove your previous index!"
   ]
  },
  {
   "cell_type": "code",
   "execution_count": null,
   "metadata": {
    "scrolled": true
   },
   "outputs": [],
   "source": []
  },
  {
   "cell_type": "markdown",
   "metadata": {},
   "source": [
    "### Selection\n",
    "Think of selection as filtering an Excel workbook! We are going to only use/show all of the values where some condition is `True`. Maybe we want to show all of the players in a certain year. Maybe we want to show all of the players with more than 40 home runs. We can do that with selection!\n",
    "\n",
    "First we need to make a conditional statement for the portion of the data we are trying to filter. In the examples above we were talking about the `yearID` column and the `HR` columns."
   ]
  },
  {
   "cell_type": "code",
   "execution_count": null,
   "metadata": {},
   "outputs": [],
   "source": []
  },
  {
   "cell_type": "markdown",
   "metadata": {},
   "source": [
    "Now we can use that selection inside of `loc` to subset (select) our DataFrame."
   ]
  },
  {
   "cell_type": "code",
   "execution_count": null,
   "metadata": {},
   "outputs": [],
   "source": []
  },
  {
   "cell_type": "markdown",
   "metadata": {},
   "source": [
    "Try the other one on your own! We want only the players where the number of home runs (`HR`) is greater than 40."
   ]
  },
  {
   "cell_type": "code",
   "execution_count": null,
   "metadata": {},
   "outputs": [],
   "source": []
  },
  {
   "cell_type": "markdown",
   "metadata": {},
   "source": [
    "What if I wanted to meet both conditions (2015 season and more than 40 home runs)? "
   ]
  },
  {
   "cell_type": "code",
   "execution_count": null,
   "metadata": {},
   "outputs": [],
   "source": []
  },
  {
   "cell_type": "markdown",
   "metadata": {},
   "source": [
    "**CHALLENGE** I want to know all of the players in the 2015 season who either had more than 40 home runs or more than 100 RBIs (runs batted in). We use the pipe character `|` for or."
   ]
  },
  {
   "cell_type": "code",
   "execution_count": null,
   "metadata": {},
   "outputs": [],
   "source": []
  },
  {
   "cell_type": "markdown",
   "metadata": {},
   "source": [
    "### Pandas Conditional Selectors\n",
    "Pandas has a few VERY USEFUL built-in conditional selectors. `isin`, `isnull` and `notnull` are some of the most widely used.  Let's use ```isin``` with the ```teamID``` column to look at players for the Padres (```SDN```) and the Rockies (```COL```)."
   ]
  },
  {
   "cell_type": "code",
   "execution_count": null,
   "metadata": {},
   "outputs": [],
   "source": []
  },
  {
   "cell_type": "markdown",
   "metadata": {},
   "source": [
    "**SIDE NOTE**: In order to find the `teamID` for the Padres and Rockies above, I had to figure out what my options were. First, I found all of the rows where year is 2015. Then I found the `teamID` column. Then I used the `unique()` method to find all of the unique team names."
   ]
  },
  {
   "cell_type": "code",
   "execution_count": null,
   "metadata": {},
   "outputs": [],
   "source": []
  },
  {
   "cell_type": "code",
   "execution_count": null,
   "metadata": {},
   "outputs": [],
   "source": []
  },
  {
   "cell_type": "code",
   "execution_count": 1,
   "metadata": {
    "scrolled": true
   },
   "outputs": [],
   "source": [
    "# Use isnull to find players with a null value (NaN) for at bats (AB)\n"
   ]
  },
  {
   "cell_type": "markdown",
   "metadata": {},
   "source": [
    "**CHALLENGE QUESTION**: \n",
    "- What type of object is returned after all our indexing, slicing, and selecting? (assuming multiple columns)\n",
    "- What type of object is returned after all our indexing, slicing, and selecting? (assuming a single column)"
   ]
  },
  {
   "cell_type": "code",
   "execution_count": null,
   "metadata": {},
   "outputs": [],
   "source": []
  }
 ],
 "metadata": {
  "kernelspec": {
   "display_name": "Python 3 (ipykernel)",
   "language": "python",
   "name": "python3"
  },
  "language_info": {
   "codemirror_mode": {
    "name": "ipython",
    "version": 3
   },
   "file_extension": ".py",
   "mimetype": "text/x-python",
   "name": "python",
   "nbconvert_exporter": "python",
   "pygments_lexer": "ipython3",
   "version": "3.9.7"
  }
 },
 "nbformat": 4,
 "nbformat_minor": 4
}
