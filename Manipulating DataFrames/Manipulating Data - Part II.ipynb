{
 "cells": [
  {
   "cell_type": "markdown",
   "metadata": {
    "nbgrader": {
     "grade": false,
     "grade_id": "cell-60c20cde68f43087",
     "locked": true,
     "schema_version": 3,
     "solution": false,
     "task": false
    }
   },
   "source": [
    "# Objectives\n",
    "* Use string manipulation with Pandas objects\n",
    "* Create new columns using elementwise arithmetic\n",
    "* Distinguish the main difference between the Seaborn and Pandas wrappers for Matplotlib functionality\n",
    "\n",
    "We will continue to use the Baby Names file to practice common data manipulation practices using Pandas. In this exercise, we will explore a single question:\n",
    "\n",
    "<p style=\"text-align:center\"><b>Can we use the last letter of a name to predict the gender of the baby?</b></p>"
   ]
  },
  {
   "cell_type": "markdown",
   "metadata": {
    "nbgrader": {
     "grade": false,
     "grade_id": "cell-e66a48962fd3d8fa",
     "locked": true,
     "schema_version": 3,
     "solution": false,
     "task": false
    }
   },
   "source": [
    "### Load the Libraries\n",
    "Run the following code cell to import each of the libraries that we will use in the lab."
   ]
  },
  {
   "cell_type": "code",
   "execution_count": 1,
   "metadata": {},
   "outputs": [],
   "source": [
    "import pandas as pd\n",
    "import matplotlib.pyplot as plt\n",
    "import seaborn as sns"
   ]
  },
  {
   "cell_type": "markdown",
   "metadata": {
    "nbgrader": {
     "grade": false,
     "grade_id": "cell-96610863608dadce",
     "locked": true,
     "schema_version": 3,
     "solution": false,
     "task": false
    }
   },
   "source": [
    "**Q0.** Again, read the contents of the file to a DataFrame named `names`, use the Id column as the index, and inspect the first five rows."
   ]
  },
  {
   "cell_type": "code",
   "execution_count": null,
   "metadata": {
    "nbgrader": {
     "grade": false,
     "grade_id": "read",
     "locked": false,
     "schema_version": 3,
     "solution": true,
     "task": false
    }
   },
   "outputs": [],
   "source": []
  },
  {
   "cell_type": "markdown",
   "metadata": {
    "nbgrader": {
     "grade": false,
     "grade_id": "cell-924b24dfc8f14faf",
     "locked": true,
     "schema_version": 3,
     "solution": false,
     "task": false
    }
   },
   "source": [
    "In order to answer this question, we can break the problem into the following steps:\n",
    "1. Compute the last letter of each name\n",
    "2. Group by the last letter and gender while aggregating (sum) the count\n",
    "3. Plot the total number of baby names ending in each character for each sex\n",
    "\n",
    "# 1. Working with Strings\n",
    "Computing the last letter of each name requires string manipulation. With a Python string, this would be done easily by accessing the last element of the string. As noted, Pandas stores non-numeric data as a generic object type. However, the Series object has a `str` attribute so that we can use string methods. Explore the [documentation](https://pandas.pydata.org/pandas-docs/stable/user_guide/text.html#string-methods) to better understand it and find a good example of its usage."
   ]
  },
  {
   "cell_type": "markdown",
   "metadata": {
    "nbgrader": {
     "grade": false,
     "grade_id": "cell-ec75c6e30b796bcc",
     "locked": true,
     "schema_version": 3,
     "solution": false,
     "task": false
    }
   },
   "source": [
    "**Q1.1.** Use the `str` attribute of the Name column to create a new column named `Last`. The values in this column should be the last character of the name."
   ]
  },
  {
   "cell_type": "code",
   "execution_count": null,
   "metadata": {
    "nbgrader": {
     "grade": false,
     "grade_id": "last1",
     "locked": false,
     "schema_version": 3,
     "solution": true,
     "task": false
    }
   },
   "outputs": [],
   "source": []
  },
  {
   "cell_type": "markdown",
   "metadata": {
    "nbgrader": {
     "grade": false,
     "grade_id": "cell-d4756417cf62aa88",
     "locked": true,
     "schema_version": 3,
     "solution": false,
     "task": false
    }
   },
   "source": [
    "# 2. Group by Last and Gender While Aggregating Count\n",
    "**Q2.1.** Use the `groupby` method and an appropriate aggregation function to determine the total number of babies born with a given name ending in each letter. Assign the result to the variable `letters`. The first four values should look like:\n",
    "```\n",
    "Last  Gender\n",
    "E     F              181\n",
    "      M              256\n",
    "a     F         59369213\n",
    "      M          1992064\n",
    "```"
   ]
  },
  {
   "cell_type": "code",
   "execution_count": null,
   "metadata": {
    "nbgrader": {
     "grade": false,
     "grade_id": "group1",
     "locked": false,
     "schema_version": 3,
     "solution": true,
     "task": false
    }
   },
   "outputs": [],
   "source": []
  },
  {
   "cell_type": "markdown",
   "metadata": {},
   "source": [
    "After inspecting the results, what may surprise you?\n",
    "\n",
    "There are a lot of babies born with a given name that ends in the capital letter E. Does this make sense? Let's investigate it.\n",
    "\n",
    "**Q2.2.** Output all observations where the name ends in a capital letter E."
   ]
  },
  {
   "cell_type": "code",
   "execution_count": null,
   "metadata": {
    "nbgrader": {
     "grade": false,
     "grade_id": "group2",
     "locked": false,
     "schema_version": 3,
     "solution": true,
     "task": false
    }
   },
   "outputs": [],
   "source": []
  },
  {
   "cell_type": "markdown",
   "metadata": {
    "nbgrader": {
     "grade": false,
     "grade_id": "cell-bc427b40aa3d57a3",
     "locked": true,
     "schema_version": 3,
     "solution": false,
     "task": false
    }
   },
   "source": [
    "In this case, Pandas is interpreting the name True as a Boolean value rather than a string (thanks a lot Kardashians). We can fix this behavior by specifying the `dtype` parameter when reading the CSV. For this problem, we will just convert all letters to lowercase.\n",
    "\n",
    "**Q2.3.** Again, use the `str` attribute of the Name column to create a new column named `Last`. The values in this column should be the last character of the name. However, chain the `lower` method to convert all letters to lowercase. *Hint, you need to use the `str` attribute twice.*"
   ]
  },
  {
   "cell_type": "code",
   "execution_count": null,
   "metadata": {
    "nbgrader": {
     "grade": false,
     "grade_id": "group3",
     "locked": false,
     "schema_version": 3,
     "solution": true,
     "task": false
    }
   },
   "outputs": [],
   "source": []
  },
  {
   "cell_type": "markdown",
   "metadata": {
    "nbgrader": {
     "grade": false,
     "grade_id": "cell-41043daaac49c36e",
     "locked": true,
     "schema_version": 3,
     "solution": false,
     "task": false
    }
   },
   "source": [
    "**Q2.4.** Again, applying the same grouping and aggregation as in **Q2.1.** and assign the result to `letters`. Verify there are no entries with a capital letter E."
   ]
  },
  {
   "cell_type": "code",
   "execution_count": null,
   "metadata": {
    "nbgrader": {
     "grade": false,
     "grade_id": "group4",
     "locked": false,
     "schema_version": 3,
     "solution": true,
     "task": false
    }
   },
   "outputs": [],
   "source": []
  },
  {
   "cell_type": "markdown",
   "metadata": {
    "nbgrader": {
     "grade": false,
     "grade_id": "cell-97e96de437168142",
     "locked": true,
     "schema_version": 3,
     "solution": false,
     "task": false
    }
   },
   "source": [
    "# 3. Plot the Results\n",
    "In the following two code cells, I plot this using Seaborn first and then Pandas second. Remember, `letters` is a Series object with a multi-index. Note the differences and explore the methods that I used to learn more. Try to create the bar plot yourself and reference my solution for help."
   ]
  },
  {
   "cell_type": "code",
   "execution_count": 4,
   "metadata": {
    "nbgrader": {
     "grade": false,
     "grade_id": "cell-f0fa04ad8da3499c",
     "locked": true,
     "schema_version": 3,
     "solution": false,
     "task": false
    }
   },
   "outputs": [],
   "source": [
    "# # Pandas wrapper to create a horizontal barplot and change the figure size\n",
    "\n",
    "# letters.plot(kind='barh', figsize=(10, 10))\n",
    "# plt.show()"
   ]
  },
  {
   "cell_type": "markdown",
   "metadata": {
    "nbgrader": {
     "grade": false,
     "grade_id": "cell-de1f5c59ca777bad",
     "locked": true,
     "schema_version": 3,
     "solution": false,
     "task": false
    }
   },
   "source": [
    "By default, Pandas will make the column(s) that were grouped as the index. This is not helpful because it is not obvious which bars are for which gender. Instead, we'd like to plot each gender a different color (map gender to the `hue` parameter similar to how we mapped the index to the `y` parameter), so we need the last letter and gender to be their own columns.\n",
    "\n",
    "**Q3.1.** Use the `reset_index` method to do this. This is a method for both Series and DataFrame objects. By default, it returns a new Series or DataFrame so you must assign the result to a variable. In this case, we no longer need this version of `letters` so we will assign the result to `letters`. *Note, it is good practice to output the result to make sure it is doing what you expect before assigning it to a variable.*"
   ]
  },
  {
   "cell_type": "code",
   "execution_count": null,
   "metadata": {
    "nbgrader": {
     "grade": false,
     "grade_id": "plot1",
     "locked": false,
     "schema_version": 3,
     "solution": true,
     "task": false
    }
   },
   "outputs": [],
   "source": []
  },
  {
   "cell_type": "markdown",
   "metadata": {
    "nbgrader": {
     "grade": false,
     "grade_id": "cell-6f8f670220ce58e9",
     "locked": true,
     "schema_version": 3,
     "solution": false,
     "task": false
    }
   },
   "source": [
    "**Q3.2.** Now, we are able to map the color of each bar to the Gender column. In Seaborn, this is done with the `hue` parameter. Create the same barplot as above with the except the y-axis will only have letters and each letter will have two different bars for gender. *Note, I set my figure size to (15, 15).* Try to create the bar plot yourself and reference my solution for help."
   ]
  },
  {
   "cell_type": "code",
   "execution_count": 5,
   "metadata": {
    "nbgrader": {
     "grade": true,
     "grade_id": "plot2",
     "locked": false,
     "points": 1,
     "schema_version": 3,
     "solution": true,
     "task": false
    }
   },
   "outputs": [],
   "source": [
    "\n",
    "# plt.figure(figsize=(15, 15))\n",
    "# sns.barplot(x=\"Count\", y=\"Last\", hue=\"Gender\", data=letters)\n",
    "# plt.show()"
   ]
  },
  {
   "cell_type": "markdown",
   "metadata": {
    "nbgrader": {
     "grade": false,
     "grade_id": "cell-c79efbdde9d45ea1",
     "locked": true,
     "schema_version": 3,
     "solution": false,
     "task": false
    }
   },
   "source": [
    "This is helpful because we can now see the disparity in the size of the bars. The larger the difference, the easier it is to predict the gender on that letter. However, it is still hard to decipher for some letters because we are displaying the magnitude and some letters are much more frequent than others. As a result, it is hard to distinguish for the very small bars. \n",
    "\n",
    "# 4. Normalizing the Data\n",
    "A better way to communicate this data is to show the proportion of males to females for each letter. We can use the `letters_pivot` DataFrame to calculate the proportion of males with a name ending in a letter by dividing it by the total of males and females with names ending in that letter.\n",
    "1. Create a Series named `total` by calculating the total babies for each letter\n",
    "2. Create a new column named `Percent Males` by dividing `M` by `total`\n",
    "3. Create a new column named `Percent Females` by dividing `F` by `total`\n",
    "\n",
    "**Q4.1.** Create a Series named `total`. This can be done by applying the `sum` method to the DataFrame. This method requires you to pass an argument for the `axis` parameter which specifies whether to sum over the rows (\"columns\" and return a Series with the same number of rows) or to sum over the columns (\"index\" and return a Series with the same number of columns)."
   ]
  },
  {
   "cell_type": "code",
   "execution_count": null,
   "metadata": {
    "nbgrader": {
     "grade": false,
     "grade_id": "norm1",
     "locked": false,
     "schema_version": 3,
     "solution": true,
     "task": false
    }
   },
   "outputs": [],
   "source": []
  },
  {
   "cell_type": "markdown",
   "metadata": {
    "nbgrader": {
     "grade": false,
     "grade_id": "cell-e9823fdb62f16afd",
     "locked": true,
     "schema_version": 3,
     "solution": false,
     "task": false
    }
   },
   "source": [
    "**Q4.2.** Next, create the `Percent Males` and `Percent Females` columns in `letters`."
   ]
  },
  {
   "cell_type": "code",
   "execution_count": 6,
   "metadata": {
    "nbgrader": {
     "grade": false,
     "grade_id": "norm2",
     "locked": false,
     "schema_version": 3,
     "solution": true,
     "task": false
    }
   },
   "outputs": [],
   "source": [
    "# reset index to match total\n",
    "\n",
    "\n",
    "# calculate percent males and females\n",
    "\n",
    "\n",
    "# merge both series (pct_male and pct_female) together and rename columns\n",
    "\n",
    "\n",
    "# inspect\n",
    "\n"
   ]
  },
  {
   "cell_type": "markdown",
   "metadata": {},
   "source": [
    "**Q4.3.** Finally, we can again create the same bar plot. This time, sort the DataFrame so that the disparity between genders is even more clear. You can use either the Pandas or Seaborn wrapper to Matplotlib, but Pandas is easiest in the current shape of our data. What would you need to do in order to use Seaborn like previously?"
   ]
  },
  {
   "cell_type": "code",
   "execution_count": 7,
   "metadata": {
    "nbgrader": {
     "grade": true,
     "grade_id": "norm3",
     "locked": false,
     "points": 1,
     "schema_version": 3,
     "solution": true,
     "task": false
    },
    "scrolled": true
   },
   "outputs": [],
   "source": [
    "# uncomment to see plot\n",
    "# letters_pct.loc[:,['Percent Males', 'Percent Females']].sort_values('Percent Males').plot(kind='barh',stacked=True, figsize=(10,10))\n",
    "# plt.show()"
   ]
  },
  {
   "cell_type": "markdown",
   "metadata": {
    "nbgrader": {
     "grade": false,
     "grade_id": "cell-a5813893aab17a46",
     "locked": true,
     "schema_version": 3,
     "solution": false,
     "task": false
    }
   },
   "source": [
    "In the Pandas wrapper for a bar plot, you can specify a Boolean argument for the `stacked` parameter. Instead, of plotting the bars clustered next to one another, it will stack them on top of each other. In this case, that is helpful because you can quickly see which letters transition near 0.5."
   ]
  }
 ],
 "metadata": {
  "celltoolbar": "Create Assignment",
  "kernelspec": {
   "display_name": "Python 3",
   "language": "python",
   "name": "python3"
  },
  "language_info": {
   "codemirror_mode": {
    "name": "ipython",
    "version": 3
   },
   "file_extension": ".py",
   "mimetype": "text/x-python",
   "name": "python",
   "nbconvert_exporter": "python",
   "pygments_lexer": "ipython3",
   "version": "3.8.5"
  }
 },
 "nbformat": 4,
 "nbformat_minor": 4
}
