{
 "cells": [
  {
   "cell_type": "markdown",
   "metadata": {
    "nbgrader": {
     "grade": false,
     "grade_id": "cell-8c5733f4991ba5a0",
     "locked": true,
     "schema_version": 3,
     "solution": false,
     "task": false
    }
   },
   "source": [
    "# Objectives\n",
    "1. Use Pandas methods to work with missing data\n",
    "2. Convert columns from one data type to another\n",
    "\n",
    "We will again use the PGA Stats CSV file that we used in Week 1 as well as previously in the course. Run the following code cell to import the libraries that we will use in this lab. Note, we have added the statement `%matplotlib inline` which is an IPython magic command that tells Jupyter Notebook to render Matplotlib plots inline rather than as part of an output. You can read more [here](https://nbviewer.jupyter.org/github/ipython/ipython/blob/1.x/examples/notebooks/Part%203%20-%20Plotting%20with%20Matplotlib.ipynb)."
   ]
  },
  {
   "cell_type": "code",
   "execution_count": 1,
   "metadata": {},
   "outputs": [],
   "source": [
    "%matplotlib inline\n",
    "\n",
    "import numpy as np\n",
    "import pandas as pd\n",
    "import matplotlib.pyplot as plt\n",
    "import seaborn as sns"
   ]
  },
  {
   "cell_type": "markdown",
   "metadata": {
    "nbgrader": {
     "grade": false,
     "grade_id": "cell-c2c61288dafcf42b",
     "locked": true,
     "schema_version": 3,
     "solution": false,
     "task": false
    }
   },
   "source": [
    "# 1. Load the Data\n",
    "We are again going to use the PGA Stats dataset.\n",
    "\n",
    "**Q1.1.** Read the CSV file to a DataFrame named `pga` and specify the index as the player's name. Remember, the file must be in the same directory as this Jupyter Notebook or you must specify the entire file path. Inspect the first five rows."
   ]
  },
  {
   "cell_type": "code",
   "execution_count": 1,
   "metadata": {
    "nbgrader": {
     "grade": false,
     "grade_id": "load1",
     "locked": false,
     "schema_version": 3,
     "solution": true,
     "task": false
    }
   },
   "outputs": [],
   "source": [
    "# read file and set index col\n",
    "\n",
    "\n",
    "# inspect\n",
    "\n"
   ]
  },
  {
   "cell_type": "markdown",
   "metadata": {
    "nbgrader": {
     "grade": false,
     "grade_id": "cell-4b5d1f636bae4718",
     "locked": true,
     "schema_version": 3,
     "solution": false,
     "task": false
    }
   },
   "source": [
    "**Q1.2.** Next, summarize the data to understand the types of data and some summary statistics for numeric columns."
   ]
  },
  {
   "cell_type": "code",
   "execution_count": null,
   "metadata": {
    "nbgrader": {
     "grade": true,
     "grade_id": "load2",
     "locked": false,
     "points": 1,
     "schema_version": 3,
     "solution": true,
     "task": false
    }
   },
   "outputs": [],
   "source": [
    "# info and describe\n",
    "\n"
   ]
  },
  {
   "cell_type": "markdown",
   "metadata": {
    "nbgrader": {
     "grade": false,
     "grade_id": "cell-c96134561fdf219e",
     "locked": true,
     "schema_version": 3,
     "solution": false,
     "task": false
    }
   },
   "source": [
    "Do any of the summary statistics for `RK` make sense? Why are `AGE`, `CUP POINTS`, and `EARNINGS` not represented in the summary statistics?\n",
    "\n",
    "**Q1.3.** It may not be obvious from the output of `head`, but `CUP POINTS` and `EARNINGS` have commas and dollar signs which make it unclear for Python to determine the appropriate computational data type. As a result, it stores them as a generic object. However, it is not as obvious why `AGE` is not numeric. To understand why, inspect the last five rows of the data set using the `tail` method."
   ]
  },
  {
   "cell_type": "code",
   "execution_count": null,
   "metadata": {
    "nbgrader": {
     "grade": false,
     "grade_id": "load3",
     "locked": false,
     "schema_version": 3,
     "solution": true,
     "task": false
    }
   },
   "outputs": [],
   "source": [
    "# inspect last 10\n"
   ]
  },
  {
   "cell_type": "markdown",
   "metadata": {
    "nbgrader": {
     "grade": false,
     "grade_id": "cell-60c07ec5d6bedd74",
     "locked": true,
     "schema_version": 3,
     "solution": false,
     "task": false
    }
   },
   "source": [
    "In this dataset, there are '--' representing either unknown quantities, a zero, or a not applicable designation. Ideally, we would speak with the owner of the data to clarify how each of these are encoded. In reality, this is often not possible and the same value may be used to encode all three different cases. Often, we must infer how to handle these types of values based on the data. For this exercise, we will encode those values with NaN (not a number) values.\n",
    "\n",
    "**Q1.4.** In the below cell, again read the 'PGA Stats.csv' file to a DataFrame named `pga`, but specify '--' as the argument to the `na_values` parameter. This parameter will convert '--' occurences to an NaN. There are many other parameters for the `read_csv` function in order to handle a variety of issues with data files. You can find the documentation [here](https://pandas.pydata.org/pandas-docs/stable/reference/api/pandas.read_csv.html).\n",
    "\n",
    "After creating the DataFrame, use the `info` and `describe` methods to note the differences. What computational data type is the `AGE` column and how many non-null elements are there? What are the summary statistics?"
   ]
  },
  {
   "cell_type": "code",
   "execution_count": 3,
   "metadata": {
    "nbgrader": {
     "grade": false,
     "grade_id": "load4",
     "locked": false,
     "schema_version": 3,
     "solution": true,
     "task": false
    }
   },
   "outputs": [],
   "source": [
    "# reread file, specify na_values for '--'\n",
    "\n",
    "\n"
   ]
  },
  {
   "cell_type": "markdown",
   "metadata": {
    "nbgrader": {
     "grade": false,
     "grade_id": "Replacing_text",
     "locked": true,
     "schema_version": 3,
     "solution": false
    }
   },
   "source": [
    "Run the cell below. It is removing the dollar signs and commas and then converting the column to a float so that we can analyze it. **Note: the `replace` method used below is a string method which is why we access the `str` attribute first. This is different than the `replace` method from the reading.**\n",
    "\n",
    "The statement that is commented out is equivalent to the first two statements. It is using regular expressions (regex) to replace dollar signs and commas with blanks and then converting it to a float. Regular expressions are outside the scope of this class."
   ]
  },
  {
   "cell_type": "code",
   "execution_count": 4,
   "metadata": {},
   "outputs": [],
   "source": [
    "pga['EARNINGS'] = pga['EARNINGS'].str.replace('$','')\n",
    "pga['EARNINGS'] = pga['EARNINGS'].str.replace(',','').astype(float)\n",
    "# pga['EARNINGS'] = pga['EARNINGS'].replace('[\\$,]','', regex = True).astype(float)\n",
    "pga.head()"
   ]
  },
  {
   "cell_type": "markdown",
   "metadata": {},
   "source": [
    "**Q1.5.** Complete the same process and remove the commas for the `CUP POINTS` column. Inspect the first five rows."
   ]
  },
  {
   "cell_type": "code",
   "execution_count": 5,
   "metadata": {},
   "outputs": [],
   "source": [
    "# remove commas from cup points\n"
   ]
  },
  {
   "cell_type": "markdown",
   "metadata": {
    "nbgrader": {
     "grade": false,
     "grade_id": "cell-f37c270654a87fb1",
     "locked": true,
     "schema_version": 3,
     "solution": false,
     "task": false
    }
   },
   "source": [
    "# 2. Missing Values\n",
    "Now that we have translated '--' to NaN values and removed dollar signs and commas, all of our data should be numeric. However, there are still several missing values in the AGE and EARNINGS columns.\n",
    "\n",
    "**Q2.1.** In the below cell, create an ordered list using Markdown to list at least two strategies to deal with the missing data."
   ]
  },
  {
   "cell_type": "markdown",
   "metadata": {
    "nbgrader": {
     "grade": true,
     "grade_id": "missing1",
     "locked": false,
     "points": 1,
     "schema_version": 3,
     "solution": true,
     "task": false
    }
   },
   "source": []
  },
  {
   "cell_type": "markdown",
   "metadata": {
    "nbgrader": {
     "grade": false,
     "grade_id": "cell-e2563e72e969b5e4",
     "locked": true,
     "schema_version": 3,
     "solution": false,
     "task": false
    }
   },
   "source": [
    "**Q2.2.** We will assume that a missing value in the EARNINGS column means that they did not earn any money. Fill these missing values with zeros. Apply the `info` method to verify the null values were filled."
   ]
  },
  {
   "cell_type": "code",
   "execution_count": 6,
   "metadata": {
    "nbgrader": {
     "grade": false,
     "grade_id": "missing2",
     "locked": false,
     "schema_version": 3,
     "solution": true,
     "task": false
    }
   },
   "outputs": [],
   "source": [
    "# fill null values with 0\n",
    "\n",
    "# verify\n"
   ]
  },
  {
   "cell_type": "markdown",
   "metadata": {
    "nbgrader": {
     "grade": false,
     "grade_id": "cell-cbd49df9ca53cb00",
     "locked": true,
     "schema_version": 3,
     "solution": false,
     "task": false
    }
   },
   "source": [
    "**Q2.3.** For the missing values in the AGE column, it is less clear what to do. We know that there are 156 players with an unknown age and we know that the DataFrame is sorted from top ranked to worst ranked players. In the below cell, inspect the first 10 players with an unknown age."
   ]
  },
  {
   "cell_type": "code",
   "execution_count": 7,
   "metadata": {
    "nbgrader": {
     "grade": false,
     "grade_id": "missing3",
     "locked": false,
     "schema_version": 3,
     "solution": true,
     "task": false
    }
   },
   "outputs": [],
   "source": [
    "# check out first 10 players with unknown age\n"
   ]
  },
  {
   "cell_type": "markdown",
   "metadata": {
    "nbgrader": {
     "grade": false,
     "grade_id": "cell-f74dc39579dc1518",
     "locked": true,
     "schema_version": 3,
     "solution": false,
     "task": false
    }
   },
   "source": [
    "It turns out that there are some well known and successful players with an unknown age. Poor Benjamin Silverman won nearly $800K and ESPN can't track down his age. We will leave players with an unknown age as an NaN value."
   ]
  },
  {
   "cell_type": "markdown",
   "metadata": {
    "nbgrader": {
     "grade": false,
     "grade_id": "cell-12575b05c721ec5d",
     "locked": true,
     "schema_version": 3,
     "solution": false,
     "task": false
    }
   },
   "source": [
    "### 3. Plotting\n",
    "**Q3.1.** Create a histogram of the number of events to understand the distribution. First, use the default number of bins to get an idea of the frequency of events played. Then, use the `bins` parameter to customize the size of the bins in order to get more granularity. How many values can EVENTS take on? What argument value makes sense in this case?"
   ]
  },
  {
   "cell_type": "code",
   "execution_count": 8,
   "metadata": {
    "nbgrader": {
     "grade": true,
     "grade_id": "plot1",
     "locked": false,
     "points": 1,
     "schema_version": 3,
     "solution": true,
     "task": false
    }
   },
   "outputs": [],
   "source": [
    "# plot histogram\n",
    "\n"
   ]
  },
  {
   "cell_type": "markdown",
   "metadata": {
    "nbgrader": {
     "grade": false,
     "grade_id": "cell-92d6128f1a53dfd0",
     "locked": true,
     "schema_version": 3,
     "solution": false,
     "task": false
    }
   },
   "source": [
    "There are many players in the dataset, like Tony Romo, who only play in a single tournament based on sponsor's exemptions. As you can see, only 403 of 559 players have a recorded age and only 253 players earned money. \n",
    "\n",
    "**Q3.2.** Next, subset the data to those players who played in at least three events. Name the resulting DataFrame `pga_pros`. Use the `describe` method to view the summary statistics of each numeric column. "
   ]
  },
  {
   "cell_type": "code",
   "execution_count": 9,
   "metadata": {
    "nbgrader": {
     "grade": false,
     "grade_id": "plot2",
     "locked": false,
     "schema_version": 3,
     "solution": true,
     "task": false
    }
   },
   "outputs": [],
   "source": [
    "# subset events > 2\n",
    "\n",
    "# describe() to verify\n"
   ]
  },
  {
   "cell_type": "markdown",
   "metadata": {
    "nbgrader": {
     "grade": false,
     "grade_id": "cell-31f044cd17a811ce",
     "locked": true,
     "schema_version": 3,
     "solution": false,
     "task": false
    }
   },
   "source": [
    "**Q3.3.** In the below cell, create a scatter plot with Events on the x-axis and Earnings on the y-axis. Specify the horizontal axis label with 'Events Played' and the vertical axis label with 'Earnings'. Notice how I specified the y-axis ticks with a minimum of 0, a maximum of 10 million, and an interval of 2 million and customized the tick labels so they appear as \\\\$0M, \\\\$2M, etc."
   ]
  },
  {
   "cell_type": "code",
   "execution_count": 10,
   "metadata": {
    "nbgrader": {
     "grade": true,
     "grade_id": "plot3",
     "locked": false,
     "points": 1,
     "schema_version": 3,
     "solution": true,
     "task": false
    }
   },
   "outputs": [],
   "source": [
    "# scatter plot events vs earnings\n",
    "\n",
    "\n",
    "# add x and y labels\n",
    "\n",
    "\n",
    "# changing y-axis ticks\n",
    "plt.yticks([0, 2e6, 4e6, 6e6, 8e6, 10e6], ['$0M', '$2M', '$4M', '$6M', '$8M', '$10M'])\n",
    "plt.show()"
   ]
  }
 ],
 "metadata": {
  "celltoolbar": "Create Assignment",
  "kernelspec": {
   "display_name": "Python 3",
   "language": "python",
   "name": "python3"
  },
  "language_info": {
   "codemirror_mode": {
    "name": "ipython",
    "version": 3
   },
   "file_extension": ".py",
   "mimetype": "text/x-python",
   "name": "python",
   "nbconvert_exporter": "python",
   "pygments_lexer": "ipython3",
   "version": "3.8.5"
  }
 },
 "nbformat": 4,
 "nbformat_minor": 4
}
