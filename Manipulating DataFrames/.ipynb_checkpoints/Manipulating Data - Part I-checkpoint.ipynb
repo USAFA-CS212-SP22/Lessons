{
 "cells": [
  {
   "cell_type": "markdown",
   "metadata": {
    "nbgrader": {
     "grade": false,
     "grade_id": "cell-1c5ea0d8c44db98d",
     "locked": true,
     "schema_version": 3,
     "solution": false,
     "task": false
    }
   },
   "source": [
    "# Objectives\n",
    "1. Use the `iloc` and `loc` operators to access slices of the rows and columns of a DataFrame\n",
    "2. Use Boolean expressions to select rows of a DataFrame based on one or more conditions\n",
    "3. Combine multiple data manipulation steps to answer a question using data\n",
    "\n",
    "In this lab, you will use the Baby Names dataset that *Data.gov* releases each year to practice working with data using Pandas. The dataset contains the total number of babies born with a given first name and gender each year from 1880 through 2018. The file size is fairly large, so you will not be able to open the full dataset in Excel. The first five lines out of nearly two million are:\n",
    "```\n",
    "Id,Name,Year,Gender,Count\n",
    "1,Mary,1880,F,7065\n",
    "2,Anna,1880,F,2604\n",
    "3,Emma,1880,F,2003\n",
    "4,Elizabeth,1880,F,1939\n",
    "```\n",
    "\n",
    "Each row represents a unique instance of a name-gender-year combination. In addition to those columns, the Count column represents the number of babies born for that name-gender-year instance.\n",
    "\n",
    "*Note: to protect individual's privacy, Data.gov does not publish names with fewer than five births for that given name.*"
   ]
  },
  {
   "cell_type": "markdown",
   "metadata": {
    "nbgrader": {
     "grade": false,
     "grade_id": "cell-ccf231ff1bc6adf8",
     "locked": true,
     "schema_version": 3,
     "solution": false,
     "task": false
    }
   },
   "source": [
    "### Load the Libraries\n",
    "Run the following code cell to import each of the libraries that we will use in the lab."
   ]
  },
  {
   "cell_type": "code",
   "execution_count": 39,
   "metadata": {},
   "outputs": [],
   "source": [
    "import pandas as pd\n",
    "import matplotlib.pyplot as plt\n",
    "import seaborn as sns"
   ]
  },
  {
   "cell_type": "markdown",
   "metadata": {
    "nbgrader": {
     "grade": false,
     "grade_id": "cell-e3e249ea301689a7",
     "locked": true,
     "schema_version": 3,
     "solution": false,
     "task": false
    }
   },
   "source": [
    "# 1. Explore the Data\n",
    "In the next several exercises, you will use Pandas attributes and methods to become familiar with the data.\n",
    "\n",
    "**Note: Jupyter Notebook formats the output of Pandas objects nicely. As such, you should NOT use the `print` function unless specifically instructed. Furthermore, we will explicitly define what variable name you should assign a result if we will continue to use it; otherwise, you may assume that the output is not required for future computations and is meant only for us to be able to inspect and explore.**\n",
    "\n",
    "**Q1.1.** In the below cell, read the 'babynames.csv' file to a `DataFrame` named `names`. Specify the `Id` column as the index. Inspect the first five lines."
   ]
  },
  {
   "cell_type": "code",
   "execution_count": 40,
   "metadata": {
    "nbgrader": {
     "grade": false,
     "grade_id": "explore1",
     "locked": false,
     "schema_version": 3,
     "solution": true,
     "task": false
    }
   },
   "outputs": [],
   "source": [
    "# read file and set index\n",
    "\n",
    "\n",
    "# inspect\n"
   ]
  },
  {
   "cell_type": "markdown",
   "metadata": {
    "nbgrader": {
     "grade": false,
     "grade_id": "cell-829fdb6639c797a2",
     "locked": true,
     "schema_version": 3,
     "solution": false,
     "task": false
    }
   },
   "source": [
    "**Q1.2.** Output information regarding the DataFrame attributes using the `info` method."
   ]
  },
  {
   "cell_type": "code",
   "execution_count": 41,
   "metadata": {
    "nbgrader": {
     "grade": false,
     "grade_id": "explore2",
     "locked": false,
     "schema_version": 3,
     "solution": true,
     "task": false
    }
   },
   "outputs": [],
   "source": [
    "# inspect data types\n"
   ]
  },
  {
   "cell_type": "markdown",
   "metadata": {
    "nbgrader": {
     "grade": false,
     "grade_id": "cell-811aa21f260c19bb",
     "locked": true,
     "schema_version": 3,
     "solution": false,
     "task": false
    }
   },
   "source": [
    "**Q1.3.** Determine the number of observations for each gender. You can determine this by calling the `value_counts` method on the `Gender` column."
   ]
  },
  {
   "cell_type": "code",
   "execution_count": 42,
   "metadata": {
    "nbgrader": {
     "grade": false,
     "grade_id": "explore3",
     "locked": false,
     "schema_version": 3,
     "solution": true,
     "task": false
    }
   },
   "outputs": [],
   "source": [
    "# find number of males and females\n"
   ]
  },
  {
   "cell_type": "markdown",
   "metadata": {
    "nbgrader": {
     "grade": false,
     "grade_id": "cell-1b49810c905deee3",
     "locked": true,
     "schema_version": 3,
     "solution": false,
     "task": false
    }
   },
   "source": [
    "Why do you think there are so many more female observations than male? Does that mean that there are that many more girls born than boys?\n",
    "\n",
    "**Q1.4.** Use the below Markdown cell to summarize what the difference in these numbers mean:"
   ]
  },
  {
   "cell_type": "markdown",
   "metadata": {
    "nbgrader": {
     "grade": true,
     "grade_id": "explore4",
     "locked": false,
     "points": 1,
     "schema_version": 3,
     "solution": true,
     "task": false
    }
   },
   "source": []
  },
  {
   "cell_type": "markdown",
   "metadata": {
    "nbgrader": {
     "grade": false,
     "grade_id": "cell-89aec0b7475620cf",
     "locked": true,
     "schema_version": 3,
     "solution": false,
     "task": false
    }
   },
   "source": [
    "You can use the `describe` method for Series or DataFrame objects and its behavior will change depending on the type of data.\n",
    "\n",
    "**Q1.5.** In the below cell, call the `describe` method on the entire DataFrame."
   ]
  },
  {
   "cell_type": "code",
   "execution_count": null,
   "metadata": {
    "nbgrader": {
     "grade": false,
     "grade_id": "explore5",
     "locked": false,
     "schema_version": 3,
     "solution": true,
     "task": false
    }
   },
   "outputs": [],
   "source": []
  },
  {
   "cell_type": "markdown",
   "metadata": {
    "nbgrader": {
     "grade": false,
     "grade_id": "cell-11033101a6a38fa3",
     "locked": true,
     "schema_version": 3,
     "solution": false,
     "task": false
    }
   },
   "source": [
    "**Q1.6.** In the below cell, call the `describe` method on the `Name` column."
   ]
  },
  {
   "cell_type": "code",
   "execution_count": null,
   "metadata": {
    "nbgrader": {
     "grade": false,
     "grade_id": "explore6",
     "locked": false,
     "schema_version": 3,
     "solution": true,
     "task": false
    }
   },
   "outputs": [],
   "source": []
  },
  {
   "cell_type": "markdown",
   "metadata": {
    "nbgrader": {
     "grade": false,
     "grade_id": "cell-e9c067dac3ec4878",
     "locked": true,
     "schema_version": 3,
     "solution": false,
     "task": false
    }
   },
   "source": [
    "The `describe` method returns summary statistics for a given DataFrame or Series. The statistics that it contains depends on the type of data in the DataFrame or Series.\n",
    "\n",
    "Looking at the output, does this mean the top name is the most popular name? We will explore this question later in the lab."
   ]
  },
  {
   "cell_type": "markdown",
   "metadata": {
    "nbgrader": {
     "grade": false,
     "grade_id": "cell-bb4d89955a14bd05",
     "locked": true,
     "schema_version": 3,
     "solution": false,
     "task": false
    }
   },
   "source": [
    "## 2. Indexing in Pandas\n",
    "#### `loc` and `iloc`\n",
    "The Kaggle lesson reviewed three different ways to access a subset of data within a DataFrame. The naive method is to use the `[]` indexing operator similar to lists or dictionaries. This can be convenient, but the more appropriate method is to use either the `loc` or `iloc` operators.\n",
    "\n",
    "**Q2.1.** In the below cell, use the `iloc` method to access the first row of data:"
   ]
  },
  {
   "cell_type": "code",
   "execution_count": null,
   "metadata": {
    "nbgrader": {
     "grade": false,
     "grade_id": "subset1",
     "locked": false,
     "schema_version": 3,
     "solution": true,
     "task": false
    }
   },
   "outputs": [],
   "source": []
  },
  {
   "cell_type": "markdown",
   "metadata": {
    "nbgrader": {
     "grade": false,
     "grade_id": "cell-6b894a82e22ca244",
     "locked": true,
     "schema_version": 3,
     "solution": false,
     "task": false
    }
   },
   "source": [
    "Take note that when there is only a single dimension (one row or one column) of data, Pandas will return a Series. It is important to know what type of object a statement will return so you know what attributes and methods are available to that object. It is also important to know whether a method modifies the object in-place or returns a new object. In the former, an assigment operator is not necessary while the latter requires an assignment if you are going to use the resulting object in the future.\n",
    "\n",
    "**Q2.2.** Again, use the `iloc` operator to output the value in the first row and column:"
   ]
  },
  {
   "cell_type": "code",
   "execution_count": null,
   "metadata": {
    "nbgrader": {
     "grade": false,
     "grade_id": "subset2",
     "locked": false,
     "schema_version": 3,
     "solution": true,
     "task": false
    }
   },
   "outputs": [],
   "source": []
  },
  {
   "cell_type": "markdown",
   "metadata": {
    "nbgrader": {
     "grade": false,
     "grade_id": "cell-6a7d6566eff4e541",
     "locked": true,
     "schema_version": 3,
     "solution": false,
     "task": false
    }
   },
   "source": [
    "Using a list for both the rows and columns will force Pandas to return a DataFrame, even if the resulting object only has a single dimension or is a single value. The below table summarizes the resulting object type, but you should explore each statement for yourself:\n",
    "\n",
    "| Statement | Type |\n",
    "| :----: | :----: |\n",
    "| `names.iloc[0]` |  Series |\n",
    "| `names.iloc[:, 0]` | Series |\n",
    "| `names.iloc[[0]]` | DataFrame |\n",
    "| `names.iloc[0, 0]` | String |\n",
    "| `names.iloc[[0], 0]` | Series |\n",
    "| `names.iloc[[0], [0]]` | DataFrame |"
   ]
  },
  {
   "cell_type": "markdown",
   "metadata": {
    "nbgrader": {
     "grade": false,
     "grade_id": "cell-b24c6ba51422e27a",
     "locked": true,
     "schema_version": 3,
     "solution": false,
     "task": false
    }
   },
   "source": [
    "**Q2.3.** Use the `.loc` operator to access and output the `Count` column."
   ]
  },
  {
   "cell_type": "code",
   "execution_count": null,
   "metadata": {
    "nbgrader": {
     "grade": false,
     "grade_id": "subset3",
     "locked": false,
     "schema_version": 3,
     "solution": true,
     "task": false
    }
   },
   "outputs": [],
   "source": []
  },
  {
   "cell_type": "markdown",
   "metadata": {
    "nbgrader": {
     "grade": false,
     "grade_id": "cell-eb2d151eaf22bb35",
     "locked": true,
     "schema_version": 3,
     "solution": false,
     "task": false
    }
   },
   "source": [
    "#### Conditional Selection\n",
    "The power of Pandas comes from being able to subset our data using Boolean expressions. This will allow us to answer interesting questions and perform operations on a subset of our data.\n",
    "\n",
    "There are two important difference between Boolean expressions in Pandas and those in the standard Python libraries. First, we will not be able to use the `and` and `or` Boolean operators because much of Pandas is built on libraries from the C programming language. Instead, we will use the `&` and `|` Boolean operators respectively. Second, we must enclose each Boolean expression in parenthesis when they are combined with a Boolean operator.\n",
    "\n",
    "Run the below code cell and note three things:\n",
    "* the values of the resulting Series\n",
    "* the length is the number of rows in the DataFrame\n",
    "* we often use the attribute to apply a Boolean expression to an entire column"
   ]
  },
  {
   "cell_type": "code",
   "execution_count": null,
   "metadata": {
    "nbgrader": {
     "grade": false,
     "grade_id": "cell-5e79f6b405234b97",
     "locked": true,
     "schema_version": 3,
     "solution": false,
     "task": false
    }
   },
   "outputs": [],
   "source": [
    "names.Name == 'Kevin'"
   ]
  },
  {
   "cell_type": "markdown",
   "metadata": {
    "nbgrader": {
     "grade": false,
     "grade_id": "cell-71c373ae7297be43",
     "locked": true,
     "schema_version": 3,
     "solution": false,
     "task": false
    }
   },
   "source": [
    "**Q2.4.** If we use this Boolean expression inside of the `.loc` operator, it will return only the rows where the Boolean expression is `True`. In the below code cell, output only those rows where the Name value is 'Kevin'."
   ]
  },
  {
   "cell_type": "code",
   "execution_count": null,
   "metadata": {
    "nbgrader": {
     "grade": false,
     "grade_id": "subset4",
     "locked": false,
     "schema_version": 3,
     "solution": true,
     "task": false
    }
   },
   "outputs": [],
   "source": []
  },
  {
   "cell_type": "markdown",
   "metadata": {
    "nbgrader": {
     "grade": false,
     "grade_id": "cell-19ecd22f234f5b4c",
     "locked": true,
     "schema_version": 3,
     "solution": false,
     "task": false
    }
   },
   "source": [
    "## 3. What were the five most popular baby names in 2000?\n",
    "We will walk through a logic design to see what the most popular baby names around your era. In order to answer this question, we can break it down into a couple of steps:\n",
    "1. Subset the data to only the year 2001\n",
    "2. Sort the data on the Count column in descending order\n",
    "3. Access the first five rows\n",
    "\n",
    "**Q3.1.** Use a Boolean expression to subset the data to only the year 2001 and assign the resulting DataFrame to the variable `yob_2001`."
   ]
  },
  {
   "cell_type": "code",
   "execution_count": null,
   "metadata": {
    "nbgrader": {
     "grade": false,
     "grade_id": "yob1",
     "locked": false,
     "schema_version": 3,
     "solution": true,
     "task": false
    }
   },
   "outputs": [],
   "source": []
  },
  {
   "cell_type": "markdown",
   "metadata": {
    "nbgrader": {
     "grade": false,
     "grade_id": "cell-ab72c195c683cfb8",
     "locked": true,
     "schema_version": 3,
     "solution": false,
     "task": false
    }
   },
   "source": [
    "**Q3.2.** Sort the data in descending order by the Count column and assign the result to a DataFrame named `yob_2001_sorted`."
   ]
  },
  {
   "cell_type": "code",
   "execution_count": null,
   "metadata": {
    "nbgrader": {
     "grade": false,
     "grade_id": "yob2",
     "locked": false,
     "schema_version": 3,
     "solution": true,
     "task": false
    }
   },
   "outputs": [],
   "source": []
  },
  {
   "cell_type": "markdown",
   "metadata": {
    "nbgrader": {
     "grade": false,
     "grade_id": "cell-e2509a91df9db423",
     "locked": true,
     "schema_version": 3,
     "solution": false,
     "task": false
    }
   },
   "source": [
    "**Q3.3.** Use the `.iloc` operator to output a slice of the first five rows. In other words, do not use the `head` method even though it would be equivalent."
   ]
  },
  {
   "cell_type": "code",
   "execution_count": null,
   "metadata": {
    "nbgrader": {
     "grade": false,
     "grade_id": "yob3",
     "locked": false,
     "schema_version": 3,
     "solution": true,
     "task": false
    }
   },
   "outputs": [],
   "source": []
  },
  {
   "cell_type": "markdown",
   "metadata": {},
   "source": [
    "Was your name among the most popular? Sometimes it is more fun to look at the most unique names. What were the five most unique names? Continue to explore using indexing in Pandas to become more familiar."
   ]
  }
 ],
 "metadata": {
  "celltoolbar": "Create Assignment",
  "kernelspec": {
   "display_name": "Python 3",
   "language": "python",
   "name": "python3"
  },
  "language_info": {
   "codemirror_mode": {
    "name": "ipython",
    "version": 3
   },
   "file_extension": ".py",
   "mimetype": "text/x-python",
   "name": "python",
   "nbconvert_exporter": "python",
   "pygments_lexer": "ipython3",
   "version": "3.8.5"
  }
 },
 "nbformat": 4,
 "nbformat_minor": 4
}
