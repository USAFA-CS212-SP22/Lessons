{
 "cells": [
  {
   "cell_type": "markdown",
   "metadata": {
    "nbgrader": {
     "grade": false,
     "grade_id": "cell-543bc59b27cb9de8",
     "locked": true,
     "schema_version": 3,
     "solution": false,
     "task": false
    }
   },
   "source": [
    "# Objectives\n",
    "* Use `melt` to convert data from a wide format to a tidy (long) format\n",
    "* Remove observations from a DataFrame based on missing values\n",
    "* Customize plots with titles, axis titles, and legends\n",
    "\n",
    "In theis exercise, we will use data from the billboard top hits of 2000. Run the following code cell to import the libraries we will use in this lab."
   ]
  },
  {
   "cell_type": "code",
   "execution_count": 2,
   "metadata": {},
   "outputs": [],
   "source": [
    "%matplotlib inline\n",
    "\n",
    "import pandas as pd\n",
    "import seaborn as sns\n",
    "import matplotlib.pyplot as plt"
   ]
  },
  {
   "cell_type": "markdown",
   "metadata": {
    "nbgrader": {
     "grade": false,
     "grade_id": "cell-a9d7f295dcee738e",
     "locked": true,
     "schema_version": 3,
     "solution": false,
     "task": false
    }
   },
   "source": [
    "# 1. Load the Data\n",
    "**Q1.1.** In the below cell, read the CSV to a DataFrame named `billboard` and inspect the first five rows."
   ]
  },
  {
   "cell_type": "code",
   "execution_count": 3,
   "metadata": {
    "nbgrader": {
     "grade": false,
     "grade_id": "load1",
     "locked": false,
     "schema_version": 3,
     "solution": true,
     "task": false
    }
   },
   "outputs": [],
   "source": [
    "# read data\n",
    "\n",
    "# inspect data\n"
   ]
  },
  {
   "cell_type": "markdown",
   "metadata": {
    "nbgrader": {
     "grade": false,
     "grade_id": "cell-87ea32a8bd9539e5",
     "locked": true,
     "schema_version": 3,
     "solution": false,
     "task": false
    }
   },
   "source": [
    "**Q1.2.** Use the `info` method to obtain summary information about the DataFrame."
   ]
  },
  {
   "cell_type": "code",
   "execution_count": 4,
   "metadata": {
    "nbgrader": {
     "grade": true,
     "grade_id": "load2",
     "locked": false,
     "points": 1,
     "schema_version": 3,
     "solution": true,
     "task": false
    }
   },
   "outputs": [],
   "source": [
    "# info\n"
   ]
  },
  {
   "cell_type": "markdown",
   "metadata": {
    "nbgrader": {
     "grade": false,
     "grade_id": "cell-36636eb4cbd07141",
     "locked": true,
     "schema_version": 3,
     "solution": false,
     "task": false
    }
   },
   "source": [
    "In this case, the dataset is in a wide format which is not tidy. In this case, an observation is a single song, but there is a column for every single week it was in the billboard top 100. As a result, there 76 columns associated with weeks because at least one song stayed in the billboard top 100 for 76 weeks. The value for each of these columns is the rank of the song for that week. For example, Destiny's Child began its time on the billboard ranked 78th and then jumped to 63rd in its second week and 49th in its third week. One problem with this format is that there are a lot of missing values. In this case, a missing value means that the song did not make it that long.\n",
    "\n",
    "# 2. Melting the Data\n",
    "A better format would be to have each of these week columns become just two: week and rank. In this way, an observation represents the rank of a song in a particular week in its billboard top 100 tenure. Furthermore, we can remove any observations for weeks that the song is no longer in the billboard top 100.\n",
    "\n",
    "**Q2.1.** Melt the DataFrame so that we get it in a tidy format (long, not wide) and name the two new columns 'Week Number' and 'Rank'. Name the resulting DataFrame `billboard_melt` and inspect the first five rows. *Hint: just like we can use the `index` attribute to access the row labels, we can use the `columns` attribute to access the column labels.*"
   ]
  },
  {
   "cell_type": "code",
   "execution_count": 1,
   "metadata": {
    "nbgrader": {
     "grade": false,
     "grade_id": "melt1",
     "locked": false,
     "schema_version": 3,
     "solution": true,
     "task": false
    }
   },
   "outputs": [],
   "source": [
    "# melt data keeping first 7 cols and creating week num from cols and rank from values\n",
    "\n",
    "# inspect melted df\n"
   ]
  },
  {
   "cell_type": "markdown",
   "metadata": {
    "nbgrader": {
     "grade": false,
     "grade_id": "cell-6493b02c4c51ffa4",
     "locked": true,
     "schema_version": 3,
     "solution": false,
     "task": false
    }
   },
   "source": [
    "**Q2.2.** Now, look at the summary information for the new DataFrame."
   ]
  },
  {
   "cell_type": "code",
   "execution_count": 6,
   "metadata": {
    "nbgrader": {
     "grade": true,
     "grade_id": "melt2",
     "locked": false,
     "points": 1,
     "schema_version": 3,
     "solution": true,
     "task": false
    }
   },
   "outputs": [],
   "source": [
    "# info\n"
   ]
  },
  {
   "cell_type": "markdown",
   "metadata": {
    "nbgrader": {
     "grade": false,
     "grade_id": "cell-a4de74307711ca11",
     "locked": true,
     "schema_version": 3,
     "solution": false,
     "task": false
    }
   },
   "source": [
    "As you can see, there are now 24,092 rows and there are only 5,307 of them that actually have a rank. This shows the scale of the missing data and how sparse the data was in the `billboard` DataFrame. Note, there is not any other column with missing data and that is to be expected since `melt` replicates the columns that we did not melt for every column that we do melt.\n",
    "\n",
    "**Q2.3.** Remove the observations from the DataFrame that have a missing rank by using the `dropna` method. Like any other new method or function, it is important to understand what the method does. Reference its [documentation](https://pandas.pydata.org/docs/reference/api/pandas.DataFrame.dropna.html). Verify that there are only 5,307 observations and that no column has missing values."
   ]
  },
  {
   "cell_type": "code",
   "execution_count": 7,
   "metadata": {
    "nbgrader": {
     "grade": false,
     "grade_id": "melt3",
     "locked": false,
     "schema_version": 3,
     "solution": true,
     "task": false
    }
   },
   "outputs": [],
   "source": [
    "# drop null values\n",
    "\n",
    "# check info\n"
   ]
  },
  {
   "cell_type": "markdown",
   "metadata": {
    "nbgrader": {
     "grade": false,
     "grade_id": "cell-b8ff315cd9f985da",
     "locked": true,
     "schema_version": 3,
     "solution": false,
     "task": false
    }
   },
   "source": [
    "The values in the `Week Number` column are not helpful. Let's use string slicing to parse out the integer week number. This can be tricky since the number of characters varies depending on if the week number is greater than 9 or not. However, we know which character we want our slice to begin at and we know how many characters to remove from the end.\n",
    "\n",
    "**Q2.4** Use string slicing to replace the values in the `Week Number` column with integers. Use the `astype` method to change the data type for the column. *Hint: make sure your statement is correct before actually replacing the values in the column.*"
   ]
  },
  {
   "cell_type": "code",
   "execution_count": 8,
   "metadata": {
    "nbgrader": {
     "grade": false,
     "grade_id": "melt4",
     "locked": false,
     "schema_version": 3,
     "solution": true,
     "task": false
    }
   },
   "outputs": [],
   "source": [
    "# replace values in Week Number with integers\n",
    "\n",
    "# check info\n"
   ]
  },
  {
   "cell_type": "markdown",
   "metadata": {
    "nbgrader": {
     "grade": false,
     "grade_id": "cell-8897d71e8a8bddcb",
     "locked": true,
     "schema_version": 3,
     "solution": false,
     "task": false
    }
   },
   "source": [
    "**Q2.5.** Our DataFrame is in a good format to plot the rank of songs over their time in the billboard top 100. Pick two songs of your choice and create a line plot over the weeks to compare their performances. Specify the legend labels to be the song titles and an appropriate title and axis titles."
   ]
  },
  {
   "cell_type": "code",
   "execution_count": 9,
   "metadata": {
    "nbgrader": {
     "grade": true,
     "grade_id": "melt5",
     "locked": false,
     "points": 1,
     "schema_version": 3,
     "solution": true,
     "task": false
    }
   },
   "outputs": [],
   "source": [
    "# plot first track\n",
    "\n",
    "# plot second track\n",
    "\n",
    "# add title, x and y labels\n",
    "\n",
    "# plt.show()"
   ]
  },
  {
   "cell_type": "markdown",
   "metadata": {
    "nbgrader": {
     "grade": false,
     "grade_id": "cell-44c4cfed2dc41287",
     "locked": true,
     "schema_version": 3,
     "solution": false,
     "task": false
    }
   },
   "source": [
    "**Q2.6.** A lower rank means better performance, but our graph implies that a lower rank is dropping because of the nature of the y-axis. If you haven't done this already, invert the y-axis so that a rank of 1 is at the top (Google is your friend)."
   ]
  },
  {
   "cell_type": "code",
   "execution_count": 10,
   "metadata": {
    "nbgrader": {
     "grade": true,
     "grade_id": "melt6",
     "locked": false,
     "points": 1,
     "schema_version": 3,
     "solution": true,
     "task": false
    }
   },
   "outputs": [],
   "source": [
    "# plot first track\n",
    "\n",
    "# plot second track\n",
    "\n",
    "# invert y axis\n",
    "\n",
    "# add title, x and y labels\n",
    "\n",
    "# plt.show()"
   ]
  },
  {
   "cell_type": "markdown",
   "metadata": {},
   "source": [
    "# 3. Aggregating the Data\n",
    "For the remainder of this exercise, we will explore a couple of questions. First,\n",
    "\n",
    "<p style=\"text-align:center\"><b>How many weeks do most songs stay in the Billboard Top 100?</b></p>\n",
    "\n",
    "To do this, we need to aggregate our data. Currently, a song is in the DataFrame 1 or more times for each week it appeared in the top 100. We want to aggregate each song so it appears once along with the number of weeks it appeared in the top 100.\n",
    "\n",
    "**Q3.1.** Create the Series `weeks` where each label is a unique track and the value is the number of weeks it appeared in the top 100. Rename the `name` attribute to be 'Max Weeks' (remember, a Series has a name similar to a column label in a DataFrame). Output the result and note the length of the Series."
   ]
  },
  {
   "cell_type": "code",
   "execution_count": 11,
   "metadata": {
    "nbgrader": {
     "grade": false,
     "grade_id": "agg1",
     "locked": false,
     "schema_version": 3,
     "solution": true,
     "task": false
    }
   },
   "outputs": [],
   "source": [
    "# groupby track with number of weeks appeared on top 100\n",
    "\n",
    "# inspect weeks\n"
   ]
  },
  {
   "cell_type": "markdown",
   "metadata": {
    "nbgrader": {
     "grade": false,
     "grade_id": "cell-a9b9bfb074461e09",
     "locked": true,
     "schema_version": 3,
     "solution": false,
     "task": false
    }
   },
   "source": [
    "**Q3.2.** Create the same Series and name it `weeks`, but this time group by unique combinations of track and artist. Output the result and note the length of the series. What is the difference and why?"
   ]
  },
  {
   "cell_type": "code",
   "execution_count": 12,
   "metadata": {
    "nbgrader": {
     "grade": true,
     "grade_id": "agg2",
     "locked": false,
     "points": 1,
     "schema_version": 3,
     "solution": true,
     "task": false
    }
   },
   "outputs": [],
   "source": [
    "# groupby track/artist with number of weeks appeared on top 100\n",
    "\n",
    "# inspect weeks\n"
   ]
  },
  {
   "cell_type": "markdown",
   "metadata": {
    "nbgrader": {
     "grade": false,
     "grade_id": "cell-64c4e5fb2e3f63ab",
     "locked": true,
     "schema_version": 3,
     "solution": false,
     "task": false
    }
   },
   "source": [
    "**Q3.3.** Use the `weeks` Series to create a histogram of the distribution of the number of weeks a song is in the top 100."
   ]
  },
  {
   "cell_type": "code",
   "execution_count": 13,
   "metadata": {
    "nbgrader": {
     "grade": true,
     "grade_id": "agg3",
     "locked": false,
     "points": 1,
     "schema_version": 3,
     "solution": true,
     "task": false
    }
   },
   "outputs": [],
   "source": [
    "# plot histogram\n",
    "\n",
    "# plt.show()"
   ]
  },
  {
   "cell_type": "markdown",
   "metadata": {
    "nbgrader": {
     "grade": false,
     "grade_id": "cell-09c65a878e6f1361",
     "locked": true,
     "schema_version": 3,
     "solution": false,
     "task": false
    }
   },
   "source": [
    "**Q3.4.** Why do you suppose there is such an outlier right about 20 weeks? In the Markdown cell below, summarize why you think the data may be distributed like this."
   ]
  },
  {
   "cell_type": "markdown",
   "metadata": {
    "nbgrader": {
     "grade": true,
     "grade_id": "agg4",
     "locked": false,
     "points": 1,
     "schema_version": 3,
     "solution": true,
     "task": false
    }
   },
   "source": []
  },
  {
   "cell_type": "markdown",
   "metadata": {
    "nbgrader": {
     "grade": false,
     "grade_id": "cell-3de8a984d2c42125",
     "locked": true,
     "schema_version": 3,
     "solution": false,
     "task": false
    }
   },
   "source": [
    "Finally, we will explore a final question:\n",
    "\n",
    "<p style=\"text-align:center\"><b>Which artist had the best year?</b></p>\n",
    "\n",
    "This question can be interpreted a couple of different ways using this data.\n",
    "\n",
    "**Q3.5.** Create the Series `artists` where each label is a unique artist and the values represent the number of songs they had in the top 100. Rename the `name` attribute to be 'Unique Songs'. Output the result in descending order."
   ]
  },
  {
   "cell_type": "code",
   "execution_count": 14,
   "metadata": {
    "nbgrader": {
     "grade": false,
     "grade_id": "agg5",
     "locked": false,
     "schema_version": 3,
     "solution": true,
     "task": false
    }
   },
   "outputs": [],
   "source": [
    "# groupby artist with number of songs appeared on top 100\n",
    "\n",
    "# sort new series\n"
   ]
  },
  {
   "cell_type": "markdown",
   "metadata": {
    "nbgrader": {
     "grade": false,
     "grade_id": "asdlfjalsdfjald",
     "locked": true,
     "schema_version": 3,
     "solution": false,
     "task": false
    }
   },
   "source": [
    "**Q3.6.** Create the Series `artists_weeks` where each label is a unique artist and the values represent the total number of weeks their songs appear in the top 100. Rename the `name` attribute to be 'Total Weeks'. Output the result in descending order."
   ]
  },
  {
   "cell_type": "code",
   "execution_count": 15,
   "metadata": {
    "nbgrader": {
     "grade": false,
     "grade_id": "agg6",
     "locked": false,
     "schema_version": 3,
     "solution": true,
     "task": false
    }
   },
   "outputs": [],
   "source": [
    "# groupby artist with number of weeks their songs appeared on top 100\n",
    "\n",
    "# sort new series\n"
   ]
  },
  {
   "cell_type": "markdown",
   "metadata": {
    "nbgrader": {
     "grade": false,
     "grade_id": "cell-fa473d31967c73b5",
     "locked": true,
     "schema_version": 3,
     "solution": false,
     "task": false
    }
   },
   "source": [
    "What other measures of performance could you come up with to determine the best artist using this data?\n",
    "\n",
    "How would you have answered these questions in the original wide format of the data?\n",
    "\n",
    "This short example is representative of the data analysis process. Often, one needs to reshape the data in multiple ways to be able to answer a question. Furthermore, the shape you need your data may depend on what visualization software packages you are using (Matplotlib vs Pandas vs Seaborn)."
   ]
  }
 ],
 "metadata": {
  "celltoolbar": "Create Assignment",
  "kernelspec": {
   "display_name": "Python 3",
   "language": "python",
   "name": "python3"
  },
  "language_info": {
   "codemirror_mode": {
    "name": "ipython",
    "version": 3
   },
   "file_extension": ".py",
   "mimetype": "text/x-python",
   "name": "python",
   "nbconvert_exporter": "python",
   "pygments_lexer": "ipython3",
   "version": "3.8.8"
  }
 },
 "nbformat": 4,
 "nbformat_minor": 4
}
